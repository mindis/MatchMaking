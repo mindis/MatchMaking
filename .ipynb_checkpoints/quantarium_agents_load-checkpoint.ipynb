{
 "cells": [
  {
   "cell_type": "code",
   "execution_count": 1,
   "metadata": {},
   "outputs": [
    {
     "data": {
      "text/plain": [
       "'\\n!sudo apt-get install libpq-dev\\n!sudo pip install --user psycopg2\\n!sudo apt-get build-dep python-psycopg2\\n!pip install psycopg2-binary\\n\\n'"
      ]
     },
     "execution_count": 1,
     "metadata": {},
     "output_type": "execute_result"
    }
   ],
   "source": [
    "'''\n",
    "!sudo apt-get install libpq-dev\n",
    "!sudo pip install --user psycopg2\n",
    "!sudo apt-get build-dep python-psycopg2\n",
    "!pip install psycopg2-binary\n",
    "\n",
    "'''\n"
   ]
  },
  {
   "cell_type": "code",
   "execution_count": 1,
   "metadata": {},
   "outputs": [],
   "source": [
    "import pandas as pd\n",
    "from collections import defaultdict\n",
    "import seaborn as sns\n",
    "import matplotlib.pyplot as plt\n",
    "import json\n",
    "import requests\n",
    "\n",
    "\n",
    "pd.set_option('display.max_colwidth', -1)\n",
    "pd.set_option('display.max_rows', 50000)\n",
    "pd.set_option('display.max_columns', 5000)\n",
    "pd.set_option('display.width', 1000)\n",
    "\n"
   ]
  },
  {
   "cell_type": "code",
   "execution_count": 2,
   "metadata": {},
   "outputs": [
    {
     "name": "stdout",
     "output_type": "stream",
     "text": [
      "Database opened successfully\n"
     ]
    }
   ],
   "source": [
    "import psycopg2\n",
    "\n",
    "con = psycopg2.connect(database=DB_NAME, user=USERNAME, password=PASSWORD, host=HOST_NAME, port='5434')\n",
    "\n",
    "print(\"Database opened successfully\")"
   ]
  },
  {
   "cell_type": "markdown",
   "metadata": {},
   "source": [
    "'''\n",
    "sql = \"\"\"\n",
    "        SELECT table_name FROM information_schema.tables WHERE table_schema ='etl'\n",
    "        limit 10\n",
    "      \"\"\"  \n",
    "'''\n",
    "\n",
    "sql = \"\"\"\n",
    "        SELECT * FROM etl.raw_listings where data_source =3\n",
    "        limit 10\n",
    "      \"\"\"  \n"
   ]
  },
  {
   "cell_type": "code",
   "execution_count": 3,
   "metadata": {},
   "outputs": [],
   "source": [
    "#(raw_data->'{}'->>'{}')::integer * 100 price_in_cents,\n",
    "#'listing_data','list_price',\n",
    "\n",
    "sql = \"\"\"\n",
    "        select \n",
    "            raw_data->'{}'->>'{}' beds,\n",
    "            (raw_data->'{}'->>'{}') listing_id,\n",
    "            (raw_data->'{}'->>'{}') price_in_dollars,\n",
    "            CASE\n",
    "             WHEN raw_data->'{}'->>'{}' in ('Single Family Detached', 'RSFR', 'RMOB', 'Single Family Attached', 'Manufactured Home', 'RMFD', 'Site-Built Home', 'RAPT') THEN 'House'\n",
    "             WHEN raw_data->'{}'->>'{}' in ('RCON', 'Condominium', 'RDUP', 'Duplex', 'Apartment', 'RCOO')  THEN 'Apartment'\n",
    "             WHEN raw_data->'{}'->>'{}' in ('RCOO')  THEN 'House,Apartment'\n",
    "             WHEN raw_data->'{}'->>'{}' in ('Townhouse', 'VRES', 'VRES')  THEN 'Townhouse,House,Apartment'\n",
    "             ELSE  'Others'\n",
    "            END property_type,\n",
    "            raw_data->'{}'->>'{}' state,\n",
    "            raw_data->'{}'->>'{}' city,\n",
    "            raw_data->'{}'->>'{}' county,\n",
    "            raw_data->'{}'->>'{}' agent_name,\n",
    "            raw_data->'{}'->>'{}' agent_phone,\n",
    "            raw_data->'{}'->>'{}' agent_email,\n",
    "            raw_data->'{}'->>'{}' agent_office,\n",
    "            raw_data->'{}'->>'{}' agent_office_phone,\n",
    "            raw_data->'{}'->>'{}' agent_office_email,\n",
    "            raw_data->'{}'->>'{}' agent_office_id\n",
    "        from etl.raw_listings \n",
    "        where data_source = '{}'\n",
    " \"\"\".format(       'basic_data','bedrooms',\n",
    "                   'listing_data','list_price',\n",
    "                   'listing_data','list_price',\n",
    "                   'basic_data','use_code',\n",
    "                   'basic_data','use_code',\n",
    "                   'basic_data','use_code',\n",
    "                   'basic_data','use_code',\n",
    "                   'basic_data','state',\n",
    "                   'basic_data','city',\n",
    "                   'basic_data','county', \n",
    "                   'details','ag_name' ,\n",
    "                   'details','ag_phone' ,\n",
    "                   'details','ag_email' ,\n",
    "                   'details','ag_office_name' ,\n",
    "                   'details','ag_office_phone' ,\n",
    "                   'details','ag_office_email',\n",
    "                   'details','ag_office_id',\n",
    "                    3)"
   ]
  },
  {
   "cell_type": "code",
   "execution_count": 4,
   "metadata": {},
   "outputs": [],
   "source": [
    "import pandas as pd\n",
    "df_us = pd.read_sql_query(sql,con=con)"
   ]
  },
  {
   "cell_type": "code",
   "execution_count": 5,
   "metadata": {},
   "outputs": [
    {
     "data": {
      "text/plain": [
       "21.0"
      ]
     },
     "execution_count": 5,
     "metadata": {},
     "output_type": "execute_result"
    }
   ],
   "source": [
    "df_us.county.str.len().max()"
   ]
  },
  {
   "cell_type": "code",
   "execution_count": 6,
   "metadata": {},
   "outputs": [
    {
     "data": {
      "text/plain": [
       "array(['HANALEI', 'WAIANAE', 'KNOXVILLE', ..., 'COSSAYUNA',\n",
       "       'MC INDOE FALLS', 'CUMMAQUID'], dtype=object)"
      ]
     },
     "execution_count": 6,
     "metadata": {},
     "output_type": "execute_result"
    }
   ],
   "source": [
    "df_us.city.unique()"
   ]
  },
  {
   "cell_type": "code",
   "execution_count": 7,
   "metadata": {},
   "outputs": [
    {
     "data": {
      "text/html": [
       "<div>\n",
       "<style scoped>\n",
       "    .dataframe tbody tr th:only-of-type {\n",
       "        vertical-align: middle;\n",
       "    }\n",
       "\n",
       "    .dataframe tbody tr th {\n",
       "        vertical-align: top;\n",
       "    }\n",
       "\n",
       "    .dataframe thead th {\n",
       "        text-align: right;\n",
       "    }\n",
       "</style>\n",
       "<table border=\"1\" class=\"dataframe\">\n",
       "  <thead>\n",
       "    <tr style=\"text-align: right;\">\n",
       "      <th></th>\n",
       "      <th>beds</th>\n",
       "      <th>listing_id</th>\n",
       "      <th>price_in_dollars</th>\n",
       "      <th>property_type</th>\n",
       "      <th>state</th>\n",
       "      <th>city</th>\n",
       "      <th>county</th>\n",
       "      <th>agent_name</th>\n",
       "      <th>agent_phone</th>\n",
       "      <th>agent_email</th>\n",
       "      <th>agent_office</th>\n",
       "      <th>agent_office_phone</th>\n",
       "      <th>agent_office_email</th>\n",
       "      <th>agent_office_id</th>\n",
       "    </tr>\n",
       "  </thead>\n",
       "  <tbody>\n",
       "    <tr>\n",
       "      <td>421299</td>\n",
       "      <td>4</td>\n",
       "      <td>278900</td>\n",
       "      <td>278900</td>\n",
       "      <td>House</td>\n",
       "      <td>VA</td>\n",
       "      <td>COLONIAL HEIGHTS</td>\n",
       "      <td>COLONIAL HEIGHTS CITY</td>\n",
       "      <td>Jenny Maraghy</td>\n",
       "      <td>None</td>\n",
       "      <td>jenny@jennymaraghyteam.com</td>\n",
       "      <td>Joyner Fine Properties</td>\n",
       "      <td>804-270-9440</td>\n",
       "      <td>kathie.warren@joynerfp.com</td>\n",
       "      <td>JOYN05</td>\n",
       "    </tr>\n",
       "    <tr>\n",
       "      <td>421302</td>\n",
       "      <td>4</td>\n",
       "      <td>335000</td>\n",
       "      <td>335000</td>\n",
       "      <td>House</td>\n",
       "      <td>VA</td>\n",
       "      <td>COLONIAL HEIGHTS</td>\n",
       "      <td>COLONIAL HEIGHTS CITY</td>\n",
       "      <td>David Patsel</td>\n",
       "      <td>None</td>\n",
       "      <td>david.patsel@napierera.com</td>\n",
       "      <td>Napier Realtors, ERA</td>\n",
       "      <td>804-524-9001</td>\n",
       "      <td>colonialheights@napierera.com</td>\n",
       "      <td>STCR01</td>\n",
       "    </tr>\n",
       "    <tr>\n",
       "      <td>596986</td>\n",
       "      <td>2</td>\n",
       "      <td>159900</td>\n",
       "      <td>159900</td>\n",
       "      <td>House</td>\n",
       "      <td>VA</td>\n",
       "      <td>COLONIAL HEIGHTS</td>\n",
       "      <td>COLONIAL HEIGHTS CITY</td>\n",
       "      <td>Samantha Tyler</td>\n",
       "      <td>None</td>\n",
       "      <td>samantha.tyler.trg@gmail.com</td>\n",
       "      <td>Tyler Realty Group</td>\n",
       "      <td>804-526-3030</td>\n",
       "      <td>jtyler@tylerrealtygroup.com</td>\n",
       "      <td>TRIC01</td>\n",
       "    </tr>\n",
       "    <tr>\n",
       "      <td>636088</td>\n",
       "      <td>4</td>\n",
       "      <td>219999</td>\n",
       "      <td>219999</td>\n",
       "      <td>House</td>\n",
       "      <td>VA</td>\n",
       "      <td>COLONIAL HEIGHTS</td>\n",
       "      <td>COLONIAL HEIGHTS CITY</td>\n",
       "      <td>Susan Magee</td>\n",
       "      <td>None</td>\n",
       "      <td>susan@SusanmageeHomes.com</td>\n",
       "      <td>Keller Williams Midlothian</td>\n",
       "      <td>804-858-9000</td>\n",
       "      <td>KathyEdwards@kw.com</td>\n",
       "      <td>KLRW01</td>\n",
       "    </tr>\n",
       "  </tbody>\n",
       "</table>\n",
       "</div>"
      ],
      "text/plain": [
       "       beds listing_id price_in_dollars property_type state              city                 county      agent_name agent_phone                   agent_email                agent_office agent_office_phone             agent_office_email agent_office_id\n",
       "421299  4    278900     278900           House         VA    COLONIAL HEIGHTS  COLONIAL HEIGHTS CITY  Jenny Maraghy   None        jenny@jennymaraghyteam.com    Joyner Fine Properties      804-270-9440       kathie.warren@joynerfp.com     JOYN05        \n",
       "421302  4    335000     335000           House         VA    COLONIAL HEIGHTS  COLONIAL HEIGHTS CITY  David Patsel    None        david.patsel@napierera.com    Napier Realtors, ERA        804-524-9001       colonialheights@napierera.com  STCR01        \n",
       "596986  2    159900     159900           House         VA    COLONIAL HEIGHTS  COLONIAL HEIGHTS CITY  Samantha Tyler  None        samantha.tyler.trg@gmail.com  Tyler Realty Group          804-526-3030       jtyler@tylerrealtygroup.com    TRIC01        \n",
       "636088  4    219999     219999           House         VA    COLONIAL HEIGHTS  COLONIAL HEIGHTS CITY  Susan Magee     None        susan@SusanmageeHomes.com     Keller Williams Midlothian  804-858-9000       KathyEdwards@kw.com            KLRW01        "
      ]
     },
     "execution_count": 7,
     "metadata": {},
     "output_type": "execute_result"
    }
   ],
   "source": [
    "df_us[df_us.county.str.len()==21].head(4)"
   ]
  },
  {
   "cell_type": "code",
   "execution_count": 8,
   "metadata": {},
   "outputs": [
    {
     "data": {
      "text/plain": [
       "(1201451, 14)"
      ]
     },
     "execution_count": 8,
     "metadata": {},
     "output_type": "execute_result"
    }
   ],
   "source": [
    "df_us.shape"
   ]
  },
  {
   "cell_type": "code",
   "execution_count": null,
   "metadata": {},
   "outputs": [],
   "source": [
    "#df_us['external_id']=(df_us['external_id'].str.split('|'))"
   ]
  },
  {
   "cell_type": "code",
   "execution_count": 9,
   "metadata": {},
   "outputs": [
    {
     "data": {
      "text/plain": [
       "FL    113948\n",
       "CA    113422\n",
       "TX    80351 \n",
       "NY    64645 \n",
       "IL    60407 \n",
       "MI    54196 \n",
       "GA    44969 \n",
       "NJ    42140 \n",
       "PA    40558 \n",
       "NC    38106 \n",
       "OH    34530 \n",
       "WA    31928 \n",
       "AZ    26643 \n",
       "VA    25674 \n",
       "WI    24754 \n",
       "OR    24174 \n",
       "MN    24015 \n",
       "CO    23242 \n",
       "MD    23100 \n",
       "SC    22494 \n",
       "IN    22205 \n",
       "MO    21897 \n",
       "CT    20197 \n",
       "MA    18830 \n",
       "TN    18300 \n",
       "NV    17626 \n",
       "AL    14591 \n",
       "OK    13982 \n",
       "LA    12166 \n",
       "KY    11389 \n",
       "ME    10259 \n",
       "AR    10185 \n",
       "IA    10102 \n",
       "UT    9952  \n",
       "ID    8098  \n",
       "KS    7551  \n",
       "NM    5757  \n",
       "NH    5679  \n",
       "MS    5560  \n",
       "HI    5362  \n",
       "RI    5037  \n",
       "MT    5024  \n",
       "WV    4793  \n",
       "NE    4454  \n",
       "AK    4297  \n",
       "DE    3636  \n",
       "VT    2863  \n",
       "SD    2407  \n",
       "WY    2177  \n",
       "ND    2031  \n",
       "DC    1748  \n",
       "Name: state, dtype: int64"
      ]
     },
     "execution_count": 9,
     "metadata": {},
     "output_type": "execute_result"
    }
   ],
   "source": [
    "df_us['state'].value_counts()"
   ]
  },
  {
   "cell_type": "code",
   "execution_count": 10,
   "metadata": {},
   "outputs": [
    {
     "data": {
      "text/plain": [
       "House                        954060\n",
       "Apartment                    186488\n",
       "Townhouse,House,Apartment    40399 \n",
       "Others                       20504 \n",
       "Name: property_type, dtype: int64"
      ]
     },
     "execution_count": 10,
     "metadata": {},
     "output_type": "execute_result"
    }
   ],
   "source": [
    "df_us['property_type'].value_counts()"
   ]
  },
  {
   "cell_type": "code",
   "execution_count": 11,
   "metadata": {},
   "outputs": [
    {
     "data": {
      "text/plain": [
       "3      487930\n",
       "4      323647\n",
       "2      183061\n",
       "5      106228\n",
       "1      32808 \n",
       "0      30189 \n",
       "6      26762 \n",
       "7      5722  \n",
       "8      2706  \n",
       "9      1034  \n",
       "10     474   \n",
       "12     319   \n",
       "11     183   \n",
       "14     75    \n",
       "13     57    \n",
       "16     53    \n",
       "18     51    \n",
       "15     48    \n",
       "20     25    \n",
       "17     17    \n",
       "19     11    \n",
       "21     8     \n",
       "22     4     \n",
       "24     4     \n",
       "30     4     \n",
       "41     4     \n",
       "28     3     \n",
       "23     2     \n",
       "32     2     \n",
       "31     2     \n",
       "44     2     \n",
       "40     2     \n",
       "110    1     \n",
       "25     1     \n",
       "36     1     \n",
       "46     1     \n",
       "55     1     \n",
       "38     1     \n",
       "29     1     \n",
       "42     1     \n",
       "54     1     \n",
       "100    1     \n",
       "26     1     \n",
       "34     1     \n",
       "33     1     \n",
       "35     1     \n",
       "Name: beds, dtype: int64"
      ]
     },
     "execution_count": 11,
     "metadata": {},
     "output_type": "execute_result"
    }
   ],
   "source": [
    "df_us['beds'].value_counts()"
   ]
  },
  {
   "cell_type": "markdown",
   "metadata": {},
   "source": [
    "# PostgreSQL\n",
    "org=[]\n",
    "listing=[]\n",
    "bed=[]\n",
    "price_in_dollars=[]\n",
    "property_type=[]\n",
    "db_state=[]\n",
    "db_city=[]\n",
    "db_county=[]\n",
    "\n",
    "#QUANTARIUM API\n",
    "agent_id=[]\n",
    "agent_name=[]\n",
    "agent_phone=[]\n",
    "agent_email=[]\n",
    "agent_office=[]\n",
    "agent_office_id=[]\n",
    "agent_office_phone=[]\n",
    "agent_office_email=[]\n",
    "agent_remarks=[]\n",
    "\n",
    "\n",
    "cnt=0"
   ]
  },
  {
   "cell_type": "markdown",
   "metadata": {},
   "source": [
    "## Test Link\n",
    "#url=\"https://qvm.quantarium.com/QDataService/GetListingRecords\"\n",
    "    \n",
    "## Production Link\n",
    "url=\"https://qvmservices.quantarium.com/QDataService/GetListingRecords\"\n",
    "    \n",
    "## Test Header\n",
    "#headers = {'content-type':'application/json', 'X-Quantarium-UserId':'NestReady-Test','X-Quantarium-UserKey':'pda-{54gw4E^gv1vNWhP'}\n",
    "    \n",
    "## Production Header\n",
    "headers = {'content-type':'application/json', 'X-Quantarium-UserId':'Nestready','X-Quantarium-UserKey':'PyXmp5&k]IQNxRu9'}\n",
    "    \n",
    "for i in range(0, len(df_us)):\n",
    "    \n",
    "    listing_id = df_us['listing_id'][i]\n",
    "    org_id     = df_us[\"org_id\"][i]\n",
    "    \n",
    "    # Sample Test\n",
    "    #listing_id='4069581'\n",
    "    #org='NJOCBR'\n",
    "    \n",
    "    #Test\n",
    "    #payload = {'id':listing_id, 'org':org,'u':'NestReady-Test','k':'pda-{54gw4E^gv1vNWhP'}\n",
    "    \n",
    "    #Production\n",
    "    payload = {'id':listing_id, 'org':org_id,'u':'Nestready','k':'PyXmp5&k]IQNxRu9'}\n",
    "    \n",
    "    \n",
    "    response = requests.get(url, params= payload)\n",
    "    \n",
    "    if response.status_code == 200:\n",
    "        #print(\"listings found in API - \",listing_id)\n",
    "        cnt=cnt+1\n",
    "\n",
    "        if cnt %100000 == 0:\n",
    "            print(\"Total records processed- \",cnt)\n",
    "\n",
    "        data= json.loads(response.content.decode('utf-8'))\n",
    "        \n",
    "        org.append(org_id)\n",
    "        listing.append(listing_id)\n",
    "        bed.append(df_us['beds'][i])\n",
    "        price_in_dollars.append(df_us[\"price_in_dollars\"][i])\n",
    "        property_type.append(df_us[\"property_type\"][i])\n",
    "        db_state.append(df_us[\"state\"][i])\n",
    "        db_city.append(df_us[\"city\"][i])\n",
    "        db_county.append(df_us[\"county\"][i])\n",
    "        \n",
    "        ag_id_f, ag_name_f, ag_phone_f, ag_email_f, ag_office_name_f = False,False,False,False,False\n",
    "        ag_office_id_f, ag_office_phone_f, ag_office_email_f, ag_remarks_f= False,False,False,False\n",
    "                \n",
    "       \n",
    "        for i in data['details'].keys():\n",
    "            \n",
    "            if i == 'ag_id':\n",
    "                ag_id_f= True\n",
    "                \n",
    "            elif i == 'ag_name':\n",
    "                ag_name_f= True\n",
    "                \n",
    "            elif i == 'ag_phone':\n",
    "                ag_phone_f= True\n",
    "                \n",
    "            elif i == 'ag_email':\n",
    "                ag_email_f= True\n",
    "                \n",
    "            elif i == 'ag_office_name':\n",
    "                ag_office_name_f=True\n",
    "                \n",
    "            elif i == 'ag_office_id':\n",
    "                ag_office_id_f=True\n",
    "                \n",
    "            elif i == 'ag_office_phone':\n",
    "                ag_office_phone_f=True\n",
    "                \n",
    "            elif i == 'ag_office_email':\n",
    "                ag_office_email_f=True\n",
    "                \n",
    "            elif i == 'ag_remarks':\n",
    "                ag_remarks_f=True\n",
    "                \n",
    "                \n",
    "        agent_id.append(data['details']['ag_id']) if ag_id_f else agent_id.append(None)\n",
    "        \n",
    "        agent_name.append(data['details']['ag_name']) if ag_name_f else agent_name.append(None)\n",
    "        \n",
    "        \n",
    "        if ag_phone_f:\n",
    "            agent_phone.append(data['details']['ag_phone']) \n",
    "        elif ag_office_phone_f:\n",
    "            agent_phone.append(data['details']['ag_office_phone']) \n",
    "        else:\n",
    "            agent_phone.append(None)\n",
    "        \n",
    "        agent_email.append(data['details']['ag_email']) if ag_email_f else agent_email.append('')\n",
    "        \n",
    "        agent_office.append(data['details']['ag_office_name']) if ag_office_name_f else agent_office.append('')\n",
    "        \n",
    "        agent_office_id.append(data['details']['ag_office_id']) if ag_office_id_f else agent_office_id.append('')\n",
    "        \n",
    "        agent_office_phone.append(data['details']['ag_office_phone']) if ag_office_phone_f else agent_office_phone.append('')\n",
    "    \n",
    "        agent_office_email.append(data['details']['ag_office_email']) if ag_office_email_f else agent_office_email.append('')\n",
    "        \n",
    "        agent_remarks.append(data['details']['ag_remarks']) if ag_remarks_f else agent_remarks.append('')\n",
    "        \n",
    "      \n",
    "    else:\n",
    "        print( \"Error Returned -  \"+ str(response.text)+', status: ',str(response.status_code))\n"
   ]
  },
  {
   "cell_type": "markdown",
   "metadata": {},
   "source": [
    "d = {        'agent_id':agent_id,\n",
    "             'agent_name':agent_name,\n",
    "             'agent_phone':agent_phone, \n",
    "             'agent_email':agent_email, \n",
    "             'agent_office':agent_office,\n",
    "             'agent_office_id':agent_office_id,\n",
    "             'agent_office_phone':agent_office_phone,\n",
    "             'agent_office_email':agent_office_email,\n",
    "             'agent_remarks':agent_remarks,\n",
    "             'listing_id':listing,\n",
    "             'org_id':org,\n",
    "             'beds':bed,\n",
    "             'price_in_dollars':price_in_dollars,\n",
    "             'property_type':property_type,\n",
    "             'county':db_county,\n",
    "             'city':db_city,\n",
    "             'state':db_state\n",
    "            }\n",
    "        \n",
    "df=pd.DataFrame(data=d)\n",
    "\n",
    "df = df[['agent_id','agent_name', 'agent_phone','agent_email','agent_office','agent_office_id','agent_office_phone','agent_office_email','agent_remarks'\n",
    "        ,'listing_id','org_id','beds','price_in_dollars','property_type','county','city','state']]\n",
    "    "
   ]
  },
  {
   "cell_type": "code",
   "execution_count": 12,
   "metadata": {},
   "outputs": [
    {
     "data": {
      "text/plain": [
       "agent_office_email    57.09\n",
       "agent_phone           42.49\n",
       "agent_email           25.75\n",
       "agent_office_phone    13.17\n",
       "agent_name            6.96 \n",
       "agent_office          5.15 \n",
       "agent_office_id       4.20 \n",
       "county                0.04 \n",
       "city                  0.00 \n",
       "state                 0.00 \n",
       "property_type         0.00 \n",
       "price_in_dollars      0.00 \n",
       "listing_id            0.00 \n",
       "beds                  0.00 \n",
       "dtype: float64"
      ]
     },
     "execution_count": 12,
     "metadata": {},
     "output_type": "execute_result"
    }
   ],
   "source": [
    "(df_us.isna().mean().round(4)*100).sort_values(ascending=False)"
   ]
  },
  {
   "cell_type": "code",
   "execution_count": null,
   "metadata": {},
   "outputs": [],
   "source": [
    "#df.loc[ ((df.property_sub_type != 'Apartment') & (df.property_sub_type != 'Townhouse') & (df.property_sub_type != 'Single Family Detached')), 'property_sub_type'] = 'Others' \n",
    "\n"
   ]
  },
  {
   "cell_type": "code",
   "execution_count": 13,
   "metadata": {},
   "outputs": [],
   "source": [
    "df=df_us[df_us.agent_name !='' ]"
   ]
  },
  {
   "cell_type": "code",
   "execution_count": 14,
   "metadata": {},
   "outputs": [],
   "source": [
    "df=df.dropna(subset=['agent_name','city','county','state']).reset_index (drop=True)\n"
   ]
  },
  {
   "cell_type": "code",
   "execution_count": 15,
   "metadata": {},
   "outputs": [
    {
     "data": {
      "text/plain": [
       "((1201451, 14), (1117351, 14))"
      ]
     },
     "execution_count": 15,
     "metadata": {},
     "output_type": "execute_result"
    }
   ],
   "source": [
    "df_us.shape, df.shape"
   ]
  },
  {
   "cell_type": "code",
   "execution_count": 16,
   "metadata": {},
   "outputs": [],
   "source": [
    "# replace null agent_phone with agent_office_phone\n",
    "\n",
    "df[\"agent_phone\"] = df[\"agent_phone\"].fillna(df.agent_office_phone)\n"
   ]
  },
  {
   "cell_type": "code",
   "execution_count": 17,
   "metadata": {},
   "outputs": [],
   "source": [
    "df=df.dropna(subset=['agent_name','city','county','state','agent_phone']).reset_index (drop=True)\n"
   ]
  },
  {
   "cell_type": "code",
   "execution_count": 18,
   "metadata": {},
   "outputs": [
    {
     "data": {
      "text/plain": [
       "agent_office_email    52.82\n",
       "agent_email           17.68\n",
       "agent_office_phone    3.40 \n",
       "agent_office          0.64 \n",
       "agent_office_id       0.00 \n",
       "agent_phone           0.00 \n",
       "agent_name            0.00 \n",
       "county                0.00 \n",
       "city                  0.00 \n",
       "state                 0.00 \n",
       "property_type         0.00 \n",
       "price_in_dollars      0.00 \n",
       "listing_id            0.00 \n",
       "beds                  0.00 \n",
       "dtype: float64"
      ]
     },
     "execution_count": 18,
     "metadata": {},
     "output_type": "execute_result"
    }
   ],
   "source": [
    "(df.isna().mean().round(4)*100).sort_values(ascending=False)"
   ]
  },
  {
   "cell_type": "code",
   "execution_count": 19,
   "metadata": {},
   "outputs": [
    {
     "data": {
      "text/plain": [
       "((1201451, 14), (1060236, 14))"
      ]
     },
     "execution_count": 19,
     "metadata": {},
     "output_type": "execute_result"
    }
   ],
   "source": [
    "df_us.shape, df.shape"
   ]
  },
  {
   "cell_type": "code",
   "execution_count": 20,
   "metadata": {},
   "outputs": [],
   "source": [
    "# Strip all strings -- Not required in this version\n",
    "df.agent_name=df.agent_name.str.strip()\n",
    "df.agent_email=df.agent_email.str.strip()\n",
    "df.county=df.county.str.strip()\n",
    "df.state=df.state.str.strip()\n",
    "df.property_type=df.property_type.str.strip()\n",
    "\n"
   ]
  },
  {
   "cell_type": "code",
   "execution_count": 21,
   "metadata": {},
   "outputs": [
    {
     "data": {
      "text/plain": [
       "array(['LAKESIDE-MARBLEHEAD', 'LOCKPORT-TOWN'], dtype=object)"
      ]
     },
     "execution_count": 21,
     "metadata": {},
     "output_type": "execute_result"
    }
   ],
   "source": [
    "# CITY values normalization\n",
    "\n",
    "# Before \n",
    "\n",
    "df['city'][df.city.str.contains('-')].unique()\n"
   ]
  },
  {
   "cell_type": "code",
   "execution_count": 22,
   "metadata": {},
   "outputs": [
    {
     "data": {
      "text/plain": [
       "array(['ST PAUL', 'ST ANTHONY', 'ST CHARLES', 'ST MARIES', 'ST GEORGE',\n",
       "       'ST AUGUSTINE', 'ST MICHAELS', 'ST PETE BEACH', 'ST PETERSBURG',\n",
       "       'ST JAMES CITY', 'ST JOHN', 'ST AUGUSTINE BEACH', 'ST CLAIRSVILLE',\n",
       "       'ST MATTHEWS', 'ST HELENA IS', 'ST LOUIS', 'ST REGIS FLS',\n",
       "       'ST JOHNSBURY', 'ST JOHNSVILLE', 'ST HELENA', 'ST JOHNS',\n",
       "       'ST JOSEPH', 'ST FRANCISVILLE', 'ST PETERS'], dtype=object)"
      ]
     },
     "execution_count": 22,
     "metadata": {},
     "output_type": "execute_result"
    }
   ],
   "source": [
    "df['city'][df.city.str.match('ST ')].unique()"
   ]
  },
  {
   "cell_type": "code",
   "execution_count": 23,
   "metadata": {},
   "outputs": [
    {
     "data": {
      "text/plain": [
       "(24,)"
      ]
     },
     "execution_count": 23,
     "metadata": {},
     "output_type": "execute_result"
    }
   ],
   "source": [
    "df['city'][df.city.str.match('ST ')].unique().shape"
   ]
  },
  {
   "cell_type": "code",
   "execution_count": 25,
   "metadata": {},
   "outputs": [
    {
     "data": {
      "text/plain": [
       "array(['SAINT JOHNS', 'SAINT HELENA', 'SAINT JOHN', 'SAINT JAMES',\n",
       "       'SAINT THOMAS', 'SAINT JOSEPH', 'SAINT CHARLES', 'SAINT LOUIS',\n",
       "       'SAINT JACOB', 'SAINT GERMAIN', 'SAINT PARIS', 'SAINT PAUL',\n",
       "       'SAINT LOUIS PARK', 'SAINT ANTHONY', 'SAINT GEORGE',\n",
       "       'SAINT JOHNSVILLE', 'SAINT MARIES', 'SAINT REGIS',\n",
       "       'SAINT IGNATIUS', 'SAINT PAUL PARK', 'SAINT CROIX FALLS',\n",
       "       'SAINT BONIFACIUS', 'SAINT CLOUD', 'SAINT JO', 'SAINT DAVID',\n",
       "       'SAINT CLAIR SHORES', 'SAINT ALBANS', 'SAINT CLAIR', 'SAINT JOE',\n",
       "       'SAINT PETERSBURG', 'SAINT JAMES CITY', 'SAINT MARYS',\n",
       "       'SAINT HEDWIG', 'SAINT SIMONS IS', 'SAINT LEO',\n",
       "       'SAINT CLAIRSVILLE', 'SAINT NAZIANZ', 'SAINT AUGUSTA',\n",
       "       'SAINT STEPHEN', 'SAINT HELENA ISLAND', 'SAINT PETER',\n",
       "       'SAINT MICHAEL', 'SAINT FRANCIS', 'SAINT LUCIE WEST',\n",
       "       'SAINT ANSGAR', 'SAINT CATHARINE', 'SAINT MARYS POINT',\n",
       "       'SAINT MARTINVILLE', 'SAINT FRANCISVILLE', 'SAINT ROBERT',\n",
       "       'SAINT ANN', 'SAINT AMANT', 'SAINT BERNARD', 'SAINT PETERS',\n",
       "       'SAINT GABRIEL', 'SAINT ROSE', 'SAINT MARY', 'SAINT ANNE',\n",
       "       'SAINT ELMO', 'SAINT PAULS', 'SAINT GEORGE ISLAND', 'SAINT HELEN',\n",
       "       'SAINT LEONARD', 'SAINT CROIX', 'SAINT INIGOES', 'SAINT MICHAELS',\n",
       "       'SAINT AUGUSTINE', 'SAINT IGNACE', 'SAINT HUBERTS', 'SAINT AGATHA',\n",
       "       'SAINT LOUISVILLE', 'SAINT STEPHENS CHURCH', 'SAINT MEINRAD',\n",
       "       'SAINT LIBORY', 'SAINT MATTHEWS'], dtype=object)"
      ]
     },
     "execution_count": 25,
     "metadata": {},
     "output_type": "execute_result"
    }
   ],
   "source": [
    "df['city'][df.city.str.match('SAINT ')].unique()"
   ]
  },
  {
   "cell_type": "code",
   "execution_count": 391,
   "metadata": {},
   "outputs": [
    {
     "data": {
      "text/plain": [
       "(75,)"
      ]
     },
     "execution_count": 391,
     "metadata": {},
     "output_type": "execute_result"
    }
   ],
   "source": [
    "df['city'][df.city.str.match('SAINT ')].unique().shape"
   ]
  },
  {
   "cell_type": "code",
   "execution_count": 27,
   "metadata": {},
   "outputs": [],
   "source": [
    "# CHANGE \n",
    "import re\n",
    "df.city = df.city.str.replace('-',' ')\n",
    "df.city = df.city.str.lower()\n",
    "df.city = df.city.map(lambda x: re.sub(r'^(st.|st|$t|$t.)\\s', r'saint ',x, flags=re.IGNORECASE))\n",
    "df.city = df.city.map(lambda x: re.sub(r'\\s(st.|st|$t|$t.)$', r' street',x, flags=re.IGNORECASE))\n",
    "df.city = df.city.map(lambda x: re.sub('[ \\t]+', ' ', x))# removes extra space in between 2/3 grams\n",
    "#df.city = df.city.str.replace(' ','')\n"
   ]
  },
  {
   "cell_type": "code",
   "execution_count": null,
   "metadata": {},
   "outputs": [],
   "source": [
    "# After "
   ]
  },
  {
   "cell_type": "code",
   "execution_count": 28,
   "metadata": {},
   "outputs": [
    {
     "data": {
      "text/plain": [
       "array([], dtype=object)"
      ]
     },
     "execution_count": 28,
     "metadata": {},
     "output_type": "execute_result"
    }
   ],
   "source": [
    "df['city'][df.city.str.contains('-')].unique()"
   ]
  },
  {
   "cell_type": "code",
   "execution_count": 29,
   "metadata": {},
   "outputs": [
    {
     "data": {
      "text/plain": [
       "array([], dtype=object)"
      ]
     },
     "execution_count": 29,
     "metadata": {},
     "output_type": "execute_result"
    }
   ],
   "source": [
    "df['city'][df.city.str.match('st ')].unique()"
   ]
  },
  {
   "cell_type": "code",
   "execution_count": 30,
   "metadata": {},
   "outputs": [
    {
     "data": {
      "text/plain": [
       "array(['saint johns', 'saint helena', 'saint john', 'saint james',\n",
       "       'saint thomas', 'saint joseph', 'saint charles', 'saint louis',\n",
       "       'saint jacob', 'saint germain', 'saint paris', 'saint paul',\n",
       "       'saint louis park', 'saint anthony', 'saint george',\n",
       "       'saint maries', 'saint johnsville', 'saint regis',\n",
       "       'saint ignatius', 'saint paul park', 'saint croix falls',\n",
       "       'saint bonifacius', 'saint augustine', 'saint cloud', 'saint jo',\n",
       "       'saint david', 'saint michaels', 'saint clair shores',\n",
       "       'saint albans', 'saint clair', 'saint pete beach',\n",
       "       'saint petersburg', 'saint joe', 'saint james city', 'saint marys',\n",
       "       'saint hedwig', 'saint simons is', 'saint augustine beach',\n",
       "       'saint leo', 'saint clairsville', 'saint nazianz',\n",
       "       'saint matthews', 'saint augusta', 'saint stephen',\n",
       "       'saint helena island', 'saint helena is', 'saint peter',\n",
       "       'saint michael', 'saint francis', 'saint lucie west',\n",
       "       'saint ansgar', 'saint catharine', 'saint marys point',\n",
       "       'saint martinville', 'saint francisville', 'saint robert',\n",
       "       'saint ann', 'saint genevieve', 'saint amant', 'saint bernard',\n",
       "       'saint peters', 'saint gabriel', 'saint rose', 'saint mary',\n",
       "       'saint anne', 'saint elmo', 'saint pauls', 'saint george island',\n",
       "       'saint helen', 'saint leonard', 'saint croix', 'saint inigoes',\n",
       "       'saint ignace', 'saint regis fls', 'saint johnsbury',\n",
       "       'saint huberts', 'saint agatha', 'saint louisville',\n",
       "       'saint stephens church', 'saint meinrad', 'saint libory'],\n",
       "      dtype=object)"
      ]
     },
     "execution_count": 30,
     "metadata": {},
     "output_type": "execute_result"
    }
   ],
   "source": [
    "df['city'][df.city.str.match('saint ')].unique()"
   ]
  },
  {
   "cell_type": "code",
   "execution_count": 31,
   "metadata": {},
   "outputs": [
    {
     "data": {
      "text/plain": [
       "array(['MIAMI-DADE'], dtype=object)"
      ]
     },
     "execution_count": 31,
     "metadata": {},
     "output_type": "execute_result"
    }
   ],
   "source": [
    "# COUNTY values normalization\n",
    "\n",
    "# Before \n",
    "\n",
    "df['county'][df.county.str.contains('-')].unique()\n",
    "\n"
   ]
  },
  {
   "cell_type": "code",
   "execution_count": 32,
   "metadata": {},
   "outputs": [
    {
     "data": {
      "text/plain": [
       "array(['ST JOHNS', 'ST JAMES', 'ST FRANCOIS', 'ST LOUIS', 'ST CHARLES',\n",
       "       'ST LOUIS CITY', 'ST TAMMANY', 'ST CLAIR', 'ST MARYS',\n",
       "       'ST LAWRENCE', 'ST LUCIE', 'ST CROIX', 'ST LANDRY', 'ST MARTIN',\n",
       "       'ST MARY', 'ST BERNARD', 'ST HELENA', 'ST JOHN THE BAPTIST',\n",
       "       'ST JOSEPH', 'ST FRANCIS'], dtype=object)"
      ]
     },
     "execution_count": 32,
     "metadata": {},
     "output_type": "execute_result"
    }
   ],
   "source": [
    "df['county'][df.county.str.match('ST ')].unique()"
   ]
  },
  {
   "cell_type": "code",
   "execution_count": 33,
   "metadata": {},
   "outputs": [],
   "source": [
    "# CHANGE \n",
    "\n",
    "df['county'][df.county.str.contains('-')].unique()\n",
    "\n",
    "df.county = df.county.str.replace('-',' ')\n",
    "df.county = df.county.str.lower()\n",
    "df.county = df.county.map(lambda x: re.sub(r'^(st.|st|$t|$t.)\\s', r'saint ',x, flags=re.IGNORECASE))\n",
    "df.county = df.county.map(lambda x: re.sub(r'\\s(st.|st|$t|$t.)$', r' street',x, flags=re.IGNORECASE))\n",
    "df.county = df.county.map(lambda x: re.sub('[ \\t]+', ' ', x))# removes extra space in between 2/3 grams"
   ]
  },
  {
   "cell_type": "code",
   "execution_count": 34,
   "metadata": {},
   "outputs": [
    {
     "data": {
      "text/plain": [
       "array([], dtype=object)"
      ]
     },
     "execution_count": 34,
     "metadata": {},
     "output_type": "execute_result"
    }
   ],
   "source": [
    "#After\n",
    "df['county'][df.county.str.contains('-')].unique()"
   ]
  },
  {
   "cell_type": "code",
   "execution_count": 35,
   "metadata": {},
   "outputs": [
    {
     "data": {
      "text/plain": [
       "array([], dtype=object)"
      ]
     },
     "execution_count": 35,
     "metadata": {},
     "output_type": "execute_result"
    }
   ],
   "source": [
    "df['county'][df.county.str.match('st ')].unique()"
   ]
  },
  {
   "cell_type": "code",
   "execution_count": 36,
   "metadata": {},
   "outputs": [
    {
     "data": {
      "text/html": [
       "<div>\n",
       "<style scoped>\n",
       "    .dataframe tbody tr th:only-of-type {\n",
       "        vertical-align: middle;\n",
       "    }\n",
       "\n",
       "    .dataframe tbody tr th {\n",
       "        vertical-align: top;\n",
       "    }\n",
       "\n",
       "    .dataframe thead th {\n",
       "        text-align: right;\n",
       "    }\n",
       "</style>\n",
       "<table border=\"1\" class=\"dataframe\">\n",
       "  <thead>\n",
       "    <tr style=\"text-align: right;\">\n",
       "      <th></th>\n",
       "      <th>beds</th>\n",
       "      <th>listing_id</th>\n",
       "      <th>price_in_dollars</th>\n",
       "      <th>property_type</th>\n",
       "      <th>state</th>\n",
       "      <th>city</th>\n",
       "      <th>county</th>\n",
       "      <th>agent_name</th>\n",
       "      <th>agent_phone</th>\n",
       "      <th>agent_email</th>\n",
       "      <th>agent_office</th>\n",
       "      <th>agent_office_phone</th>\n",
       "      <th>agent_office_email</th>\n",
       "      <th>agent_office_id</th>\n",
       "    </tr>\n",
       "  </thead>\n",
       "  <tbody>\n",
       "    <tr>\n",
       "      <td>0</td>\n",
       "      <td>6</td>\n",
       "      <td>15900000</td>\n",
       "      <td>15900000</td>\n",
       "      <td>House</td>\n",
       "      <td>HI</td>\n",
       "      <td>hanalei</td>\n",
       "      <td>kauai</td>\n",
       "      <td>Neal Norman</td>\n",
       "      <td>808-651-1777</td>\n",
       "      <td>neal@hawaiilife.com</td>\n",
       "      <td>Hawaii Life</td>\n",
       "      <td>800-667-5028</td>\n",
       "      <td>None</td>\n",
       "      <td>1267</td>\n",
       "    </tr>\n",
       "    <tr>\n",
       "      <td>1</td>\n",
       "      <td>2</td>\n",
       "      <td>150000</td>\n",
       "      <td>150000</td>\n",
       "      <td>Apartment</td>\n",
       "      <td>HI</td>\n",
       "      <td>waianae</td>\n",
       "      <td>honolulu</td>\n",
       "      <td>Chari Badua-Robinson</td>\n",
       "      <td>808-675-8887</td>\n",
       "      <td>charibadua@gmail.com</td>\n",
       "      <td>The Surrealty Group</td>\n",
       "      <td>808-675-8887</td>\n",
       "      <td>thesurrealtygroup@gmail.com</td>\n",
       "      <td>SRLG</td>\n",
       "    </tr>\n",
       "    <tr>\n",
       "      <td>2</td>\n",
       "      <td>3</td>\n",
       "      <td>332500</td>\n",
       "      <td>332500</td>\n",
       "      <td>House</td>\n",
       "      <td>TN</td>\n",
       "      <td>knoxville</td>\n",
       "      <td>knox</td>\n",
       "      <td>Erin Zhou</td>\n",
       "      <td>865-809-8092</td>\n",
       "      <td>erin.zhou2018@gmail.com</td>\n",
       "      <td>Century 21 Legacy</td>\n",
       "      <td>865-531-2121</td>\n",
       "      <td>None</td>\n",
       "      <td>2715</td>\n",
       "    </tr>\n",
       "    <tr>\n",
       "      <td>3</td>\n",
       "      <td>4</td>\n",
       "      <td>495000</td>\n",
       "      <td>495000</td>\n",
       "      <td>Others</td>\n",
       "      <td>GA</td>\n",
       "      <td>norcross</td>\n",
       "      <td>gwinnett</td>\n",
       "      <td>MARCUS SHIRLEY</td>\n",
       "      <td>404-309-8709</td>\n",
       "      <td>marcus_shirley@bellsouth.net</td>\n",
       "      <td>Virtual Properties Realty.com</td>\n",
       "      <td>770-495-5050</td>\n",
       "      <td>admin@vpradmin.com</td>\n",
       "      <td>VIRT01</td>\n",
       "    </tr>\n",
       "    <tr>\n",
       "      <td>4</td>\n",
       "      <td>4</td>\n",
       "      <td>3950000</td>\n",
       "      <td>3950000</td>\n",
       "      <td>House</td>\n",
       "      <td>HI</td>\n",
       "      <td>lihue</td>\n",
       "      <td>kauai</td>\n",
       "      <td>Dana Temme</td>\n",
       "      <td>808-639-2894</td>\n",
       "      <td>dana@oceanfrontsir.com</td>\n",
       "      <td>Oceanfront Sotheby's International Realty</td>\n",
       "      <td>808-826-7211</td>\n",
       "      <td>None</td>\n",
       "      <td>6109</td>\n",
       "    </tr>\n",
       "  </tbody>\n",
       "</table>\n",
       "</div>"
      ],
      "text/plain": [
       "  beds listing_id price_in_dollars property_type state       city    county            agent_name   agent_phone                   agent_email                               agent_office agent_office_phone           agent_office_email agent_office_id\n",
       "0  6    15900000   15900000         House         HI    hanalei    kauai     Neal Norman           808-651-1777  neal@hawaiilife.com           Hawaii Life                                800-667-5028       None                         1267          \n",
       "1  2    150000     150000           Apartment     HI    waianae    honolulu  Chari Badua-Robinson  808-675-8887  charibadua@gmail.com          The Surrealty Group                        808-675-8887       thesurrealtygroup@gmail.com  SRLG          \n",
       "2  3    332500     332500           House         TN    knoxville  knox      Erin Zhou             865-809-8092  erin.zhou2018@gmail.com       Century 21 Legacy                          865-531-2121       None                         2715          \n",
       "3  4    495000     495000           Others        GA    norcross   gwinnett  MARCUS SHIRLEY        404-309-8709  marcus_shirley@bellsouth.net  Virtual Properties Realty.com              770-495-5050       admin@vpradmin.com           VIRT01        \n",
       "4  4    3950000    3950000          House         HI    lihue      kauai     Dana Temme            808-639-2894  dana@oceanfrontsir.com        Oceanfront Sotheby's International Realty  808-826-7211       None                         6109          "
      ]
     },
     "execution_count": 36,
     "metadata": {},
     "output_type": "execute_result"
    }
   ],
   "source": [
    "df.head(5)"
   ]
  },
  {
   "cell_type": "code",
   "execution_count": null,
   "metadata": {},
   "outputs": [],
   "source": [
    "'''\n",
    "import re\n",
    "for i,value in df2['location_array'].iteritems():\n",
    "    for j in range(0, len(value)):\n",
    "        tmp=df2[\"location_array\"][i][j].strip()\n",
    "        tmp = re.sub(r'^(st.|st|$t|$t.)\\s', r'saint ',tmp, flags=re.IGNORECASE) # matches st,st.,$st at the beg to saint\n",
    "        tmp = re.sub(r'\\s(st.|st|$t|$t.)$', r' street',tmp, flags=re.IGNORECASE)# matches st.. in the end to street\n",
    "        df2['location_array'].at[i][j] = re.sub('[ \\t]+', ' ', tmp) # removes extra space in between 2/3 grams\n",
    "'''"
   ]
  },
  {
   "cell_type": "code",
   "execution_count": 37,
   "metadata": {},
   "outputs": [],
   "source": [
    "df['location']=df.city + ',' + df.county"
   ]
  },
  {
   "cell_type": "code",
   "execution_count": 38,
   "metadata": {},
   "outputs": [
    {
     "data": {
      "text/plain": [
       "Index(['beds', 'listing_id', 'price_in_dollars', 'property_type', 'state', 'city', 'county', 'agent_name', 'agent_phone', 'agent_email', 'agent_office', 'agent_office_phone', 'agent_office_email', 'agent_office_id', 'location'], dtype='object')"
      ]
     },
     "execution_count": 38,
     "metadata": {},
     "output_type": "execute_result"
    }
   ],
   "source": [
    "df.columns"
   ]
  },
  {
   "cell_type": "code",
   "execution_count": 39,
   "metadata": {},
   "outputs": [],
   "source": [
    "df['agent_office']=df.agent_office.astype(str)\n",
    "df['agent_phone']=df.agent_phone.astype(str)\n",
    "df['price_in_dollars']=df.price_in_dollars.astype(int)\n",
    "df['beds']=df.beds.astype(int)"
   ]
  },
  {
   "cell_type": "code",
   "execution_count": 40,
   "metadata": {},
   "outputs": [
    {
     "data": {
      "text/plain": [
       "(380465,)"
      ]
     },
     "execution_count": 40,
     "metadata": {},
     "output_type": "execute_result"
    }
   ],
   "source": [
    "df['agent_name'].unique().shape"
   ]
  },
  {
   "cell_type": "code",
   "execution_count": 41,
   "metadata": {},
   "outputs": [
    {
     "data": {
      "text/plain": [
       "249900"
      ]
     },
     "execution_count": 41,
     "metadata": {},
     "output_type": "execute_result"
    }
   ],
   "source": [
    "df[df.agent_name=='ALEXANDRA FRENCH'][\"price_in_dollars\"].min()"
   ]
  },
  {
   "cell_type": "code",
   "execution_count": 77,
   "metadata": {},
   "outputs": [],
   "source": [
    "df2=df.groupby(\"agent_name\").agg( { 'agent_phone':{'agent_phone':'first'},\n",
    "                                    'agent_email':{'agent_email':'first'},\n",
    "                                    'agent_office':{'agent_office':'first'},\n",
    "                                    'agent_office_id': {'agent_office_id':'first'},\n",
    "                                    'agent_office_phone':{'agent_office_phone':'first'},\n",
    "                                    'agent_office_email':{'agent_office_email':'first'},\n",
    "                                    'beds':{'min_beds':'min','max_beds':'max'}, \n",
    "                                    'listing_id':{'properties_count':'count'},\n",
    "                                    \"price_in_dollars\": {'min_price':'min','max_price':'max'},\n",
    "                                    'property_type':{'property_type':','.join},\n",
    "                                    'location':{'location':','.join},\n",
    "                                    'state':{'state':','.join},\n",
    "                                  }\n",
    "                                ).reset_index()\n"
   ]
  },
  {
   "cell_type": "code",
   "execution_count": 262,
   "metadata": {},
   "outputs": [],
   "source": [
    "#df['agent_office_phone']=df['agent_office_phone'].fillna('')"
   ]
  },
  {
   "cell_type": "code",
   "execution_count": 78,
   "metadata": {},
   "outputs": [
    {
     "data": {
      "text/html": [
       "<div>\n",
       "<style scoped>\n",
       "    .dataframe tbody tr th:only-of-type {\n",
       "        vertical-align: middle;\n",
       "    }\n",
       "\n",
       "    .dataframe tbody tr th {\n",
       "        vertical-align: top;\n",
       "    }\n",
       "\n",
       "    .dataframe thead tr th {\n",
       "        text-align: left;\n",
       "    }\n",
       "</style>\n",
       "<table border=\"1\" class=\"dataframe\">\n",
       "  <thead>\n",
       "    <tr>\n",
       "      <th></th>\n",
       "      <th>agent_name</th>\n",
       "      <th>agent_office_phone</th>\n",
       "      <th>listing_id</th>\n",
       "      <th colspan=\"2\" halign=\"left\">beds</th>\n",
       "      <th>agent_phone</th>\n",
       "      <th colspan=\"2\" halign=\"left\">price_in_dollars</th>\n",
       "      <th>location</th>\n",
       "      <th>agent_office_email</th>\n",
       "      <th>agent_office</th>\n",
       "      <th>property_type</th>\n",
       "      <th>agent_email</th>\n",
       "      <th>agent_office_id</th>\n",
       "      <th>state</th>\n",
       "    </tr>\n",
       "    <tr>\n",
       "      <th></th>\n",
       "      <th></th>\n",
       "      <th>agent_office_phone</th>\n",
       "      <th>properties_count</th>\n",
       "      <th>max_beds</th>\n",
       "      <th>min_beds</th>\n",
       "      <th>agent_phone</th>\n",
       "      <th>min_price</th>\n",
       "      <th>max_price</th>\n",
       "      <th>location</th>\n",
       "      <th>agent_office_email</th>\n",
       "      <th>agent_office</th>\n",
       "      <th>property_type</th>\n",
       "      <th>agent_email</th>\n",
       "      <th>agent_office_id</th>\n",
       "      <th>state</th>\n",
       "    </tr>\n",
       "  </thead>\n",
       "  <tbody>\n",
       "    <tr>\n",
       "      <td>0</td>\n",
       "      <td>\"Dg\" Doug George</td>\n",
       "      <td>440-282-8002</td>\n",
       "      <td>8</td>\n",
       "      <td>5</td>\n",
       "      <td>2</td>\n",
       "      <td>440-320-6700</td>\n",
       "      <td>34900</td>\n",
       "      <td>192990</td>\n",
       "      <td>lakewood,cuyahoga,amherst,lorain,lorain,lorain,lorain,lorain,elyria,lorain,lorain,lorain,lorain,lorain,lorain,lorain</td>\n",
       "      <td>lizconcar@howardhanna.com</td>\n",
       "      <td>Howard Hanna</td>\n",
       "      <td>House,House,House,Apartment,Apartment,House,House,House</td>\n",
       "      <td>douggeorge@howardhanna.com</td>\n",
       "      <td>2694</td>\n",
       "      <td>OH,OH,OH,OH,OH,OH,OH,OH</td>\n",
       "    </tr>\n",
       "    <tr>\n",
       "      <td>1</td>\n",
       "      <td>\"Jc\"  George Caprita</td>\n",
       "      <td>330-493-7700</td>\n",
       "      <td>2</td>\n",
       "      <td>3</td>\n",
       "      <td>2</td>\n",
       "      <td>330-499-7863</td>\n",
       "      <td>49900</td>\n",
       "      <td>138500</td>\n",
       "      <td>stow,summit,akron,summit</td>\n",
       "      <td>anthonyflex@hotmail.com</td>\n",
       "      <td>Hayes Realty</td>\n",
       "      <td>House,House</td>\n",
       "      <td>jccaprita@gmail.com</td>\n",
       "      <td>C64649</td>\n",
       "      <td>OH,OH</td>\n",
       "    </tr>\n",
       "    <tr>\n",
       "      <td>2</td>\n",
       "      <td>\"Kiwi\"Livnat Lottati</td>\n",
       "      <td>858-277-6173</td>\n",
       "      <td>1</td>\n",
       "      <td>3</td>\n",
       "      <td>3</td>\n",
       "      <td>323-920-5494</td>\n",
       "      <td>925000</td>\n",
       "      <td>925000</td>\n",
       "      <td>los angeles,los angeles</td>\n",
       "      <td>None</td>\n",
       "      <td>Premier Realty Associates</td>\n",
       "      <td>House</td>\n",
       "      <td>kiwi.lottati@gmail.com</td>\n",
       "      <td>X7745301</td>\n",
       "      <td>CA</td>\n",
       "    </tr>\n",
       "    <tr>\n",
       "      <td>3</td>\n",
       "      <td>\"Pi\" Kimberly Stryker</td>\n",
       "      <td>707-928-6900</td>\n",
       "      <td>3</td>\n",
       "      <td>3</td>\n",
       "      <td>1</td>\n",
       "      <td>707-928-6900</td>\n",
       "      <td>135000</td>\n",
       "      <td>189000</td>\n",
       "      <td>clearlake,lake,clearlake,lake,clearlake,lake</td>\n",
       "      <td>None</td>\n",
       "      <td>Timothy Toye And Associates</td>\n",
       "      <td>House,House,House</td>\n",
       "      <td>pistryker@gmail.com</td>\n",
       "      <td>LCTTA</td>\n",
       "      <td>CA,CA,CA</td>\n",
       "    </tr>\n",
       "  </tbody>\n",
       "</table>\n",
       "</div>"
      ],
      "text/plain": [
       "              agent_name agent_office_phone       listing_id     beds            agent_phone price_in_dollars                                                                                                                        location         agent_office_email                 agent_office                                            property_type                 agent_email agent_office_id                    state\n",
       "                         agent_office_phone properties_count max_beds min_beds   agent_phone        min_price max_price                                                                                                              location         agent_office_email                 agent_office                                            property_type                 agent_email agent_office_id                    state\n",
       "0  \"Dg\" Doug George       440-282-8002       8                5        2        440-320-6700  34900            192990    lakewood,cuyahoga,amherst,lorain,lorain,lorain,lorain,lorain,elyria,lorain,lorain,lorain,lorain,lorain,lorain,lorain  lizconcar@howardhanna.com  Howard Hanna                 House,House,House,Apartment,Apartment,House,House,House  douggeorge@howardhanna.com  2694            OH,OH,OH,OH,OH,OH,OH,OH\n",
       "1  \"Jc\"  George Caprita   330-493-7700       2                3        2        330-499-7863  49900            138500    stow,summit,akron,summit                                                                                              anthonyflex@hotmail.com    Hayes Realty                 House,House                                              jccaprita@gmail.com         C64649          OH,OH                  \n",
       "2  \"Kiwi\"Livnat Lottati   858-277-6173       1                3        3        323-920-5494  925000           925000    los angeles,los angeles                                                                                               None                       Premier Realty Associates    House                                                    kiwi.lottati@gmail.com      X7745301        CA                     \n",
       "3  \"Pi\" Kimberly Stryker  707-928-6900       3                3        1        707-928-6900  135000           189000    clearlake,lake,clearlake,lake,clearlake,lake                                                                          None                       Timothy Toye And Associates  House,House,House                                        pistryker@gmail.com         LCTTA           CA,CA,CA               "
      ]
     },
     "execution_count": 78,
     "metadata": {},
     "output_type": "execute_result"
    }
   ],
   "source": [
    "df2.head(4)"
   ]
  },
  {
   "cell_type": "code",
   "execution_count": 79,
   "metadata": {},
   "outputs": [
    {
     "data": {
      "text/plain": [
       "MultiIndex([(        'agent_name',                   ''),\n",
       "            ('agent_office_phone', 'agent_office_phone'),\n",
       "            (        'listing_id',   'properties_count'),\n",
       "            (              'beds',           'max_beds'),\n",
       "            (              'beds',           'min_beds'),\n",
       "            (       'agent_phone',        'agent_phone'),\n",
       "            (  'price_in_dollars',          'min_price'),\n",
       "            (  'price_in_dollars',          'max_price'),\n",
       "            (          'location',           'location'),\n",
       "            ('agent_office_email', 'agent_office_email'),\n",
       "            (      'agent_office',       'agent_office'),\n",
       "            (     'property_type',      'property_type'),\n",
       "            (       'agent_email',        'agent_email'),\n",
       "            (   'agent_office_id',    'agent_office_id'),\n",
       "            (             'state',              'state')],\n",
       "           )"
      ]
     },
     "execution_count": 79,
     "metadata": {},
     "output_type": "execute_result"
    }
   ],
   "source": [
    "df2.columns"
   ]
  },
  {
   "cell_type": "code",
   "execution_count": 80,
   "metadata": {},
   "outputs": [
    {
     "data": {
      "text/plain": [
       "'agent_name'"
      ]
     },
     "execution_count": 80,
     "metadata": {},
     "output_type": "execute_result"
    }
   ],
   "source": [
    "df2.columns[0][0]"
   ]
  },
  {
   "cell_type": "code",
   "execution_count": 81,
   "metadata": {},
   "outputs": [],
   "source": [
    "df2.columns = [df2.columns[0][0],\n",
    "              df2.columns[1][1],\n",
    "              df2.columns[2][1],\n",
    "              df2.columns[3][1],\n",
    "              df2.columns[4][1],\n",
    "              df2.columns[5][1],\n",
    "              df2.columns[6][1],\n",
    "              df2.columns[7][1],\n",
    "              df2.columns[8][1],\n",
    "              df2.columns[9][1],\n",
    "              df2.columns[10][1],\n",
    "              df2.columns[11][1],\n",
    "              df2.columns[12][1],\n",
    "              df2.columns[13][1],\n",
    "              df2.columns[14][1]\n",
    "              ]\n",
    "\n",
    "#df2.rename(columns={'listing_id':'properties_count'}, inplace=True)"
   ]
  },
  {
   "cell_type": "code",
   "execution_count": null,
   "metadata": {},
   "outputs": [],
   "source": [
    "'''\n",
    "df2.columns = ['agent_name',\n",
    "               'property_type',\n",
    "               'min_price',\n",
    "               'max_price',\n",
    "               'agent_email',\n",
    "               'agent_office_email',\n",
    "               'properties_count',\n",
    "               'agent_office_id',\n",
    "               'location',\n",
    "               'agent_office',\n",
    "               'agent_office_phone',\n",
    "               'agent_phone',\n",
    "               'state',\n",
    "               'min_beds',\n",
    "               'max_beds'\n",
    "              ]\n",
    "\n",
    "'''\n"
   ]
  },
  {
   "cell_type": "code",
   "execution_count": 82,
   "metadata": {},
   "outputs": [
    {
     "data": {
      "text/html": [
       "<div>\n",
       "<style scoped>\n",
       "    .dataframe tbody tr th:only-of-type {\n",
       "        vertical-align: middle;\n",
       "    }\n",
       "\n",
       "    .dataframe tbody tr th {\n",
       "        vertical-align: top;\n",
       "    }\n",
       "\n",
       "    .dataframe thead th {\n",
       "        text-align: right;\n",
       "    }\n",
       "</style>\n",
       "<table border=\"1\" class=\"dataframe\">\n",
       "  <thead>\n",
       "    <tr style=\"text-align: right;\">\n",
       "      <th></th>\n",
       "      <th>agent_name</th>\n",
       "      <th>agent_office_phone</th>\n",
       "      <th>properties_count</th>\n",
       "      <th>max_beds</th>\n",
       "      <th>min_beds</th>\n",
       "      <th>agent_phone</th>\n",
       "      <th>min_price</th>\n",
       "      <th>max_price</th>\n",
       "      <th>location</th>\n",
       "      <th>agent_office_email</th>\n",
       "      <th>agent_office</th>\n",
       "      <th>property_type</th>\n",
       "      <th>agent_email</th>\n",
       "      <th>agent_office_id</th>\n",
       "      <th>state</th>\n",
       "    </tr>\n",
       "  </thead>\n",
       "  <tbody>\n",
       "    <tr>\n",
       "      <td>0</td>\n",
       "      <td>\"Dg\" Doug George</td>\n",
       "      <td>440-282-8002</td>\n",
       "      <td>8</td>\n",
       "      <td>5</td>\n",
       "      <td>2</td>\n",
       "      <td>440-320-6700</td>\n",
       "      <td>34900</td>\n",
       "      <td>192990</td>\n",
       "      <td>lakewood,cuyahoga,amherst,lorain,lorain,lorain,lorain,lorain,elyria,lorain,lorain,lorain,lorain,lorain,lorain,lorain</td>\n",
       "      <td>lizconcar@howardhanna.com</td>\n",
       "      <td>Howard Hanna</td>\n",
       "      <td>House,House,House,Apartment,Apartment,House,House,House</td>\n",
       "      <td>douggeorge@howardhanna.com</td>\n",
       "      <td>2694</td>\n",
       "      <td>OH,OH,OH,OH,OH,OH,OH,OH</td>\n",
       "    </tr>\n",
       "    <tr>\n",
       "      <td>1</td>\n",
       "      <td>\"Jc\"  George Caprita</td>\n",
       "      <td>330-493-7700</td>\n",
       "      <td>2</td>\n",
       "      <td>3</td>\n",
       "      <td>2</td>\n",
       "      <td>330-499-7863</td>\n",
       "      <td>49900</td>\n",
       "      <td>138500</td>\n",
       "      <td>stow,summit,akron,summit</td>\n",
       "      <td>anthonyflex@hotmail.com</td>\n",
       "      <td>Hayes Realty</td>\n",
       "      <td>House,House</td>\n",
       "      <td>jccaprita@gmail.com</td>\n",
       "      <td>C64649</td>\n",
       "      <td>OH,OH</td>\n",
       "    </tr>\n",
       "    <tr>\n",
       "      <td>2</td>\n",
       "      <td>\"Kiwi\"Livnat Lottati</td>\n",
       "      <td>858-277-6173</td>\n",
       "      <td>1</td>\n",
       "      <td>3</td>\n",
       "      <td>3</td>\n",
       "      <td>323-920-5494</td>\n",
       "      <td>925000</td>\n",
       "      <td>925000</td>\n",
       "      <td>los angeles,los angeles</td>\n",
       "      <td>None</td>\n",
       "      <td>Premier Realty Associates</td>\n",
       "      <td>House</td>\n",
       "      <td>kiwi.lottati@gmail.com</td>\n",
       "      <td>X7745301</td>\n",
       "      <td>CA</td>\n",
       "    </tr>\n",
       "    <tr>\n",
       "      <td>3</td>\n",
       "      <td>\"Pi\" Kimberly Stryker</td>\n",
       "      <td>707-928-6900</td>\n",
       "      <td>3</td>\n",
       "      <td>3</td>\n",
       "      <td>1</td>\n",
       "      <td>707-928-6900</td>\n",
       "      <td>135000</td>\n",
       "      <td>189000</td>\n",
       "      <td>clearlake,lake,clearlake,lake,clearlake,lake</td>\n",
       "      <td>None</td>\n",
       "      <td>Timothy Toye And Associates</td>\n",
       "      <td>House,House,House</td>\n",
       "      <td>pistryker@gmail.com</td>\n",
       "      <td>LCTTA</td>\n",
       "      <td>CA,CA,CA</td>\n",
       "    </tr>\n",
       "  </tbody>\n",
       "</table>\n",
       "</div>"
      ],
      "text/plain": [
       "              agent_name agent_office_phone  properties_count  max_beds  min_beds   agent_phone  min_price  max_price                                                                                                              location         agent_office_email                 agent_office                                            property_type                 agent_email agent_office_id                    state\n",
       "0  \"Dg\" Doug George       440-282-8002       8                 5         2         440-320-6700  34900      192990     lakewood,cuyahoga,amherst,lorain,lorain,lorain,lorain,lorain,elyria,lorain,lorain,lorain,lorain,lorain,lorain,lorain  lizconcar@howardhanna.com  Howard Hanna                 House,House,House,Apartment,Apartment,House,House,House  douggeorge@howardhanna.com  2694            OH,OH,OH,OH,OH,OH,OH,OH\n",
       "1  \"Jc\"  George Caprita   330-493-7700       2                 3         2         330-499-7863  49900      138500     stow,summit,akron,summit                                                                                              anthonyflex@hotmail.com    Hayes Realty                 House,House                                              jccaprita@gmail.com         C64649          OH,OH                  \n",
       "2  \"Kiwi\"Livnat Lottati   858-277-6173       1                 3         3         323-920-5494  925000     925000     los angeles,los angeles                                                                                               None                       Premier Realty Associates    House                                                    kiwi.lottati@gmail.com      X7745301        CA                     \n",
       "3  \"Pi\" Kimberly Stryker  707-928-6900       3                 3         1         707-928-6900  135000     189000     clearlake,lake,clearlake,lake,clearlake,lake                                                                          None                       Timothy Toye And Associates  House,House,House                                        pistryker@gmail.com         LCTTA           CA,CA,CA               "
      ]
     },
     "execution_count": 82,
     "metadata": {},
     "output_type": "execute_result"
    }
   ],
   "source": [
    "df2.head(4)"
   ]
  },
  {
   "cell_type": "code",
   "execution_count": 83,
   "metadata": {},
   "outputs": [
    {
     "data": {
      "text/html": [
       "<div>\n",
       "<style scoped>\n",
       "    .dataframe tbody tr th:only-of-type {\n",
       "        vertical-align: middle;\n",
       "    }\n",
       "\n",
       "    .dataframe tbody tr th {\n",
       "        vertical-align: top;\n",
       "    }\n",
       "\n",
       "    .dataframe thead th {\n",
       "        text-align: right;\n",
       "    }\n",
       "</style>\n",
       "<table border=\"1\" class=\"dataframe\">\n",
       "  <thead>\n",
       "    <tr style=\"text-align: right;\">\n",
       "      <th></th>\n",
       "      <th>agent_name</th>\n",
       "      <th>agent_office_phone</th>\n",
       "      <th>properties_count</th>\n",
       "      <th>max_beds</th>\n",
       "      <th>min_beds</th>\n",
       "      <th>agent_phone</th>\n",
       "      <th>min_price</th>\n",
       "      <th>max_price</th>\n",
       "      <th>location</th>\n",
       "      <th>agent_office_email</th>\n",
       "      <th>agent_office</th>\n",
       "      <th>property_type</th>\n",
       "      <th>agent_email</th>\n",
       "      <th>agent_office_id</th>\n",
       "      <th>state</th>\n",
       "    </tr>\n",
       "  </thead>\n",
       "  <tbody>\n",
       "    <tr>\n",
       "      <td>724</td>\n",
       "      <td>ALEXANDRA FRENCH</td>\n",
       "      <td>404-537-5200</td>\n",
       "      <td>3</td>\n",
       "      <td>3</td>\n",
       "      <td>1</td>\n",
       "      <td>404-310-1164</td>\n",
       "      <td>249900</td>\n",
       "      <td>1350000</td>\n",
       "      <td>atlanta,fulton,atlanta,de kalb,atlanta,fulton</td>\n",
       "      <td>bill.murray@bhhsgeorgia.com</td>\n",
       "      <td>Berkshire Hathaway HomeServices Georgia Properties</td>\n",
       "      <td>Apartment,Apartment,Apartment</td>\n",
       "      <td>alexandra.french@bhhsga.com</td>\n",
       "      <td>BHHS05</td>\n",
       "      <td>GA,GA,GA</td>\n",
       "    </tr>\n",
       "  </tbody>\n",
       "</table>\n",
       "</div>"
      ],
      "text/plain": [
       "           agent_name agent_office_phone  properties_count  max_beds  min_beds   agent_phone  min_price  max_price                                       location           agent_office_email                                        agent_office                  property_type                  agent_email agent_office_id     state\n",
       "724  ALEXANDRA FRENCH  404-537-5200       3                 3         1         404-310-1164  249900     1350000    atlanta,fulton,atlanta,de kalb,atlanta,fulton  bill.murray@bhhsgeorgia.com  Berkshire Hathaway HomeServices Georgia Properties  Apartment,Apartment,Apartment  alexandra.french@bhhsga.com  BHHS05          GA,GA,GA"
      ]
     },
     "execution_count": 83,
     "metadata": {},
     "output_type": "execute_result"
    }
   ],
   "source": [
    "df2[df2.agent_name=='ALEXANDRA FRENCH']"
   ]
  },
  {
   "cell_type": "code",
   "execution_count": 84,
   "metadata": {},
   "outputs": [],
   "source": [
    "unique_locations=[]\n",
    "unique_property_type=[]"
   ]
  },
  {
   "cell_type": "code",
   "execution_count": 85,
   "metadata": {},
   "outputs": [
    {
     "data": {
      "text/plain": [
       "0         lakewood,cuyahoga,amherst,lorain,lorain,lorain,lorain,lorain,elyria,lorain,lorain,lorain,lorain,lorain,lorain,lorain\n",
       "1         stow,summit,akron,summit                                                                                            \n",
       "2         los angeles,los angeles                                                                                             \n",
       "3         clearlake,lake,clearlake,lake,clearlake,lake                                                                        \n",
       "4         denver,denver                                                                                                       \n",
       "              ...                                                                                                             \n",
       "380460    philadelphia,philadelphia                                                                                           \n",
       "380461    sandy springs,fulton                                                                                                \n",
       "380462    manassas park,manassas park city                                                                                    \n",
       "380463    haymarket,prince william                                                                                            \n",
       "380464    fort washington,prince georges,bethesda,montgomery,bethesda,montgomery,temple hills,prince georges                  \n",
       "Name: location, Length: 380465, dtype: object"
      ]
     },
     "execution_count": 85,
     "metadata": {},
     "output_type": "execute_result"
    }
   ],
   "source": [
    "df2['location']"
   ]
  },
  {
   "cell_type": "code",
   "execution_count": 86,
   "metadata": {},
   "outputs": [],
   "source": [
    "#df2['location']=df2.location.str.replace('-',' ')\n",
    "\n",
    "#df2['location']=df2.location.str.lower()\n",
    "\n",
    "df2['location_array']=df2.location.str.split(',')"
   ]
  },
  {
   "cell_type": "code",
   "execution_count": 87,
   "metadata": {},
   "outputs": [
    {
     "data": {
      "text/plain": [
       "'los angeles'"
      ]
     },
     "execution_count": 87,
     "metadata": {},
     "output_type": "execute_result"
    }
   ],
   "source": [
    "df2['location_array'][2][0]"
   ]
  },
  {
   "cell_type": "code",
   "execution_count": 88,
   "metadata": {},
   "outputs": [
    {
     "data": {
      "text/plain": [
       "380465"
      ]
     },
     "execution_count": 88,
     "metadata": {},
     "output_type": "execute_result"
    }
   ],
   "source": [
    "len(df2)"
   ]
  },
  {
   "cell_type": "code",
   "execution_count": 33,
   "metadata": {},
   "outputs": [
    {
     "ename": "KeyboardInterrupt",
     "evalue": "",
     "output_type": "error",
     "traceback": [
      "\u001b[0;31m---------------------------------------------------------------------------\u001b[0m",
      "\u001b[0;31mKeyboardInterrupt\u001b[0m                         Traceback (most recent call last)",
      "\u001b[0;32m<ipython-input-33-59b4db3f3af7>\u001b[0m in \u001b[0;36m<module>\u001b[0;34m\u001b[0m\n\u001b[1;32m      6\u001b[0m         \u001b[0mtmp\u001b[0m \u001b[0;34m=\u001b[0m \u001b[0mre\u001b[0m\u001b[0;34m.\u001b[0m\u001b[0msub\u001b[0m\u001b[0;34m(\u001b[0m\u001b[0;34mr'^(st.|st|$t|$t.)\\s'\u001b[0m\u001b[0;34m,\u001b[0m \u001b[0;34mr'saint '\u001b[0m\u001b[0;34m,\u001b[0m\u001b[0mtmp\u001b[0m\u001b[0;34m,\u001b[0m \u001b[0mflags\u001b[0m\u001b[0;34m=\u001b[0m\u001b[0mre\u001b[0m\u001b[0;34m.\u001b[0m\u001b[0mIGNORECASE\u001b[0m\u001b[0;34m)\u001b[0m \u001b[0;31m# matches st,st.,$st at the beg to saint\u001b[0m\u001b[0;34m\u001b[0m\u001b[0m\n\u001b[1;32m      7\u001b[0m         \u001b[0mtmp\u001b[0m \u001b[0;34m=\u001b[0m \u001b[0mre\u001b[0m\u001b[0;34m.\u001b[0m\u001b[0msub\u001b[0m\u001b[0;34m(\u001b[0m\u001b[0;34mr'\\s(st.|st|$t|$t.)$'\u001b[0m\u001b[0;34m,\u001b[0m \u001b[0;34mr' street'\u001b[0m\u001b[0;34m,\u001b[0m\u001b[0mtmp\u001b[0m\u001b[0;34m,\u001b[0m \u001b[0mflags\u001b[0m\u001b[0;34m=\u001b[0m\u001b[0mre\u001b[0m\u001b[0;34m.\u001b[0m\u001b[0mIGNORECASE\u001b[0m\u001b[0;34m)\u001b[0m\u001b[0;31m# matches st.. in the end to street\u001b[0m\u001b[0;34m\u001b[0m\u001b[0m\n\u001b[0;32m----> 8\u001b[0;31m         \u001b[0mdf2\u001b[0m\u001b[0;34m[\u001b[0m\u001b[0;34m\"location_array\"\u001b[0m\u001b[0;34m]\u001b[0m\u001b[0;34m[\u001b[0m\u001b[0mi\u001b[0m\u001b[0;34m]\u001b[0m\u001b[0;34m[\u001b[0m\u001b[0mj\u001b[0m\u001b[0;34m]\u001b[0m \u001b[0;34m=\u001b[0m \u001b[0mre\u001b[0m\u001b[0;34m.\u001b[0m\u001b[0msub\u001b[0m\u001b[0;34m(\u001b[0m\u001b[0;34m'[ \\t]+'\u001b[0m\u001b[0;34m,\u001b[0m \u001b[0;34m' '\u001b[0m\u001b[0;34m,\u001b[0m \u001b[0mtmp\u001b[0m\u001b[0;34m)\u001b[0m \u001b[0;31m# removes extra space in between 2/3 grams\u001b[0m\u001b[0;34m\u001b[0m\u001b[0m\n\u001b[0m\u001b[1;32m      9\u001b[0m \u001b[0;34m\u001b[0m\u001b[0m\n",
      "\u001b[0;31mKeyboardInterrupt\u001b[0m: "
     ]
    }
   ],
   "source": [
    "'''\n",
    "import re\n",
    "for i in range(0, len(df2)):\n",
    "    for j in range(0, len(df2['location_array'][i])):\n",
    "        #df2[\"location_array\"][i][j]=df2[\"location_array\"][i][j].strip()\n",
    "        tmp=df2[\"location_array\"][i][j].strip()\n",
    "        tmp = re.sub(r'^(st.|st|$t|$t.)\\s', r'saint ',tmp, flags=re.IGNORECASE) # matches st,st.,$st at the beg to saint\n",
    "        tmp = re.sub(r'\\s(st.|st|$t|$t.)$', r' street',tmp, flags=re.IGNORECASE)# matches st.. in the end to street\n",
    "        df2[\"location_array\"][i][j] = re.sub('[ \\t]+', ' ', tmp) # removes extra space in between 2/3 grams\n",
    "'''"
   ]
  },
  {
   "cell_type": "code",
   "execution_count": 34,
   "metadata": {},
   "outputs": [],
   "source": [
    "'''\n",
    "import re\n",
    "for i,value in df2['location_array'].iteritems():\n",
    "    for j in range(0, len(value)):\n",
    "        tmp=df2[\"location_array\"][i][j].strip()\n",
    "        tmp = re.sub(r'^(st.|st|$t|$t.)\\s', r'saint ',tmp, flags=re.IGNORECASE) # matches st,st.,$st at the beg to saint\n",
    "        tmp = re.sub(r'\\s(st.|st|$t|$t.)$', r' street',tmp, flags=re.IGNORECASE)# matches st.. in the end to street\n",
    "        df2['location_array'].at[i][j] = re.sub('[ \\t]+', ' ', tmp) # removes extra space in between 2/3 grams\n",
    "'''"
   ]
  },
  {
   "cell_type": "code",
   "execution_count": 89,
   "metadata": {},
   "outputs": [
    {
     "data": {
      "text/plain": [
       "0         [lakewood, cuyahoga, amherst, lorain, lorain, lorain, lorain, lorain, elyria, lorain, lorain, lorain, lorain, lorain, lorain, lorain]\n",
       "1         [stow, summit, akron, summit]                                                                                                        \n",
       "2         [los angeles, los angeles]                                                                                                           \n",
       "3         [clearlake, lake, clearlake, lake, clearlake, lake]                                                                                  \n",
       "4         [denver, denver]                                                                                                                     \n",
       "                ...                                                                                                                            \n",
       "380460    [philadelphia, philadelphia]                                                                                                         \n",
       "380461    [sandy springs, fulton]                                                                                                              \n",
       "380462    [manassas park, manassas park city]                                                                                                  \n",
       "380463    [haymarket, prince william]                                                                                                          \n",
       "380464    [fort washington, prince georges, bethesda, montgomery, bethesda, montgomery, temple hills, prince georges]                          \n",
       "Name: location_array, Length: 380465, dtype: object"
      ]
     },
     "execution_count": 89,
     "metadata": {},
     "output_type": "execute_result"
    }
   ],
   "source": [
    "df2.location_array"
   ]
  },
  {
   "cell_type": "code",
   "execution_count": 90,
   "metadata": {},
   "outputs": [],
   "source": [
    "for i in df2.location_array:\n",
    "    unique_locations.append(set(list(i)))\n",
    "df2['location_array_set']= unique_locations"
   ]
  },
  {
   "cell_type": "code",
   "execution_count": 91,
   "metadata": {},
   "outputs": [
    {
     "data": {
      "text/plain": [
       "0         {amherst, lakewood, cuyahoga, elyria, lorain}                        \n",
       "1         {summit, stow, akron}                                                \n",
       "2         {los angeles}                                                        \n",
       "3         {lake, clearlake}                                                    \n",
       "4         {denver}                                                             \n",
       "            ...                                                                \n",
       "380460    {philadelphia}                                                       \n",
       "380461    {sandy springs, fulton}                                              \n",
       "380462    {manassas park city, manassas park}                                  \n",
       "380463    {prince william, haymarket}                                          \n",
       "380464    {fort washington, prince georges, bethesda, montgomery, temple hills}\n",
       "Name: location_array_set, Length: 380465, dtype: object"
      ]
     },
     "execution_count": 91,
     "metadata": {},
     "output_type": "execute_result"
    }
   ],
   "source": [
    "df2['location_array_set']"
   ]
  },
  {
   "cell_type": "code",
   "execution_count": 92,
   "metadata": {},
   "outputs": [
    {
     "data": {
      "text/plain": [
       "380465"
      ]
     },
     "execution_count": 92,
     "metadata": {},
     "output_type": "execute_result"
    }
   ],
   "source": [
    "len(unique_locations)"
   ]
  },
  {
   "cell_type": "code",
   "execution_count": 93,
   "metadata": {},
   "outputs": [],
   "source": [
    "df2['property_type']=df2.property_type.str.lower()\n",
    "df2['property_type_array']=df2.property_type.str.split(',')"
   ]
  },
  {
   "cell_type": "code",
   "execution_count": 94,
   "metadata": {},
   "outputs": [],
   "source": [
    "for i in df2.property_type_array:\n",
    "    unique_property_type.append(set(list(i)))\n",
    "df2['property_type_set']= unique_property_type"
   ]
  },
  {
   "cell_type": "code",
   "execution_count": null,
   "metadata": {},
   "outputs": [],
   "source": []
  },
  {
   "cell_type": "code",
   "execution_count": 95,
   "metadata": {},
   "outputs": [],
   "source": [
    "df2['state']=df2.state.str.upper()\n",
    "df2['state_array']=df2.state.str.split(',')"
   ]
  },
  {
   "cell_type": "code",
   "execution_count": 96,
   "metadata": {},
   "outputs": [],
   "source": [
    "unique_state=[]\n",
    "for i in df2.state_array:\n",
    "    unique_state.append(set(list(i)))\n",
    "df2['state_set']= unique_state"
   ]
  },
  {
   "cell_type": "code",
   "execution_count": 97,
   "metadata": {},
   "outputs": [
    {
     "data": {
      "text/plain": [
       "Index(['agent_name', 'agent_office_phone', 'properties_count', 'max_beds', 'min_beds', 'agent_phone', 'min_price', 'max_price', 'location', 'agent_office_email', 'agent_office', 'property_type', 'agent_email', 'agent_office_id', 'state', 'location_array', 'location_array_set', 'property_type_array', 'property_type_set', 'state_array', 'state_set'], dtype='object')"
      ]
     },
     "execution_count": 97,
     "metadata": {},
     "output_type": "execute_result"
    }
   ],
   "source": [
    "df2.columns"
   ]
  },
  {
   "cell_type": "code",
   "execution_count": 98,
   "metadata": {},
   "outputs": [
    {
     "data": {
      "text/plain": [
       "5"
      ]
     },
     "execution_count": 98,
     "metadata": {},
     "output_type": "execute_result"
    }
   ],
   "source": [
    "len(df2['state'][1])"
   ]
  },
  {
   "cell_type": "code",
   "execution_count": 86,
   "metadata": {},
   "outputs": [
    {
     "name": "stdout",
     "output_type": "stream",
     "text": [
      "OH,OH,OH,OH,OH,OH,OH\n",
      "['lakewood', 'cuyahoga', 'amherst', 'lorain', 'lorain', 'lorain', 'elyria', 'lorain', 'lorain', 'lorain', 'lorain', 'lorain', 'lorain', 'lorain']\n",
      "{'OH'}\n",
      "{'elyria', 'lorain', 'cuyahoga', 'amherst', 'lakewood'}\n",
      "0 7\n"
     ]
    }
   ],
   "source": [
    "# testing\n",
    "'''\n",
    "for i in range(0, len(df2)):\n",
    "    if len(df2['state'][i]) > 2:\n",
    "        print(df2['state'][i])\n",
    "        print(df2['location_array'][i])\n",
    "        print(df2['unique_state_set'][i])\n",
    "        print(df2['location_array_set'][i])\n",
    "        print(i,j)\n",
    "        break;\n",
    "'''"
   ]
  },
  {
   "cell_type": "code",
   "execution_count": 99,
   "metadata": {},
   "outputs": [
    {
     "data": {
      "text/html": [
       "<div>\n",
       "<style scoped>\n",
       "    .dataframe tbody tr th:only-of-type {\n",
       "        vertical-align: middle;\n",
       "    }\n",
       "\n",
       "    .dataframe tbody tr th {\n",
       "        vertical-align: top;\n",
       "    }\n",
       "\n",
       "    .dataframe thead th {\n",
       "        text-align: right;\n",
       "    }\n",
       "</style>\n",
       "<table border=\"1\" class=\"dataframe\">\n",
       "  <thead>\n",
       "    <tr style=\"text-align: right;\">\n",
       "      <th></th>\n",
       "      <th>agent_name</th>\n",
       "      <th>agent_office_phone</th>\n",
       "      <th>properties_count</th>\n",
       "      <th>max_beds</th>\n",
       "      <th>min_beds</th>\n",
       "      <th>agent_phone</th>\n",
       "      <th>min_price</th>\n",
       "      <th>max_price</th>\n",
       "      <th>location</th>\n",
       "      <th>agent_office_email</th>\n",
       "      <th>agent_office</th>\n",
       "      <th>property_type</th>\n",
       "      <th>agent_email</th>\n",
       "      <th>agent_office_id</th>\n",
       "      <th>state</th>\n",
       "      <th>location_array</th>\n",
       "      <th>location_array_set</th>\n",
       "      <th>property_type_array</th>\n",
       "      <th>property_type_set</th>\n",
       "      <th>state_array</th>\n",
       "      <th>state_set</th>\n",
       "    </tr>\n",
       "  </thead>\n",
       "  <tbody>\n",
       "    <tr>\n",
       "      <td>470</td>\n",
       "      <td>ALAN J BRIDEVAUX</td>\n",
       "      <td>601-249-3400</td>\n",
       "      <td>3</td>\n",
       "      <td>4</td>\n",
       "      <td>3</td>\n",
       "      <td>601-249-8436</td>\n",
       "      <td>95000</td>\n",
       "      <td>385000</td>\n",
       "      <td>kentwood,tangipahoa,mccomb,pike,magnolia,pike</td>\n",
       "      <td>abridevaux@aol.com</td>\n",
       "      <td>Doug Rushing Realty, Inc.</td>\n",
       "      <td>house,house,house</td>\n",
       "      <td>abridevaux@aol.com</td>\n",
       "      <td>RUSH02</td>\n",
       "      <td>LA,MS,MS</td>\n",
       "      <td>[kentwood, tangipahoa, mccomb, pike, magnolia, pike]</td>\n",
       "      <td>{mccomb, pike, magnolia, kentwood, tangipahoa}</td>\n",
       "      <td>[house, house, house]</td>\n",
       "      <td>{house}</td>\n",
       "      <td>[LA, MS, MS]</td>\n",
       "      <td>{MS, LA}</td>\n",
       "    </tr>\n",
       "  </tbody>\n",
       "</table>\n",
       "</div>"
      ],
      "text/plain": [
       "           agent_name agent_office_phone  properties_count  max_beds  min_beds   agent_phone  min_price  max_price                                       location  agent_office_email               agent_office      property_type         agent_email agent_office_id     state                                        location_array                              location_array_set    property_type_array property_type_set   state_array state_set\n",
       "470  ALAN J BRIDEVAUX  601-249-3400       3                 4         3         601-249-8436  95000      385000     kentwood,tangipahoa,mccomb,pike,magnolia,pike  abridevaux@aol.com  Doug Rushing Realty, Inc.  house,house,house  abridevaux@aol.com  RUSH02          LA,MS,MS  [kentwood, tangipahoa, mccomb, pike, magnolia, pike]  {mccomb, pike, magnolia, kentwood, tangipahoa}  [house, house, house]  {house}           [LA, MS, MS]  {MS, LA}"
      ]
     },
     "execution_count": 99,
     "metadata": {},
     "output_type": "execute_result"
    }
   ],
   "source": [
    "df2[df2.agent_name== 'ALAN J BRIDEVAUX']\n"
   ]
  },
  {
   "cell_type": "code",
   "execution_count": 100,
   "metadata": {},
   "outputs": [
    {
     "data": {
      "text/html": [
       "<div>\n",
       "<style scoped>\n",
       "    .dataframe tbody tr th:only-of-type {\n",
       "        vertical-align: middle;\n",
       "    }\n",
       "\n",
       "    .dataframe tbody tr th {\n",
       "        vertical-align: top;\n",
       "    }\n",
       "\n",
       "    .dataframe thead th {\n",
       "        text-align: right;\n",
       "    }\n",
       "</style>\n",
       "<table border=\"1\" class=\"dataframe\">\n",
       "  <thead>\n",
       "    <tr style=\"text-align: right;\">\n",
       "      <th></th>\n",
       "      <th>beds</th>\n",
       "      <th>listing_id</th>\n",
       "      <th>price_in_dollars</th>\n",
       "      <th>property_type</th>\n",
       "      <th>state</th>\n",
       "      <th>city</th>\n",
       "      <th>county</th>\n",
       "      <th>agent_name</th>\n",
       "      <th>agent_phone</th>\n",
       "      <th>agent_email</th>\n",
       "      <th>agent_office</th>\n",
       "      <th>agent_office_phone</th>\n",
       "      <th>agent_office_email</th>\n",
       "      <th>agent_office_id</th>\n",
       "    </tr>\n",
       "  </thead>\n",
       "  <tbody>\n",
       "    <tr>\n",
       "      <td>350315</td>\n",
       "      <td>4</td>\n",
       "      <td>95000</td>\n",
       "      <td>95000</td>\n",
       "      <td>House</td>\n",
       "      <td>LA</td>\n",
       "      <td>KENTWOOD</td>\n",
       "      <td>TANGIPAHOA</td>\n",
       "      <td>ALAN J BRIDEVAUX</td>\n",
       "      <td>601-249-8436</td>\n",
       "      <td>abridevaux@aol.com</td>\n",
       "      <td>Doug Rushing Realty, Inc.</td>\n",
       "      <td>601-249-3400</td>\n",
       "      <td>abridevaux@aol.com</td>\n",
       "      <td>RUSH02</td>\n",
       "    </tr>\n",
       "    <tr>\n",
       "      <td>350376</td>\n",
       "      <td>3</td>\n",
       "      <td>385000</td>\n",
       "      <td>385000</td>\n",
       "      <td>House</td>\n",
       "      <td>MS</td>\n",
       "      <td>MCCOMB</td>\n",
       "      <td>PIKE</td>\n",
       "      <td>ALAN J BRIDEVAUX</td>\n",
       "      <td>601-249-8436</td>\n",
       "      <td>abridevaux@aol.com</td>\n",
       "      <td>Doug Rushing Realty, Inc.</td>\n",
       "      <td>601-249-3400</td>\n",
       "      <td>abridevaux@aol.com</td>\n",
       "      <td>RUSH02</td>\n",
       "    </tr>\n",
       "    <tr>\n",
       "      <td>354072</td>\n",
       "      <td>4</td>\n",
       "      <td>189000</td>\n",
       "      <td>189000</td>\n",
       "      <td>House</td>\n",
       "      <td>MS</td>\n",
       "      <td>MAGNOLIA</td>\n",
       "      <td>PIKE</td>\n",
       "      <td>ALAN J BRIDEVAUX</td>\n",
       "      <td>601-249-8436</td>\n",
       "      <td>abridevaux@aol.com</td>\n",
       "      <td>Doug Rushing Realty, Inc.</td>\n",
       "      <td>601-249-3400</td>\n",
       "      <td>abridevaux@aol.com</td>\n",
       "      <td>RUSH02</td>\n",
       "    </tr>\n",
       "  </tbody>\n",
       "</table>\n",
       "</div>"
      ],
      "text/plain": [
       "       beds listing_id price_in_dollars property_type state      city      county        agent_name   agent_phone         agent_email               agent_office agent_office_phone  agent_office_email agent_office_id\n",
       "350315  4    95000      95000            House         LA    KENTWOOD  TANGIPAHOA  ALAN J BRIDEVAUX  601-249-8436  abridevaux@aol.com  Doug Rushing Realty, Inc.  601-249-3400       abridevaux@aol.com  RUSH02        \n",
       "350376  3    385000     385000           House         MS    MCCOMB    PIKE        ALAN J BRIDEVAUX  601-249-8436  abridevaux@aol.com  Doug Rushing Realty, Inc.  601-249-3400       abridevaux@aol.com  RUSH02        \n",
       "354072  4    189000     189000           House         MS    MAGNOLIA  PIKE        ALAN J BRIDEVAUX  601-249-8436  abridevaux@aol.com  Doug Rushing Realty, Inc.  601-249-3400       abridevaux@aol.com  RUSH02        "
      ]
     },
     "execution_count": 100,
     "metadata": {},
     "output_type": "execute_result"
    }
   ],
   "source": [
    "#df_copy[df_copy.agent_id == 'RLA' ]\n",
    "\n",
    "\n",
    "df_us[df_us.agent_name.str.strip() == 'ALAN J BRIDEVAUX' ]\n",
    "\n"
   ]
  },
  {
   "cell_type": "code",
   "execution_count": 101,
   "metadata": {},
   "outputs": [
    {
     "data": {
      "text/plain": [
       "(380465, 21)"
      ]
     },
     "execution_count": 101,
     "metadata": {},
     "output_type": "execute_result"
    }
   ],
   "source": [
    "df2.shape"
   ]
  },
  {
   "cell_type": "code",
   "execution_count": 102,
   "metadata": {},
   "outputs": [
    {
     "data": {
      "text/plain": [
       "1     184418\n",
       "2     79787 \n",
       "3     39872 \n",
       "4     23297 \n",
       "5     14223 \n",
       "6     9548  \n",
       "7     6543  \n",
       "8     4642  \n",
       "9     3502  \n",
       "10    2684  \n",
       "Name: properties_count, dtype: int64"
      ]
     },
     "execution_count": 102,
     "metadata": {},
     "output_type": "execute_result"
    }
   ],
   "source": [
    "df2.properties_count.value_counts().head(10)"
   ]
  },
  {
   "cell_type": "code",
   "execution_count": 218,
   "metadata": {},
   "outputs": [
    {
     "data": {
      "text/plain": [
       "(380465, 22)"
      ]
     },
     "execution_count": 218,
     "metadata": {},
     "output_type": "execute_result"
    }
   ],
   "source": [
    "df2.shape"
   ]
  },
  {
   "cell_type": "code",
   "execution_count": 103,
   "metadata": {},
   "outputs": [
    {
     "data": {
      "text/plain": [
       "['denver', 'denver']"
      ]
     },
     "execution_count": 103,
     "metadata": {},
     "output_type": "execute_result"
    }
   ],
   "source": [
    "df2.location_array[4]"
   ]
  },
  {
   "cell_type": "code",
   "execution_count": 104,
   "metadata": {},
   "outputs": [
    {
     "data": {
      "text/plain": [
       "{'denver'}"
      ]
     },
     "execution_count": 104,
     "metadata": {},
     "output_type": "execute_result"
    }
   ],
   "source": [
    "df2.location_array_set[4]"
   ]
  },
  {
   "cell_type": "code",
   "execution_count": null,
   "metadata": {},
   "outputs": [],
   "source": [
    "## STUCK HERE"
   ]
  },
  {
   "cell_type": "code",
   "execution_count": 105,
   "metadata": {},
   "outputs": [
    {
     "data": {
      "text/plain": [
       "'\\n# get unique cities and counties overall\\nunique_locations_overall=[]\\nfor i in range(0, len(df2)):\\n    for j in range(0, len(df2.location_array[i])):\\n        unique_locations_overall.append(df2.location_array[i][j])\\n'"
      ]
     },
     "execution_count": 105,
     "metadata": {},
     "output_type": "execute_result"
    }
   ],
   "source": [
    "\n",
    "'''\n",
    "# get unique cities and counties overall\n",
    "unique_locations_overall=[]\n",
    "for i in range(0, len(df2)):\n",
    "    for j in range(0, len(df2.location_array[i])):\n",
    "        unique_locations_overall.append(df2.location_array[i][j])\n",
    "'''\n",
    "unique_locations_overall=[]\n",
    "\n",
    "for i,value in df2['location_array'].iteritems():\n",
    "    for j in range(0, len(value)):\n",
    "        unique_locations_overall.append(value[j])\n"
   ]
  },
  {
   "cell_type": "code",
   "execution_count": 106,
   "metadata": {},
   "outputs": [
    {
     "data": {
      "text/plain": [
       "2120472"
      ]
     },
     "execution_count": 106,
     "metadata": {},
     "output_type": "execute_result"
    }
   ],
   "source": [
    "len(unique_locations_overall)"
   ]
  },
  {
   "cell_type": "code",
   "execution_count": 107,
   "metadata": {},
   "outputs": [],
   "source": [
    "unique_locations_overall = set(unique_locations_overall)"
   ]
  },
  {
   "cell_type": "code",
   "execution_count": 108,
   "metadata": {},
   "outputs": [
    {
     "data": {
      "text/plain": [
       "14568"
      ]
     },
     "execution_count": 108,
     "metadata": {},
     "output_type": "execute_result"
    }
   ],
   "source": [
    "len(unique_locations_overall)"
   ]
  },
  {
   "cell_type": "code",
   "execution_count": 109,
   "metadata": {},
   "outputs": [],
   "source": [
    "#remove all agents with property count less than 3\n",
    "\n",
    "df2_property_count_drop = df2[df2.properties_count <3 ].reset_index()\n",
    "\n",
    "df2_property_count_keep = df2[df2.properties_count >2 ].reset_index()\n"
   ]
  },
  {
   "cell_type": "code",
   "execution_count": 110,
   "metadata": {},
   "outputs": [
    {
     "data": {
      "text/plain": [
       "((380465, 21), (264205, 22), (116260, 22))"
      ]
     },
     "execution_count": 110,
     "metadata": {},
     "output_type": "execute_result"
    }
   ],
   "source": [
    "df2.shape, df2_property_count_drop.shape, df2_property_count_keep.shape"
   ]
  },
  {
   "cell_type": "code",
   "execution_count": 111,
   "metadata": {},
   "outputs": [
    {
     "data": {
      "text/plain": [
       "'\\n# get unique cities and counties from df2_property_count_keep\\nunique_locations_count_1_plus=[]\\n\\nfor i in range(0, len(df2_property_count_1_plus)):\\n    for j in range(0, len(df2_property_count_1_plus.location_array[i])):\\n        unique_locations_count_1_plus.append(df2_property_count_1_plus.location_array[i][j])\\n'"
      ]
     },
     "execution_count": 111,
     "metadata": {},
     "output_type": "execute_result"
    }
   ],
   "source": [
    "# get unique cities and counties from df2_property_count_keep\n",
    "\n",
    "'''\n",
    "# get unique cities and counties from df2_property_count_keep\n",
    "unique_locations_count_1_plus=[]\n",
    "\n",
    "for i in range(0, len(df2_property_count_1_plus)):\n",
    "    for j in range(0, len(df2_property_count_1_plus.location_array[i])):\n",
    "        unique_locations_count_1_plus.append(df2_property_count_1_plus.location_array[i][j])\n",
    "'''\n",
    "\n",
    "unique_locations_overall_keep=[]\n",
    "\n",
    "for i,value in df2_property_count_keep['location_array'].iteritems():\n",
    "    for j in range(0, len(value)):\n",
    "        unique_locations_overall_keep.append(value[j])\n"
   ]
  },
  {
   "cell_type": "code",
   "execution_count": 112,
   "metadata": {},
   "outputs": [],
   "source": [
    "unique_locations_overall_keep=set(unique_locations_overall_keep)"
   ]
  },
  {
   "cell_type": "code",
   "execution_count": 113,
   "metadata": {},
   "outputs": [
    {
     "data": {
      "text/plain": [
       "13907"
      ]
     },
     "execution_count": 113,
     "metadata": {},
     "output_type": "execute_result"
    }
   ],
   "source": [
    "len(unique_locations_overall_keep)"
   ]
  },
  {
   "cell_type": "code",
   "execution_count": 114,
   "metadata": {},
   "outputs": [],
   "source": [
    "missing_locations = unique_locations_overall - unique_locations_overall_keep"
   ]
  },
  {
   "cell_type": "code",
   "execution_count": 115,
   "metadata": {},
   "outputs": [
    {
     "data": {
      "text/plain": [
       "661"
      ]
     },
     "execution_count": 115,
     "metadata": {},
     "output_type": "execute_result"
    }
   ],
   "source": [
    "len(missing_locations)"
   ]
  },
  {
   "cell_type": "code",
   "execution_count": 116,
   "metadata": {},
   "outputs": [],
   "source": [
    "\n",
    "\n",
    "'''\n",
    "missing_location_agents=[]\n",
    "\n",
    "tmp=[]\n",
    "\n",
    "for i in range(0,len(df2_property_count_1)):\n",
    "    for j in range(0, len(df2_property_count_1[\"location_array\"][i])):\n",
    "        if ( (df2_property_count_1[\"location_array\"][i][j] in list(missing_locations)) & (df2_property_count_1[\"location_array\"][i][j] not in tmp)):\n",
    "            missing_location_agents.append(df2_property_count_1[\"agent_name\"][i])\n",
    "            tmp.append(df2_property_count_1[\"location_array\"][i][j])\n",
    "            #print(dropped_agents[{\"agentID\",\"locations\"}][i])\n",
    "            \n",
    "'''   \n",
    "\n",
    "missing_location_agents=[]\n",
    "tmp=[]\n",
    "\n",
    "for i,value in df2_property_count_drop['location_array'].iteritems():\n",
    "    for j in range(0, len(value)):\n",
    "        if ( (value[j] in list(missing_locations)) &  (value[j] not in tmp) ):\n",
    "            missing_location_agents.append(df2_property_count_drop[\"agent_name\"][i])\n",
    "            tmp.append(value[j])\n",
    "\n",
    "       "
   ]
  },
  {
   "cell_type": "code",
   "execution_count": 117,
   "metadata": {},
   "outputs": [
    {
     "data": {
      "text/plain": [
       "661"
      ]
     },
     "execution_count": 117,
     "metadata": {},
     "output_type": "execute_result"
    }
   ],
   "source": [
    "len(set(tmp))"
   ]
  },
  {
   "cell_type": "code",
   "execution_count": 118,
   "metadata": {},
   "outputs": [
    {
     "data": {
      "text/plain": [
       "661"
      ]
     },
     "execution_count": 118,
     "metadata": {},
     "output_type": "execute_result"
    }
   ],
   "source": [
    "len(missing_location_agents)"
   ]
  },
  {
   "cell_type": "code",
   "execution_count": 119,
   "metadata": {},
   "outputs": [
    {
     "data": {
      "text/plain": [
       "646"
      ]
     },
     "execution_count": 119,
     "metadata": {},
     "output_type": "execute_result"
    }
   ],
   "source": [
    "len(set(missing_location_agents))"
   ]
  },
  {
   "cell_type": "code",
   "execution_count": 120,
   "metadata": {},
   "outputs": [],
   "source": [
    "missing_location_agents=set(missing_location_agents)"
   ]
  },
  {
   "cell_type": "code",
   "execution_count": 121,
   "metadata": {},
   "outputs": [],
   "source": [
    "agents_to_be_added=pd.DataFrame(missing_location_agents,columns =['agent_name'])"
   ]
  },
  {
   "cell_type": "code",
   "execution_count": 122,
   "metadata": {},
   "outputs": [
    {
     "data": {
      "text/html": [
       "<div>\n",
       "<style scoped>\n",
       "    .dataframe tbody tr th:only-of-type {\n",
       "        vertical-align: middle;\n",
       "    }\n",
       "\n",
       "    .dataframe tbody tr th {\n",
       "        vertical-align: top;\n",
       "    }\n",
       "\n",
       "    .dataframe thead th {\n",
       "        text-align: right;\n",
       "    }\n",
       "</style>\n",
       "<table border=\"1\" class=\"dataframe\">\n",
       "  <thead>\n",
       "    <tr style=\"text-align: right;\">\n",
       "      <th></th>\n",
       "      <th>agent_name</th>\n",
       "    </tr>\n",
       "  </thead>\n",
       "  <tbody>\n",
       "    <tr>\n",
       "      <td>0</td>\n",
       "      <td>BUCK HOUSTON</td>\n",
       "    </tr>\n",
       "    <tr>\n",
       "      <td>1</td>\n",
       "      <td>Brandon Sale Team</td>\n",
       "    </tr>\n",
       "    <tr>\n",
       "      <td>2</td>\n",
       "      <td>DUSTIN COWELL</td>\n",
       "    </tr>\n",
       "    <tr>\n",
       "      <td>3</td>\n",
       "      <td>Anna Olson</td>\n",
       "    </tr>\n",
       "    <tr>\n",
       "      <td>4</td>\n",
       "      <td>Johnny Barenchik Iii</td>\n",
       "    </tr>\n",
       "  </tbody>\n",
       "</table>\n",
       "</div>"
      ],
      "text/plain": [
       "             agent_name\n",
       "0  BUCK HOUSTON        \n",
       "1  Brandon Sale Team   \n",
       "2  DUSTIN COWELL       \n",
       "3  Anna Olson          \n",
       "4  Johnny Barenchik Iii"
      ]
     },
     "execution_count": 122,
     "metadata": {},
     "output_type": "execute_result"
    }
   ],
   "source": [
    "agents_to_be_added.head(5)"
   ]
  },
  {
   "cell_type": "code",
   "execution_count": 123,
   "metadata": {},
   "outputs": [
    {
     "data": {
      "text/plain": [
       "((116260, 22), (264205, 22), (646, 1))"
      ]
     },
     "execution_count": 123,
     "metadata": {},
     "output_type": "execute_result"
    }
   ],
   "source": [
    "df2_property_count_keep.shape, df2_property_count_drop.shape, agents_to_be_added.shape"
   ]
  },
  {
   "cell_type": "code",
   "execution_count": 124,
   "metadata": {},
   "outputs": [],
   "source": [
    "ddd = pd.merge(df2_property_count_drop, agents_to_be_added, on='agent_name')"
   ]
  },
  {
   "cell_type": "code",
   "execution_count": 125,
   "metadata": {},
   "outputs": [
    {
     "data": {
      "text/plain": [
       "(646, 22)"
      ]
     },
     "execution_count": 125,
     "metadata": {},
     "output_type": "execute_result"
    }
   ],
   "source": [
    "ddd.shape"
   ]
  },
  {
   "cell_type": "code",
   "execution_count": 126,
   "metadata": {},
   "outputs": [],
   "source": [
    "final_agents=pd.concat([df2_property_count_keep,ddd]).reset_index()"
   ]
  },
  {
   "cell_type": "code",
   "execution_count": 127,
   "metadata": {},
   "outputs": [
    {
     "data": {
      "text/plain": [
       "(116906, 23)"
      ]
     },
     "execution_count": 127,
     "metadata": {},
     "output_type": "execute_result"
    }
   ],
   "source": [
    "final_agents.shape"
   ]
  },
  {
   "cell_type": "code",
   "execution_count": 128,
   "metadata": {},
   "outputs": [],
   "source": [
    "# VALIDATION\n",
    "\n",
    "# get unique cities and counties from df2_property_count_1_plus\n",
    "validation=[]\n",
    "\n",
    "for i,value in final_agents['location_array'].iteritems():\n",
    "    for j in range(0, len(value)):\n",
    "        validation.append(value[j])"
   ]
  },
  {
   "cell_type": "code",
   "execution_count": 129,
   "metadata": {},
   "outputs": [
    {
     "data": {
      "text/plain": [
       "1434358"
      ]
     },
     "execution_count": 129,
     "metadata": {},
     "output_type": "execute_result"
    }
   ],
   "source": [
    "len(validation)"
   ]
  },
  {
   "cell_type": "code",
   "execution_count": 130,
   "metadata": {},
   "outputs": [],
   "source": [
    "validation= set(validation)"
   ]
  },
  {
   "cell_type": "code",
   "execution_count": 131,
   "metadata": {},
   "outputs": [
    {
     "data": {
      "text/plain": [
       "14568"
      ]
     },
     "execution_count": 131,
     "metadata": {},
     "output_type": "execute_result"
    }
   ],
   "source": [
    "len(validation)"
   ]
  },
  {
   "cell_type": "code",
   "execution_count": 132,
   "metadata": {},
   "outputs": [
    {
     "data": {
      "text/plain": [
       "14568"
      ]
     },
     "execution_count": 132,
     "metadata": {},
     "output_type": "execute_result"
    }
   ],
   "source": [
    "len(unique_locations_overall)"
   ]
  },
  {
   "cell_type": "code",
   "execution_count": null,
   "metadata": {},
   "outputs": [],
   "source": []
  },
  {
   "cell_type": "code",
   "execution_count": 134,
   "metadata": {},
   "outputs": [],
   "source": [
    "final_agents['areaServed'] = final_agents['location_array_set'].apply(','.join)\n",
    "final_agents['property_type'] = final_agents['property_type_set'].apply(','.join)\n",
    "final_agents['state'] = final_agents['state_set'].apply(','.join)\n"
   ]
  },
  {
   "cell_type": "code",
   "execution_count": 135,
   "metadata": {},
   "outputs": [
    {
     "data": {
      "text/html": [
       "<div>\n",
       "<style scoped>\n",
       "    .dataframe tbody tr th:only-of-type {\n",
       "        vertical-align: middle;\n",
       "    }\n",
       "\n",
       "    .dataframe tbody tr th {\n",
       "        vertical-align: top;\n",
       "    }\n",
       "\n",
       "    .dataframe thead th {\n",
       "        text-align: right;\n",
       "    }\n",
       "</style>\n",
       "<table border=\"1\" class=\"dataframe\">\n",
       "  <thead>\n",
       "    <tr style=\"text-align: right;\">\n",
       "      <th></th>\n",
       "      <th>level_0</th>\n",
       "      <th>index</th>\n",
       "      <th>agent_name</th>\n",
       "      <th>agent_office_phone</th>\n",
       "      <th>properties_count</th>\n",
       "      <th>max_beds</th>\n",
       "      <th>min_beds</th>\n",
       "      <th>agent_phone</th>\n",
       "      <th>min_price</th>\n",
       "      <th>max_price</th>\n",
       "      <th>location</th>\n",
       "      <th>agent_office_email</th>\n",
       "      <th>agent_office</th>\n",
       "      <th>property_type</th>\n",
       "      <th>agent_email</th>\n",
       "      <th>agent_office_id</th>\n",
       "      <th>state</th>\n",
       "      <th>location_array</th>\n",
       "      <th>location_array_set</th>\n",
       "      <th>property_type_array</th>\n",
       "      <th>property_type_set</th>\n",
       "      <th>state_array</th>\n",
       "      <th>state_set</th>\n",
       "      <th>areaServed</th>\n",
       "    </tr>\n",
       "  </thead>\n",
       "  <tbody>\n",
       "    <tr>\n",
       "      <td>0</td>\n",
       "      <td>0</td>\n",
       "      <td>0</td>\n",
       "      <td>\"Dg\" Doug George</td>\n",
       "      <td>440-282-8002</td>\n",
       "      <td>8</td>\n",
       "      <td>5</td>\n",
       "      <td>2</td>\n",
       "      <td>440-320-6700</td>\n",
       "      <td>34900</td>\n",
       "      <td>192990</td>\n",
       "      <td>lakewood,cuyahoga,amherst,lorain,lorain,lorain,lorain,lorain,elyria,lorain,lorain,lorain,lorain,lorain,lorain,lorain</td>\n",
       "      <td>lizconcar@howardhanna.com</td>\n",
       "      <td>Howard Hanna</td>\n",
       "      <td>house,apartment</td>\n",
       "      <td>douggeorge@howardhanna.com</td>\n",
       "      <td>2694</td>\n",
       "      <td>OH</td>\n",
       "      <td>[lakewood, cuyahoga, amherst, lorain, lorain, lorain, lorain, lorain, elyria, lorain, lorain, lorain, lorain, lorain, lorain, lorain]</td>\n",
       "      <td>{amherst, lakewood, cuyahoga, elyria, lorain}</td>\n",
       "      <td>[house, house, house, apartment, apartment, house, house, house]</td>\n",
       "      <td>{house, apartment}</td>\n",
       "      <td>[OH, OH, OH, OH, OH, OH, OH, OH]</td>\n",
       "      <td>{OH}</td>\n",
       "      <td>amherst,lakewood,cuyahoga,elyria,lorain</td>\n",
       "    </tr>\n",
       "    <tr>\n",
       "      <td>1</td>\n",
       "      <td>1</td>\n",
       "      <td>3</td>\n",
       "      <td>\"Pi\" Kimberly Stryker</td>\n",
       "      <td>707-928-6900</td>\n",
       "      <td>3</td>\n",
       "      <td>3</td>\n",
       "      <td>1</td>\n",
       "      <td>707-928-6900</td>\n",
       "      <td>135000</td>\n",
       "      <td>189000</td>\n",
       "      <td>clearlake,lake,clearlake,lake,clearlake,lake</td>\n",
       "      <td>None</td>\n",
       "      <td>Timothy Toye And Associates</td>\n",
       "      <td>house</td>\n",
       "      <td>pistryker@gmail.com</td>\n",
       "      <td>LCTTA</td>\n",
       "      <td>CA</td>\n",
       "      <td>[clearlake, lake, clearlake, lake, clearlake, lake]</td>\n",
       "      <td>{lake, clearlake}</td>\n",
       "      <td>[house, house, house]</td>\n",
       "      <td>{house}</td>\n",
       "      <td>[CA, CA, CA]</td>\n",
       "      <td>{CA}</td>\n",
       "      <td>lake,clearlake</td>\n",
       "    </tr>\n",
       "  </tbody>\n",
       "</table>\n",
       "</div>"
      ],
      "text/plain": [
       "   level_0  index             agent_name agent_office_phone  properties_count  max_beds  min_beds   agent_phone  min_price  max_price                                                                                                              location         agent_office_email                 agent_office    property_type                 agent_email agent_office_id state                                                                                                                         location_array                             location_array_set                                               property_type_array   property_type_set                       state_array state_set                               areaServed\n",
       "0  0        0      \"Dg\" Doug George       440-282-8002       8                 5         2         440-320-6700  34900      192990     lakewood,cuyahoga,amherst,lorain,lorain,lorain,lorain,lorain,elyria,lorain,lorain,lorain,lorain,lorain,lorain,lorain  lizconcar@howardhanna.com  Howard Hanna                 house,apartment  douggeorge@howardhanna.com  2694            OH    [lakewood, cuyahoga, amherst, lorain, lorain, lorain, lorain, lorain, elyria, lorain, lorain, lorain, lorain, lorain, lorain, lorain]  {amherst, lakewood, cuyahoga, elyria, lorain}  [house, house, house, apartment, apartment, house, house, house]  {house, apartment}  [OH, OH, OH, OH, OH, OH, OH, OH]  {OH}      amherst,lakewood,cuyahoga,elyria,lorain\n",
       "1  1        3      \"Pi\" Kimberly Stryker  707-928-6900       3                 3         1         707-928-6900  135000     189000     clearlake,lake,clearlake,lake,clearlake,lake                                                                          None                       Timothy Toye And Associates  house            pistryker@gmail.com         LCTTA           CA    [clearlake, lake, clearlake, lake, clearlake, lake]                                                                                    {lake, clearlake}                              [house, house, house]                                             {house}             [CA, CA, CA]                      {CA}      lake,clearlake                         "
      ]
     },
     "execution_count": 135,
     "metadata": {},
     "output_type": "execute_result"
    }
   ],
   "source": [
    "final_agents.head(2)"
   ]
  },
  {
   "cell_type": "code",
   "execution_count": 136,
   "metadata": {},
   "outputs": [],
   "source": [
    "\n",
    "df3 = final_agents[['agent_name', 'agent_phone','agent_email','agent_office','agent_office_id','agent_office_phone','agent_office_email','properties_count','min_beds','max_beds','min_price','max_price'\n",
    "           ,'property_type','areaServed','state']]\n",
    "    "
   ]
  },
  {
   "cell_type": "code",
   "execution_count": 137,
   "metadata": {},
   "outputs": [],
   "source": [
    "df3.to_csv('gs://nest-agents/quantarium_agents.csv')"
   ]
  },
  {
   "cell_type": "markdown",
   "metadata": {},
   "source": [
    "<b>##  END OF LOADING\n"
   ]
  },
  {
   "cell_type": "code",
   "execution_count": null,
   "metadata": {},
   "outputs": [],
   "source": []
  },
  {
   "cell_type": "code",
   "execution_count": null,
   "metadata": {},
   "outputs": [],
   "source": [
    "## Pull locations from postgre location table to see what locations (cities, counties) are missing."
   ]
  },
  {
   "cell_type": "code",
   "execution_count": 138,
   "metadata": {},
   "outputs": [],
   "source": [
    "sql1 = \"\"\" SELECT level, name FROM public.locations \"\"\""
   ]
  },
  {
   "cell_type": "code",
   "execution_count": 139,
   "metadata": {},
   "outputs": [],
   "source": [
    "import pandas as pd\n",
    "df_loc = pd.read_sql_query(sql1,con=con)"
   ]
  },
  {
   "cell_type": "code",
   "execution_count": 142,
   "metadata": {},
   "outputs": [
    {
     "data": {
      "text/html": [
       "<div>\n",
       "<style scoped>\n",
       "    .dataframe tbody tr th:only-of-type {\n",
       "        vertical-align: middle;\n",
       "    }\n",
       "\n",
       "    .dataframe tbody tr th {\n",
       "        vertical-align: top;\n",
       "    }\n",
       "\n",
       "    .dataframe thead th {\n",
       "        text-align: right;\n",
       "    }\n",
       "</style>\n",
       "<table border=\"1\" class=\"dataframe\">\n",
       "  <thead>\n",
       "    <tr style=\"text-align: right;\">\n",
       "      <th></th>\n",
       "      <th>level</th>\n",
       "      <th>name</th>\n",
       "    </tr>\n",
       "  </thead>\n",
       "  <tbody>\n",
       "    <tr>\n",
       "      <td>0</td>\n",
       "      <td>New::Locations::PostalCode</td>\n",
       "      <td>18517</td>\n",
       "    </tr>\n",
       "    <tr>\n",
       "      <td>1</td>\n",
       "      <td>New::Locations::City</td>\n",
       "      <td>Wolfcreek</td>\n",
       "    </tr>\n",
       "    <tr>\n",
       "      <td>2</td>\n",
       "      <td>New::Locations::PostalCode</td>\n",
       "      <td>L6J7Z3</td>\n",
       "    </tr>\n",
       "    <tr>\n",
       "      <td>3</td>\n",
       "      <td>New::Locations::City</td>\n",
       "      <td>Hudson</td>\n",
       "    </tr>\n",
       "    <tr>\n",
       "      <td>4</td>\n",
       "      <td>New::Locations::PostalCode</td>\n",
       "      <td>N1E7E7</td>\n",
       "    </tr>\n",
       "  </tbody>\n",
       "</table>\n",
       "</div>"
      ],
      "text/plain": [
       "                        level       name\n",
       "0  New::Locations::PostalCode  18517    \n",
       "1  New::Locations::City        Wolfcreek\n",
       "2  New::Locations::PostalCode  L6J7Z3   \n",
       "3  New::Locations::City        Hudson   \n",
       "4  New::Locations::PostalCode  N1E7E7   "
      ]
     },
     "execution_count": 142,
     "metadata": {},
     "output_type": "execute_result"
    }
   ],
   "source": [
    "df_loc.head()"
   ]
  },
  {
   "cell_type": "code",
   "execution_count": 147,
   "metadata": {},
   "outputs": [],
   "source": [
    "#df_cities = df_loc[df_loc.level == 'New::Locations::City' ]"
   ]
  },
  {
   "cell_type": "code",
   "execution_count": 207,
   "metadata": {},
   "outputs": [
    {
     "name": "stderr",
     "output_type": "stream",
     "text": [
      "/usr/local/lib/python3.5/dist-packages/ipykernel_launcher.py:3: SettingWithCopyWarning: \n",
      "A value is trying to be set on a copy of a slice from a DataFrame.\n",
      "Try using .loc[row_indexer,col_indexer] = value instead\n",
      "\n",
      "See the caveats in the documentation: http://pandas.pydata.org/pandas-docs/stable/user_guide/indexing.html#returning-a-view-versus-a-copy\n",
      "  This is separate from the ipykernel package so we can avoid doing imports until\n"
     ]
    }
   ],
   "source": [
    "df_cities = df_loc[df_loc.level.str.contains('City')]\n",
    "\n",
    "\n"
   ]
  },
  {
   "cell_type": "code",
   "execution_count": 208,
   "metadata": {},
   "outputs": [
    {
     "data": {
      "text/plain": [
       "Index(['level', 'name'], dtype='object')"
      ]
     },
     "execution_count": 208,
     "metadata": {},
     "output_type": "execute_result"
    }
   ],
   "source": [
    "df_cities.columns"
   ]
  },
  {
   "cell_type": "code",
   "execution_count": 186,
   "metadata": {},
   "outputs": [
    {
     "data": {
      "text/plain": [
       "(17195,)"
      ]
     },
     "execution_count": 186,
     "metadata": {},
     "output_type": "execute_result"
    }
   ],
   "source": [
    "df_cities['name'].unique().shape"
   ]
  },
  {
   "cell_type": "code",
   "execution_count": 211,
   "metadata": {},
   "outputs": [
    {
     "name": "stderr",
     "output_type": "stream",
     "text": [
      "/usr/local/lib/python3.5/dist-packages/ipykernel_launcher.py:3: SettingWithCopyWarning: \n",
      "A value is trying to be set on a copy of a slice from a DataFrame.\n",
      "Try using .loc[row_indexer,col_indexer] = value instead\n",
      "\n",
      "See the caveats in the documentation: http://pandas.pydata.org/pandas-docs/stable/user_guide/indexing.html#returning-a-view-versus-a-copy\n",
      "  This is separate from the ipykernel package so we can avoid doing imports until\n"
     ]
    }
   ],
   "source": [
    "#df_counties = df_loc[df_loc.level == 'Locations::County' ]\n",
    "df_counties = df_loc[df_loc.level.str.contains('County')]\n",
    "df_counties['name'] = df_counties['name'].str.replace(' ','') \n",
    "\n"
   ]
  },
  {
   "cell_type": "code",
   "execution_count": 212,
   "metadata": {},
   "outputs": [
    {
     "data": {
      "text/plain": [
       "(1925,)"
      ]
     },
     "execution_count": 212,
     "metadata": {},
     "output_type": "execute_result"
    }
   ],
   "source": [
    "df_counties['name'].unique().shape"
   ]
  },
  {
   "cell_type": "code",
   "execution_count": 213,
   "metadata": {},
   "outputs": [
    {
     "name": "stdout",
     "output_type": "stream",
     "text": [
      "19118\n"
     ]
    }
   ],
   "source": [
    "print(df_cities['name'].unique().shape[0] + df_counties['name'].unique().shape[0])\n"
   ]
  },
  {
   "cell_type": "code",
   "execution_count": 214,
   "metadata": {},
   "outputs": [],
   "source": [
    "\n",
    "unique_cities  = df_cities['name'].unique()\n",
    "\n",
    "unique_counties = df_counties['name'].unique()\n",
    "\n"
   ]
  },
  {
   "cell_type": "code",
   "execution_count": 215,
   "metadata": {},
   "outputs": [
    {
     "data": {
      "text/plain": [
       "numpy.ndarray"
      ]
     },
     "execution_count": 215,
     "metadata": {},
     "output_type": "execute_result"
    }
   ],
   "source": [
    "type(unique_cities)"
   ]
  },
  {
   "cell_type": "code",
   "execution_count": 216,
   "metadata": {},
   "outputs": [],
   "source": [
    "import numpy as np\n",
    "unique_locs =np.concatenate((unique_cities, unique_counties))\n",
    "\n"
   ]
  },
  {
   "cell_type": "code",
   "execution_count": 217,
   "metadata": {},
   "outputs": [
    {
     "data": {
      "text/plain": [
       "'BonAqua'"
      ]
     },
     "execution_count": 217,
     "metadata": {},
     "output_type": "execute_result"
    }
   ],
   "source": [
    "unique_locs[5]"
   ]
  },
  {
   "cell_type": "code",
   "execution_count": 218,
   "metadata": {},
   "outputs": [
    {
     "data": {
      "text/plain": [
       "19118"
      ]
     },
     "execution_count": 218,
     "metadata": {},
     "output_type": "execute_result"
    }
   ],
   "source": [
    "len(unique_locs)"
   ]
  },
  {
   "cell_type": "code",
   "execution_count": 219,
   "metadata": {},
   "outputs": [
    {
     "data": {
      "text/plain": [
       "14568"
      ]
     },
     "execution_count": 219,
     "metadata": {},
     "output_type": "execute_result"
    }
   ],
   "source": [
    "len(unique_locations_overall)"
   ]
  },
  {
   "cell_type": "code",
   "execution_count": 224,
   "metadata": {},
   "outputs": [
    {
     "data": {
      "text/plain": [
       "set"
      ]
     },
     "execution_count": 224,
     "metadata": {},
     "output_type": "execute_result"
    }
   ],
   "source": [
    "type(unique_locations_overall)\n",
    "    "
   ]
  },
  {
   "cell_type": "code",
   "execution_count": 220,
   "metadata": {},
   "outputs": [],
   "source": [
    "unique_locs = set(unique_locs)"
   ]
  },
  {
   "cell_type": "code",
   "execution_count": 221,
   "metadata": {},
   "outputs": [
    {
     "data": {
      "text/plain": [
       "(set, set)"
      ]
     },
     "execution_count": 221,
     "metadata": {},
     "output_type": "execute_result"
    }
   ],
   "source": [
    "type(unique_locations_overall), type(unique_locs)"
   ]
  },
  {
   "cell_type": "code",
   "execution_count": 222,
   "metadata": {},
   "outputs": [],
   "source": [
    "missing_locs =  unique_locs - unique_locations_overall"
   ]
  },
  {
   "cell_type": "code",
   "execution_count": 223,
   "metadata": {},
   "outputs": [
    {
     "data": {
      "text/plain": [
       "17837"
      ]
     },
     "execution_count": 223,
     "metadata": {},
     "output_type": "execute_result"
    }
   ],
   "source": [
    "len(missing_locs)"
   ]
  },
  {
   "cell_type": "code",
   "execution_count": null,
   "metadata": {},
   "outputs": [],
   "source": [
    "'''\n",
    "import base64\n",
    "from PIL import Image\n",
    "from io import BytesIO\n",
    "\n",
    "with open(\"image.jpg\", \"rb\") as image_file:\n",
    "    data = base64.b64encode(image_file.read())\n",
    "\n",
    "im = Image.open(BytesIO(base64.b64decode(data)))\n",
    "im.save('image1.png', 'PNG')\n",
    "\n",
    "!curl -X POST -H \"Content-Type: application/json\" https://automl.googleapis.com/v1beta1/projects/314307691106/locations/us-central1/models/ICN1853288421267603456:predict -d @request.json\n",
    "\n",
    "\n",
    "'''"
   ]
  }
 ],
 "metadata": {
  "kernelspec": {
   "display_name": "Python 3",
   "language": "python",
   "name": "python3"
  },
  "language_info": {
   "codemirror_mode": {
    "name": "ipython",
    "version": 3
   },
   "file_extension": ".py",
   "mimetype": "text/x-python",
   "name": "python",
   "nbconvert_exporter": "python",
   "pygments_lexer": "ipython3",
   "version": "3.7.3"
  }
 },
 "nbformat": 4,
 "nbformat_minor": 4
}
