{
 "cells": [
  {
   "cell_type": "code",
   "execution_count": 1,
   "metadata": {},
   "outputs": [],
   "source": [
    "import pandas as pd\n",
    "from pymongo import MongoClient\n",
    "from collections import defaultdict\n",
    "import seaborn as sns\n",
    "import matplotlib.pyplot as plt\n",
    "import json\n",
    "from bson import json_util\n"
   ]
  },
  {
   "cell_type": "code",
   "execution_count": 2,
   "metadata": {},
   "outputs": [],
   "source": [
    "g_env='localhost'\n",
    "g_port=27017"
   ]
  },
  {
   "cell_type": "code",
   "execution_count": 3,
   "metadata": {},
   "outputs": [],
   "source": [
    "client = MongoClient(g_env,g_port)\n",
    "#client = MongoClient()\n",
    "db = client.backend_production"
   ]
  },
  {
   "cell_type": "code",
   "execution_count": 6,
   "metadata": {},
   "outputs": [],
   "source": [
    "dd_us=db.properties.find( {\"country\": \"US\"}).limit(800000)"
   ]
  },
  {
   "cell_type": "code",
   "execution_count": 29,
   "metadata": {},
   "outputs": [],
   "source": [
    "#dd_us_state=db.properties.find( { \"country\" : \"US\" },{ \"province\"})"
   ]
  },
  {
   "cell_type": "code",
   "execution_count": null,
   "metadata": {},
   "outputs": [],
   "source": [
    "#df=db.properties.find( { \"country\" : \"US\" })"
   ]
  },
  {
   "cell_type": "code",
   "execution_count": 7,
   "metadata": {},
   "outputs": [],
   "source": [
    "df = pd.DataFrame.from_dict(dd_us, orient='columns')"
   ]
  },
  {
   "cell_type": "code",
   "execution_count": 8,
   "metadata": {},
   "outputs": [
    {
     "data": {
      "text/plain": [
       "(800000, 144)"
      ]
     },
     "execution_count": 8,
     "metadata": {},
     "output_type": "execute_result"
    }
   ],
   "source": [
    "df.shape"
   ]
  },
  {
   "cell_type": "code",
   "execution_count": 10,
   "metadata": {},
   "outputs": [
    {
     "data": {
      "text/plain": [
       "fees                     100.00\n",
       "furnished                100.00\n",
       "agent_external_id        100.00\n",
       "agent_name               100.00\n",
       "scoring                  100.00\n",
       "showing_date             100.00\n",
       "state                    100.00\n",
       "water_heater             100.00\n",
       "stories                  100.00\n",
       "available_showing        100.00\n",
       "open_houses              100.00\n",
       "open_house_count         100.00\n",
       "agent_avatar_url         100.00\n",
       "main_level_sqft          100.00\n",
       "water                    100.00\n",
       "roof                     100.00\n",
       "is_cable_ready            99.84\n",
       "has_attic                 99.77\n",
       "pool                      99.73\n",
       "fireplaces                99.70\n",
       "intercom                  99.61\n",
       "patio                     99.52\n",
       "living_area               99.35\n",
       "basement                  99.30\n",
       "garage                    99.27\n",
       "parking                   99.01\n",
       "tags                      98.91\n",
       "floors_number             98.75\n",
       "brokerage_external_id     98.01\n",
       "one_quarter_bathrooms     97.93\n",
       "                          ...  \n",
       "location_ids               3.28\n",
       "listing_url                1.99\n",
       "architecture_style         1.99\n",
       "is_new_construction        1.99\n",
       "location                   1.22\n",
       "description                1.06\n",
       "cover_public_url           0.39\n",
       "listing_type               0.37\n",
       "price_cents                0.04\n",
       "postal                     0.02\n",
       "property_type              0.00\n",
       "province                   0.00\n",
       "roof_types                 0.00\n",
       "status                     0.00\n",
       "updated_at                 0.00\n",
       "address_street             0.00\n",
       "address_number             0.00\n",
       "geocoded                   0.00\n",
       "longitude                  0.00\n",
       "beds                       0.00\n",
       "mls_number                 0.00\n",
       "listing_status             0.00\n",
       "latitude                   0.00\n",
       "city                       0.00\n",
       "country                    0.00\n",
       "created_at                 0.00\n",
       "external_id                0.00\n",
       "external_type              0.00\n",
       "images                     0.00\n",
       "_id                        0.00\n",
       "Length: 144, dtype: float64"
      ]
     },
     "execution_count": 10,
     "metadata": {},
     "output_type": "execute_result"
    }
   ],
   "source": [
    "(df.isna().mean().round(4)*100).sort_values(ascending=False)"
   ]
  },
  {
   "cell_type": "code",
   "execution_count": 60,
   "metadata": {},
   "outputs": [],
   "source": [
    "us_drop_features=[\"scoring\", #100\n",
    "                  \"agent_external_id\",\n",
    "                  \"agent_name\",\n",
    "\"showing_date\",#             100.00\n",
    "\"state\",#                    100.00\n",
    "\"roof\",#                     100.00\n",
    "\"stories\",#                  100.00\n",
    "\"open_house_count\",#         100.00\n",
    "\"open_houses\",#              100.00\n",
    "\"available_showing\",#        100.00\n",
    "\"fees\",#                     100.00\n",
    "\"main_level_sqft\",#          100.00\n",
    "\"agent_avatar_url\",#         100.00\n",
    "\"water_heater\",#             100.00\n",
    "\"water\",#                    100.00\n",
    "\"furnished\",#                100.00\n",
    "\"is_cable_ready\",#            99.74\n",
    "\"has_attic\",#                 99.64\n",
    "\"pool\",#                      99.57\n",
    "\"fireplaces\",#                99.52\n",
    "\"intercom\",#                  99.38\n",
    "\"patio\",#                     99.23\n",
    "\"living_area\",#               98.95\n",
    "\"basement\",#                  98.88\n",
    "\"garage\",#                    98.83\n",
    "\"parking\",#                   98.41\n",
    "\"tags\",#                      98.25\n",
    "\"floors_number\",#             98.00\n",
    "\"brokerage_external_id\",#     96.81\n",
    "\"building_type\",#             96.69\n",
    "\"one_quarter_bathrooms\",#      96.69\n",
    "\"full_baths\",#                 96.69\n",
    "\"brokerage\",#                  96.69\n",
    "\"listing_title\",#              96.69\n",
    "\"mls_name\",#                   96.69\n",
    "\"provider_category\",#          96.69\n",
    "\"provider_name\",#              96.69\n",
    "\"provider_url\",#               96.69\n",
    "\"mls_id\",#                     96.69\n",
    "\"participant\",#                96.69\n",
    "\"listing_category\",#           96.69\n",
    "\"half_baths\",#                 96.69\n",
    "\"three_quarter_bathrooms\",#    96.69\n",
    "\"disclose_address\",#           96.69\n",
    "\"external_url\",#               92.00\n",
    "\"unit_number\",#                91.74\n",
    "\"has_garage\",#                 73.47\n",
    "\"has_doorman\",#                73.42\n",
    "\"has_green_house\",#            73.32\n",
    "\"has_sauna\",#                  73.05\n",
    "\"foreclosure\",#                72.89\n",
    "\"has_double_pane_windows\",#    72.82\n",
    "\"has_gated_entry\",#            72.69\n",
    "\"school\",#                     72.56\n",
    "\"tax_amount\",#                 72.56\n",
    "\"has_mother_in_law\",#          72.47\n",
    "\"has_jetted_bath_tub\",#        72.34\n",
    "\"has_disabled_access\",#        72.33\n",
    "\"total_sqft\",#                 72.22\n",
    "\"has_rv_parking\"#             72.13\n",
    "                 ]"
   ]
  },
  {
   "cell_type": "code",
   "execution_count": 23,
   "metadata": {},
   "outputs": [],
   "source": [
    "us_drop_features=[\"fees\",#                    100.00\n",
    "\"furnished\",#                100.00\n",
    "\"agent_external_id\",#        100.00\n",
    "\"agent_name\",#               100.00\n",
    "\"scoring\",#                  100.00\n",
    "\"showing_date\",#             100.00\n",
    "\"state\",#                    100.00\n",
    "\"water_heater\",#             100.00\n",
    "\"stories\",#                  100.00\n",
    "\"available_showing\",#        100.00\n",
    "\"open_houses\",#              100.00\n",
    "\"open_house_count\",#         100.00\n",
    "\"agent_avatar_url\",#         100.00\n",
    "\"main_level_sqft\",#          100.00\n",
    "\"water\",#                    100.00\n",
    "\"roof\",#                     100.00\n",
    "\"is_cable_ready\",#            99.84\n",
    "\"has_attic\",#                 99.77\n",
    "\"pool\",#                      99.73\n",
    "\"fireplaces\",#                99.70\n",
    "\"intercom\",#                  99.61\n",
    "\"patio\",#                     99.52\n",
    "\"living_area\",#               99.35\n",
    "\"basement\",#                  99.30\n",
    "\"garage\",#                    99.27\n",
    "\"parking\",#                   99.01\n",
    "\"tags\",#                      98.91\n",
    "\"floors_number\",#             98.75\n",
    "\"brokerage_external_id\",#     98.01\n",
    "\"one_quarter_bathrooms\",#     97.93\"\n",
    "\"listing_title\",#              97.93\n",
    "\"brokerage\",#                  97.93\n",
    "\"provider_category\",#         97.93\n",
    "\"provider_name\",#              97.93\n",
    "\"provider_url\",#               97.93\n",
    "\"mls_name\",#                   97.93\n",
    "\"mls_id\",#                     97.93\n",
    "\"building_type\",#              97.93\n",
    "\"disclose_address\",#           97.93\n",
    "\"full_baths\",#                 97.93\n",
    "\"three_quarter_bathrooms\",#    97.93\n",
    "\"listing_category\",#           97.93\n",
    "\"half_baths\",#                 97.93\n",
    "\"participant\",#                97.93\n",
    "\"unit_number\",#                94.84\n",
    "\"external_url\",#               85.20\n",
    "\"room_count\",#                 81.37\n",
    "\"brokerage_logo_url\",#         75.62\n",
    "\"listing_date\",#               69.78\n",
    "\"utilities\",#                  67.34\n",
    "\"brokerage_website_url\",#      66.26\n",
    "\"brokerage_email\",#            61.48\n",
    "\"lead_routing_email\",#         56.16\n",
    "\"rooms\",#                      55.52\n",
    "\"brokerage_phone\",#            55.23\n",
    "\"agent_phone\",#                54.25\n",
    "\"agent_email\",#                54.17\n",
    "\"brokerage_name\",#             54.11\n",
    "\"agent_lname\",#                54.11\n",
    "\"agent_fname\",#                54.11  \n",
    "\"agent_id\",#                   54.10\n",
    "\"modified_at\",#                54.08\n",
    "\"agent_key\",#                  54.08\n",
    "\"total_sqft\",#                 50.74\n",
    "\"tax_amount\",#                 48.34\n",
    "\"school\",#                     48.34\n",
    "\"has_garage\",#                45.92\n",
    "\"has_doorman\",#                45.89\n",
    "\"has_green_house\",#            45.83\n",
    "\"has_sauna\",#                  45.66\n",
    "\"foreclosure\",#                45.56\n",
    "\"has_double_pane_windows\",#    45.51\n",
    "\"has_gated_entry\",#            45.43\n",
    "\"has_mother_in_law\",#          45.30\n",
    "\"has_jetted_bath_tub\",#        45.21\n",
    "\"has_disabled_access\",#        45.21\n",
    "\"has_rv_parking\",#             45.08\n",
    "\"has_pond\",#                  44.99\n",
    "\"property_sub_type\",#          44.99\n",
    "\"has_elevator\",#               44.87\n",
    "\"has_dock\",#                   44.87\n",
    "\"has_sports_court\",#           44.74\n",
    "\"has_garden\",#                 44.72\n",
    "\"has_hot_tub_spa\",#            44.72\n",
    "\"has_skylight\",#               44.54\n",
    "\"has_barbecue_area\",#          44.46\n",
    "\"has_wet_bar\",#                44.15\n",
    "\"building_utilities\",#         43.93\n",
    "\"is_wired\",#                   42.97\n",
    "\"has_sprinkler_system\", #      41.68   \n",
    "\"has_vaulted_ceiling\", #    41.65\n",
    "\"has_security_system\", #    41.49\n",
    "\"is_waterfront\", #          40.66  \n",
    "\"description\",\n",
    "\"updated_at\",\n",
    "\"created_at\",                  \n",
    "                 ]"
   ]
  },
  {
   "cell_type": "code",
   "execution_count": 24,
   "metadata": {},
   "outputs": [],
   "source": [
    "df_drop=df.drop(us_drop_features, axis=1)"
   ]
  },
  {
   "cell_type": "code",
   "execution_count": 25,
   "metadata": {},
   "outputs": [
    {
     "data": {
      "text/plain": [
       "has_pool               39.46\n",
       "has_porch              37.76\n",
       "has_deck               37.02\n",
       "has_ceiling_fan        36.29\n",
       "has_patio              35.69\n",
       "has_basement           33.93\n",
       "lot_sqft               33.62\n",
       "has_fireplace          27.50\n",
       "heating_fuels          23.32\n",
       "floors                 18.51\n",
       "year_built             17.67\n",
       "parking_types          16.99\n",
       "num_floors             16.62\n",
       "exterior_types         15.38\n",
       "heating_systems        13.16\n",
       "price_cents_sqft       12.87\n",
       "building_sqft          10.46\n",
       "cooling_systems         9.31\n",
       "partial_bathrooms       3.44\n",
       "bathrooms               3.44\n",
       "location_ids            3.28\n",
       "lower_location_id       3.28\n",
       "listing_url             1.99\n",
       "architecture_style      1.99\n",
       "is_new_construction     1.99\n",
       "location                1.22\n",
       "description             1.06\n",
       "cover_public_url        0.39\n",
       "listing_type            0.37\n",
       "price_cents             0.04\n",
       "postal                  0.02\n",
       "beds                    0.00\n",
       "address_street          0.00\n",
       "city                    0.00\n",
       "country                 0.00\n",
       "created_at              0.00\n",
       "address_number          0.00\n",
       "province                0.00\n",
       "external_id             0.00\n",
       "external_type           0.00\n",
       "status                  0.00\n",
       "geocoded                0.00\n",
       "roof_types              0.00\n",
       "mls_number              0.00\n",
       "property_type           0.00\n",
       "updated_at              0.00\n",
       "images                  0.00\n",
       "latitude                0.00\n",
       "listing_status          0.00\n",
       "longitude               0.00\n",
       "_id                     0.00\n",
       "dtype: float64"
      ]
     },
     "execution_count": 25,
     "metadata": {},
     "output_type": "execute_result"
    }
   ],
   "source": [
    "(df_drop.isna().mean().round(4)*100).sort_values(ascending=False)"
   ]
  },
  {
   "cell_type": "code",
   "execution_count": 34,
   "metadata": {},
   "outputs": [
    {
     "data": {
      "text/plain": [
       "array(['NC', 'SC', 'GA', 'OH', 'FL', 'CA', 'MN', 'WI', 'MI', 'AZ', 'MO',\n",
       "       'MA', 'KS', 'CO', 'NM', 'OR', 'IL', 'MS', 'TN', 'SD', 'NY', 'UT',\n",
       "       'MT', 'TX', 'VA', 'NV', 'NJ', 'VT', 'LA', 'ID', 'AL', 'WV', 'PA',\n",
       "       'AR', 'IA', 'Oregon', 'Michigan', 'Maine', 'California',\n",
       "       'Missouri', 'Vermont', 'Illinois', 'OT', 'WA', 'ND', 'IN', 'ME',\n",
       "       'WY', 'KY', 'AK', 'NE', 'CT', 'HI', 'MD', 'DC', 'Washington', 'OK',\n",
       "       'DE', 'Florida', '12LL26N0CDJI', '157VTQRCND0P', '183AGKUEFVUC',\n",
       "       '157VTQR53NQ4', '1IUAWVU824Q1', '12MCPNI3LMYM', '12MCPND3PMD6',\n",
       "       'Idaho', 'RI', 'NH', 'OH ', 'OC', 'OUT OF COUNTRY', 'PR', 'OTHER',\n",
       "       'IN ', 'F', 'VI', 'PE', 'IT', 'OS', 'Tx', 'Fl', 'fl', 'In', 'in',\n",
       "       'Co', 'Wyoming', 'Colorado', 'Kansas', 'South Dakota', 'Nebraska',\n",
       "       'North Dakota', 'BA', 'New Mexico', 'US', 'Kentucky'], dtype=object)"
      ]
     },
     "execution_count": 34,
     "metadata": {},
     "output_type": "execute_result"
    }
   ],
   "source": [
    "df_us_state.province.unique()"
   ]
  },
  {
   "cell_type": "code",
   "execution_count": 35,
   "metadata": {},
   "outputs": [
    {
     "data": {
      "text/html": [
       "<div>\n",
       "<style scoped>\n",
       "    .dataframe tbody tr th:only-of-type {\n",
       "        vertical-align: middle;\n",
       "    }\n",
       "\n",
       "    .dataframe tbody tr th {\n",
       "        vertical-align: top;\n",
       "    }\n",
       "\n",
       "    .dataframe thead th {\n",
       "        text-align: right;\n",
       "    }\n",
       "</style>\n",
       "<table border=\"1\" class=\"dataframe\">\n",
       "  <thead>\n",
       "    <tr style=\"text-align: right;\">\n",
       "      <th></th>\n",
       "      <th>_id</th>\n",
       "      <th>province</th>\n",
       "    </tr>\n",
       "  </thead>\n",
       "  <tbody>\n",
       "    <tr>\n",
       "      <th>0</th>\n",
       "      <td>5a3ceff1aed0f133b9456d98</td>\n",
       "      <td>NC</td>\n",
       "    </tr>\n",
       "    <tr>\n",
       "      <th>1</th>\n",
       "      <td>5a3ceff9aed0f133b9456f3c</td>\n",
       "      <td>SC</td>\n",
       "    </tr>\n",
       "    <tr>\n",
       "      <th>2</th>\n",
       "      <td>5a3cf088aed0f133b945837f</td>\n",
       "      <td>NC</td>\n",
       "    </tr>\n",
       "    <tr>\n",
       "      <th>3</th>\n",
       "      <td>5a3cf08aaed0f133b9458575</td>\n",
       "      <td>NC</td>\n",
       "    </tr>\n",
       "    <tr>\n",
       "      <th>4</th>\n",
       "      <td>5a3cf0abaed0f133b9458be6</td>\n",
       "      <td>SC</td>\n",
       "    </tr>\n",
       "  </tbody>\n",
       "</table>\n",
       "</div>"
      ],
      "text/plain": [
       "                        _id province\n",
       "0  5a3ceff1aed0f133b9456d98       NC\n",
       "1  5a3ceff9aed0f133b9456f3c       SC\n",
       "2  5a3cf088aed0f133b945837f       NC\n",
       "3  5a3cf08aaed0f133b9458575       NC\n",
       "4  5a3cf0abaed0f133b9458be6       SC"
      ]
     },
     "execution_count": 35,
     "metadata": {},
     "output_type": "execute_result"
    }
   ],
   "source": [
    "df_us_state.head()"
   ]
  },
  {
   "cell_type": "code",
   "execution_count": 8,
   "metadata": {},
   "outputs": [],
   "source": [
    "df = pd.DataFrame.from_dict(dd_us, orient='columns')"
   ]
  },
  {
   "cell_type": "code",
   "execution_count": 10,
   "metadata": {},
   "outputs": [
    {
     "data": {
      "text/plain": [
       "0     NC\n",
       "1     SC\n",
       "2     NC\n",
       "3     NC\n",
       "4     SC\n",
       "5     SC\n",
       "6     SC\n",
       "7     SC\n",
       "8     SC\n",
       "9     SC\n",
       "10    SC\n",
       "11    SC\n",
       "12    SC\n",
       "13    SC\n",
       "14    SC\n",
       "15    SC\n",
       "16    SC\n",
       "17    SC\n",
       "18    SC\n",
       "19    SC\n",
       "20    GA\n",
       "21    SC\n",
       "22    NC\n",
       "23    NC\n",
       "24    NC\n",
       "25    NC\n",
       "26    NC\n",
       "27    SC\n",
       "28    SC\n",
       "29    SC\n",
       "      ..\n",
       "70    SC\n",
       "71    SC\n",
       "72    SC\n",
       "73    NC\n",
       "74    NC\n",
       "75    NC\n",
       "76    NC\n",
       "77    FL\n",
       "78    FL\n",
       "79    FL\n",
       "80    NC\n",
       "81    OH\n",
       "82    FL\n",
       "83    FL\n",
       "84    SC\n",
       "85    FL\n",
       "86    NC\n",
       "87    NC\n",
       "88    NC\n",
       "89    NC\n",
       "90    NC\n",
       "91    NC\n",
       "92    SC\n",
       "93    FL\n",
       "94    SC\n",
       "95    NC\n",
       "96    NC\n",
       "97    FL\n",
       "98    FL\n",
       "99    CA\n",
       "Name: province, Length: 100, dtype: object"
      ]
     },
     "execution_count": 10,
     "metadata": {},
     "output_type": "execute_result"
    }
   ],
   "source": [
    "df.province"
   ]
  },
  {
   "cell_type": "code",
   "execution_count": null,
   "metadata": {},
   "outputs": [],
   "source": []
  }
 ],
 "metadata": {
  "kernelspec": {
   "display_name": "Python 3",
   "language": "python",
   "name": "python3"
  },
  "language_info": {
   "codemirror_mode": {
    "name": "ipython",
    "version": 3
   },
   "file_extension": ".py",
   "mimetype": "text/x-python",
   "name": "python",
   "nbconvert_exporter": "python",
   "pygments_lexer": "ipython3",
   "version": "3.7.3"
  }
 },
 "nbformat": 4,
 "nbformat_minor": 2
}
