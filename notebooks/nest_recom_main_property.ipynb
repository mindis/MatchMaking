{
 "cells": [
  {
   "cell_type": "code",
   "execution_count": 10,
   "metadata": {},
   "outputs": [],
   "source": [
    "from nest_recom_spark_session import nest_get_spark_session\n",
    "obj=nest_get_spark_session()\n",
    "\n",
    "sc,sqlContext = obj.start_or_get_spark(\n",
    "\t\t\t\t\tapp_name=\"NestReadyRecommendationEngine\", \n",
    "\t\t\t\t\turl='local[2]',\n",
    "\t\t\t\t\tmemory=\"20g\"\n",
    "\t\t\t\t\t)"
   ]
  },
  {
   "cell_type": "code",
   "execution_count": 11,
   "metadata": {},
   "outputs": [
    {
     "ename": "SyntaxError",
     "evalue": "invalid syntax (nest_recom_loader.py, line 181)",
     "output_type": "error",
     "traceback": [
      "Traceback \u001b[0;36m(most recent call last)\u001b[0m:\n",
      "  File \u001b[1;32m\"/Users/jatinmalhotra/anaconda3/lib/python3.7/site-packages/IPython/core/interactiveshell.py\"\u001b[0m, line \u001b[1;32m3296\u001b[0m, in \u001b[1;35mrun_code\u001b[0m\n    exec(code_obj, self.user_global_ns, self.user_ns)\n",
      "\u001b[0;36m  File \u001b[0;32m\"<ipython-input-11-dcaed060ef3f>\"\u001b[0;36m, line \u001b[0;32m1\u001b[0;36m, in \u001b[0;35m<module>\u001b[0;36m\u001b[0m\n\u001b[0;31m    from nest_recom_loader import load_spark_df\u001b[0m\n",
      "\u001b[0;36m  File \u001b[0;32m\"/Users/jatinmalhotra/Desktop/NestReady_Recommendation_System/CODING/nest_recommendation_engine/nest_recom_loader.py\"\u001b[0;36m, line \u001b[0;32m181\u001b[0m\n\u001b[0;31m    print '{} filenames gathered (PYTHON)'.format(len(h5_file_paths))\u001b[0m\n\u001b[0m                                         ^\u001b[0m\n\u001b[0;31mSyntaxError\u001b[0m\u001b[0;31m:\u001b[0m invalid syntax\n"
     ]
    }
   ],
   "source": [
    "from nest_recom_loader import load_spark_df"
   ]
  },
  {
   "cell_type": "code",
   "execution_count": 12,
   "metadata": {},
   "outputs": [
    {
     "ename": "AnalysisException",
     "evalue": "'Path does not exist: file:/property.json;'",
     "output_type": "error",
     "traceback": [
      "\u001b[0;31m---------------------------------------------------------------------------\u001b[0m",
      "\u001b[0;31mPy4JJavaError\u001b[0m                             Traceback (most recent call last)",
      "\u001b[0;32m~/anaconda3/lib/python3.7/site-packages/pyspark/sql/utils.py\u001b[0m in \u001b[0;36mdeco\u001b[0;34m(*a, **kw)\u001b[0m\n\u001b[1;32m     62\u001b[0m         \u001b[0;32mtry\u001b[0m\u001b[0;34m:\u001b[0m\u001b[0;34m\u001b[0m\u001b[0;34m\u001b[0m\u001b[0m\n\u001b[0;32m---> 63\u001b[0;31m             \u001b[0;32mreturn\u001b[0m \u001b[0mf\u001b[0m\u001b[0;34m(\u001b[0m\u001b[0;34m*\u001b[0m\u001b[0ma\u001b[0m\u001b[0;34m,\u001b[0m \u001b[0;34m**\u001b[0m\u001b[0mkw\u001b[0m\u001b[0;34m)\u001b[0m\u001b[0;34m\u001b[0m\u001b[0;34m\u001b[0m\u001b[0m\n\u001b[0m\u001b[1;32m     64\u001b[0m         \u001b[0;32mexcept\u001b[0m \u001b[0mpy4j\u001b[0m\u001b[0;34m.\u001b[0m\u001b[0mprotocol\u001b[0m\u001b[0;34m.\u001b[0m\u001b[0mPy4JJavaError\u001b[0m \u001b[0;32mas\u001b[0m \u001b[0me\u001b[0m\u001b[0;34m:\u001b[0m\u001b[0;34m\u001b[0m\u001b[0;34m\u001b[0m\u001b[0m\n",
      "\u001b[0;32m~/anaconda3/lib/python3.7/site-packages/py4j/protocol.py\u001b[0m in \u001b[0;36mget_return_value\u001b[0;34m(answer, gateway_client, target_id, name)\u001b[0m\n\u001b[1;32m    327\u001b[0m                     \u001b[0;34m\"An error occurred while calling {0}{1}{2}.\\n\"\u001b[0m\u001b[0;34m.\u001b[0m\u001b[0;34m\u001b[0m\u001b[0;34m\u001b[0m\u001b[0m\n\u001b[0;32m--> 328\u001b[0;31m                     format(target_id, \".\", name), value)\n\u001b[0m\u001b[1;32m    329\u001b[0m             \u001b[0;32melse\u001b[0m\u001b[0;34m:\u001b[0m\u001b[0;34m\u001b[0m\u001b[0;34m\u001b[0m\u001b[0m\n",
      "\u001b[0;31mPy4JJavaError\u001b[0m: An error occurred while calling o122.json.\n: org.apache.spark.sql.AnalysisException: Path does not exist: file:/property.json;\n\tat org.apache.spark.sql.execution.datasources.DataSource$$anonfun$org$apache$spark$sql$execution$datasources$DataSource$$checkAndGlobPathIfNecessary$1.apply(DataSource.scala:558)\n\tat org.apache.spark.sql.execution.datasources.DataSource$$anonfun$org$apache$spark$sql$execution$datasources$DataSource$$checkAndGlobPathIfNecessary$1.apply(DataSource.scala:545)\n\tat scala.collection.TraversableLike$$anonfun$flatMap$1.apply(TraversableLike.scala:241)\n\tat scala.collection.TraversableLike$$anonfun$flatMap$1.apply(TraversableLike.scala:241)\n\tat scala.collection.immutable.List.foreach(List.scala:392)\n\tat scala.collection.TraversableLike$class.flatMap(TraversableLike.scala:241)\n\tat scala.collection.immutable.List.flatMap(List.scala:355)\n\tat org.apache.spark.sql.execution.datasources.DataSource.org$apache$spark$sql$execution$datasources$DataSource$$checkAndGlobPathIfNecessary(DataSource.scala:545)\n\tat org.apache.spark.sql.execution.datasources.DataSource.resolveRelation(DataSource.scala:359)\n\tat org.apache.spark.sql.DataFrameReader.loadV1Source(DataFrameReader.scala:223)\n\tat org.apache.spark.sql.DataFrameReader.load(DataFrameReader.scala:211)\n\tat org.apache.spark.sql.DataFrameReader.json(DataFrameReader.scala:391)\n\tat sun.reflect.NativeMethodAccessorImpl.invoke0(Native Method)\n\tat sun.reflect.NativeMethodAccessorImpl.invoke(NativeMethodAccessorImpl.java:62)\n\tat sun.reflect.DelegatingMethodAccessorImpl.invoke(DelegatingMethodAccessorImpl.java:43)\n\tat java.lang.reflect.Method.invoke(Method.java:498)\n\tat py4j.reflection.MethodInvoker.invoke(MethodInvoker.java:244)\n\tat py4j.reflection.ReflectionEngine.invoke(ReflectionEngine.java:357)\n\tat py4j.Gateway.invoke(Gateway.java:282)\n\tat py4j.commands.AbstractCommand.invokeMethod(AbstractCommand.java:132)\n\tat py4j.commands.CallCommand.execute(CallCommand.java:79)\n\tat py4j.GatewayConnection.run(GatewayConnection.java:238)\n\tat java.lang.Thread.run(Thread.java:748)\n",
      "\nDuring handling of the above exception, another exception occurred:\n",
      "\u001b[0;31mAnalysisException\u001b[0m                         Traceback (most recent call last)",
      "\u001b[0;32m<ipython-input-12-34bfe6611b77>\u001b[0m in \u001b[0;36m<module>\u001b[0;34m\u001b[0m\n\u001b[0;32m----> 1\u001b[0;31m \u001b[0mdf\u001b[0m \u001b[0;34m=\u001b[0m \u001b[0msqlContext\u001b[0m\u001b[0;34m.\u001b[0m\u001b[0mread\u001b[0m\u001b[0;34m.\u001b[0m\u001b[0mjson\u001b[0m\u001b[0;34m(\u001b[0m\u001b[0;34m\"/property.json\"\u001b[0m\u001b[0;34m)\u001b[0m\u001b[0;34m\u001b[0m\u001b[0;34m\u001b[0m\u001b[0m\n\u001b[0m",
      "\u001b[0;32m~/anaconda3/lib/python3.7/site-packages/pyspark/sql/readwriter.py\u001b[0m in \u001b[0;36mjson\u001b[0;34m(self, path, schema, primitivesAsString, prefersDecimal, allowComments, allowUnquotedFieldNames, allowSingleQuotes, allowNumericLeadingZero, allowBackslashEscapingAnyCharacter, mode, columnNameOfCorruptRecord, dateFormat, timestampFormat, multiLine, allowUnquotedControlChars, lineSep, samplingRatio, dropFieldIfAllNull, encoding)\u001b[0m\n\u001b[1;32m    272\u001b[0m             \u001b[0mpath\u001b[0m \u001b[0;34m=\u001b[0m \u001b[0;34m[\u001b[0m\u001b[0mpath\u001b[0m\u001b[0;34m]\u001b[0m\u001b[0;34m\u001b[0m\u001b[0;34m\u001b[0m\u001b[0m\n\u001b[1;32m    273\u001b[0m         \u001b[0;32mif\u001b[0m \u001b[0mtype\u001b[0m\u001b[0;34m(\u001b[0m\u001b[0mpath\u001b[0m\u001b[0;34m)\u001b[0m \u001b[0;34m==\u001b[0m \u001b[0mlist\u001b[0m\u001b[0;34m:\u001b[0m\u001b[0;34m\u001b[0m\u001b[0;34m\u001b[0m\u001b[0m\n\u001b[0;32m--> 274\u001b[0;31m             \u001b[0;32mreturn\u001b[0m \u001b[0mself\u001b[0m\u001b[0;34m.\u001b[0m\u001b[0m_df\u001b[0m\u001b[0;34m(\u001b[0m\u001b[0mself\u001b[0m\u001b[0;34m.\u001b[0m\u001b[0m_jreader\u001b[0m\u001b[0;34m.\u001b[0m\u001b[0mjson\u001b[0m\u001b[0;34m(\u001b[0m\u001b[0mself\u001b[0m\u001b[0;34m.\u001b[0m\u001b[0m_spark\u001b[0m\u001b[0;34m.\u001b[0m\u001b[0m_sc\u001b[0m\u001b[0;34m.\u001b[0m\u001b[0m_jvm\u001b[0m\u001b[0;34m.\u001b[0m\u001b[0mPythonUtils\u001b[0m\u001b[0;34m.\u001b[0m\u001b[0mtoSeq\u001b[0m\u001b[0;34m(\u001b[0m\u001b[0mpath\u001b[0m\u001b[0;34m)\u001b[0m\u001b[0;34m)\u001b[0m\u001b[0;34m)\u001b[0m\u001b[0;34m\u001b[0m\u001b[0;34m\u001b[0m\u001b[0m\n\u001b[0m\u001b[1;32m    275\u001b[0m         \u001b[0;32melif\u001b[0m \u001b[0misinstance\u001b[0m\u001b[0;34m(\u001b[0m\u001b[0mpath\u001b[0m\u001b[0;34m,\u001b[0m \u001b[0mRDD\u001b[0m\u001b[0;34m)\u001b[0m\u001b[0;34m:\u001b[0m\u001b[0;34m\u001b[0m\u001b[0;34m\u001b[0m\u001b[0m\n\u001b[1;32m    276\u001b[0m             \u001b[0;32mdef\u001b[0m \u001b[0mfunc\u001b[0m\u001b[0;34m(\u001b[0m\u001b[0miterator\u001b[0m\u001b[0;34m)\u001b[0m\u001b[0;34m:\u001b[0m\u001b[0;34m\u001b[0m\u001b[0;34m\u001b[0m\u001b[0m\n",
      "\u001b[0;32m~/anaconda3/lib/python3.7/site-packages/py4j/java_gateway.py\u001b[0m in \u001b[0;36m__call__\u001b[0;34m(self, *args)\u001b[0m\n\u001b[1;32m   1255\u001b[0m         \u001b[0manswer\u001b[0m \u001b[0;34m=\u001b[0m \u001b[0mself\u001b[0m\u001b[0;34m.\u001b[0m\u001b[0mgateway_client\u001b[0m\u001b[0;34m.\u001b[0m\u001b[0msend_command\u001b[0m\u001b[0;34m(\u001b[0m\u001b[0mcommand\u001b[0m\u001b[0;34m)\u001b[0m\u001b[0;34m\u001b[0m\u001b[0;34m\u001b[0m\u001b[0m\n\u001b[1;32m   1256\u001b[0m         return_value = get_return_value(\n\u001b[0;32m-> 1257\u001b[0;31m             answer, self.gateway_client, self.target_id, self.name)\n\u001b[0m\u001b[1;32m   1258\u001b[0m \u001b[0;34m\u001b[0m\u001b[0m\n\u001b[1;32m   1259\u001b[0m         \u001b[0;32mfor\u001b[0m \u001b[0mtemp_arg\u001b[0m \u001b[0;32min\u001b[0m \u001b[0mtemp_args\u001b[0m\u001b[0;34m:\u001b[0m\u001b[0;34m\u001b[0m\u001b[0;34m\u001b[0m\u001b[0m\n",
      "\u001b[0;32m~/anaconda3/lib/python3.7/site-packages/pyspark/sql/utils.py\u001b[0m in \u001b[0;36mdeco\u001b[0;34m(*a, **kw)\u001b[0m\n\u001b[1;32m     67\u001b[0m                                              e.java_exception.getStackTrace()))\n\u001b[1;32m     68\u001b[0m             \u001b[0;32mif\u001b[0m \u001b[0ms\u001b[0m\u001b[0;34m.\u001b[0m\u001b[0mstartswith\u001b[0m\u001b[0;34m(\u001b[0m\u001b[0;34m'org.apache.spark.sql.AnalysisException: '\u001b[0m\u001b[0;34m)\u001b[0m\u001b[0;34m:\u001b[0m\u001b[0;34m\u001b[0m\u001b[0;34m\u001b[0m\u001b[0m\n\u001b[0;32m---> 69\u001b[0;31m                 \u001b[0;32mraise\u001b[0m \u001b[0mAnalysisException\u001b[0m\u001b[0;34m(\u001b[0m\u001b[0ms\u001b[0m\u001b[0;34m.\u001b[0m\u001b[0msplit\u001b[0m\u001b[0;34m(\u001b[0m\u001b[0;34m': '\u001b[0m\u001b[0;34m,\u001b[0m \u001b[0;36m1\u001b[0m\u001b[0;34m)\u001b[0m\u001b[0;34m[\u001b[0m\u001b[0;36m1\u001b[0m\u001b[0;34m]\u001b[0m\u001b[0;34m,\u001b[0m \u001b[0mstackTrace\u001b[0m\u001b[0;34m)\u001b[0m\u001b[0;34m\u001b[0m\u001b[0;34m\u001b[0m\u001b[0m\n\u001b[0m\u001b[1;32m     70\u001b[0m             \u001b[0;32mif\u001b[0m \u001b[0ms\u001b[0m\u001b[0;34m.\u001b[0m\u001b[0mstartswith\u001b[0m\u001b[0;34m(\u001b[0m\u001b[0;34m'org.apache.spark.sql.catalyst.analysis'\u001b[0m\u001b[0;34m)\u001b[0m\u001b[0;34m:\u001b[0m\u001b[0;34m\u001b[0m\u001b[0;34m\u001b[0m\u001b[0m\n\u001b[1;32m     71\u001b[0m                 \u001b[0;32mraise\u001b[0m \u001b[0mAnalysisException\u001b[0m\u001b[0;34m(\u001b[0m\u001b[0ms\u001b[0m\u001b[0;34m.\u001b[0m\u001b[0msplit\u001b[0m\u001b[0;34m(\u001b[0m\u001b[0;34m': '\u001b[0m\u001b[0;34m,\u001b[0m \u001b[0;36m1\u001b[0m\u001b[0;34m)\u001b[0m\u001b[0;34m[\u001b[0m\u001b[0;36m1\u001b[0m\u001b[0;34m]\u001b[0m\u001b[0;34m,\u001b[0m \u001b[0mstackTrace\u001b[0m\u001b[0;34m)\u001b[0m\u001b[0;34m\u001b[0m\u001b[0;34m\u001b[0m\u001b[0m\n",
      "\u001b[0;31mAnalysisException\u001b[0m: 'Path does not exist: file:/property.json;'"
     ]
    }
   ],
   "source": [
    "df = sqlContext.read.json(\"property.json\") "
   ]
  },
  {
   "cell_type": "code",
   "execution_count": 9,
   "metadata": {},
   "outputs": [
    {
     "ename": "AnalysisException",
     "evalue": "'Table or view not found: hello; line 1 pos 14'",
     "output_type": "error",
     "traceback": [
      "\u001b[0;31m---------------------------------------------------------------------------\u001b[0m",
      "\u001b[0;31mPy4JJavaError\u001b[0m                             Traceback (most recent call last)",
      "\u001b[0;32m~/anaconda3/lib/python3.7/site-packages/pyspark/sql/utils.py\u001b[0m in \u001b[0;36mdeco\u001b[0;34m(*a, **kw)\u001b[0m\n\u001b[1;32m     62\u001b[0m         \u001b[0;32mtry\u001b[0m\u001b[0;34m:\u001b[0m\u001b[0;34m\u001b[0m\u001b[0;34m\u001b[0m\u001b[0m\n\u001b[0;32m---> 63\u001b[0;31m             \u001b[0;32mreturn\u001b[0m \u001b[0mf\u001b[0m\u001b[0;34m(\u001b[0m\u001b[0;34m*\u001b[0m\u001b[0ma\u001b[0m\u001b[0;34m,\u001b[0m \u001b[0;34m**\u001b[0m\u001b[0mkw\u001b[0m\u001b[0;34m)\u001b[0m\u001b[0;34m\u001b[0m\u001b[0;34m\u001b[0m\u001b[0m\n\u001b[0m\u001b[1;32m     64\u001b[0m         \u001b[0;32mexcept\u001b[0m \u001b[0mpy4j\u001b[0m\u001b[0;34m.\u001b[0m\u001b[0mprotocol\u001b[0m\u001b[0;34m.\u001b[0m\u001b[0mPy4JJavaError\u001b[0m \u001b[0;32mas\u001b[0m \u001b[0me\u001b[0m\u001b[0;34m:\u001b[0m\u001b[0;34m\u001b[0m\u001b[0;34m\u001b[0m\u001b[0m\n",
      "\u001b[0;32m~/anaconda3/lib/python3.7/site-packages/py4j/protocol.py\u001b[0m in \u001b[0;36mget_return_value\u001b[0;34m(answer, gateway_client, target_id, name)\u001b[0m\n\u001b[1;32m    327\u001b[0m                     \u001b[0;34m\"An error occurred while calling {0}{1}{2}.\\n\"\u001b[0m\u001b[0;34m.\u001b[0m\u001b[0;34m\u001b[0m\u001b[0;34m\u001b[0m\u001b[0m\n\u001b[0;32m--> 328\u001b[0;31m                     format(target_id, \".\", name), value)\n\u001b[0m\u001b[1;32m    329\u001b[0m             \u001b[0;32melse\u001b[0m\u001b[0;34m:\u001b[0m\u001b[0;34m\u001b[0m\u001b[0;34m\u001b[0m\u001b[0m\n",
      "\u001b[0;31mPy4JJavaError\u001b[0m: An error occurred while calling o27.sql.\n: org.apache.spark.sql.AnalysisException: Table or view not found: hello; line 1 pos 14\n\tat org.apache.spark.sql.catalyst.analysis.package$AnalysisErrorAt.failAnalysis(package.scala:47)\n\tat org.apache.spark.sql.catalyst.analysis.Analyzer$ResolveRelations$.org$apache$spark$sql$catalyst$analysis$Analyzer$ResolveRelations$$lookupTableFromCatalog(Analyzer.scala:733)\n\tat org.apache.spark.sql.catalyst.analysis.Analyzer$ResolveRelations$.resolveRelation(Analyzer.scala:685)\n\tat org.apache.spark.sql.catalyst.analysis.Analyzer$ResolveRelations$$anonfun$apply$8.applyOrElse(Analyzer.scala:715)\n\tat org.apache.spark.sql.catalyst.analysis.Analyzer$ResolveRelations$$anonfun$apply$8.applyOrElse(Analyzer.scala:708)\n\tat org.apache.spark.sql.catalyst.plans.logical.AnalysisHelper$$anonfun$resolveOperatorsUp$1$$anonfun$apply$1.apply(AnalysisHelper.scala:90)\n\tat org.apache.spark.sql.catalyst.plans.logical.AnalysisHelper$$anonfun$resolveOperatorsUp$1$$anonfun$apply$1.apply(AnalysisHelper.scala:90)\n\tat org.apache.spark.sql.catalyst.trees.CurrentOrigin$.withOrigin(TreeNode.scala:70)\n\tat org.apache.spark.sql.catalyst.plans.logical.AnalysisHelper$$anonfun$resolveOperatorsUp$1.apply(AnalysisHelper.scala:89)\n\tat org.apache.spark.sql.catalyst.plans.logical.AnalysisHelper$$anonfun$resolveOperatorsUp$1.apply(AnalysisHelper.scala:86)\n\tat org.apache.spark.sql.catalyst.plans.logical.AnalysisHelper$.allowInvokingTransformsInAnalyzer(AnalysisHelper.scala:194)\n\tat org.apache.spark.sql.catalyst.plans.logical.AnalysisHelper$class.resolveOperatorsUp(AnalysisHelper.scala:86)\n\tat org.apache.spark.sql.catalyst.plans.logical.LogicalPlan.resolveOperatorsUp(LogicalPlan.scala:29)\n\tat org.apache.spark.sql.catalyst.plans.logical.AnalysisHelper$$anonfun$resolveOperatorsUp$1$$anonfun$1.apply(AnalysisHelper.scala:87)\n\tat org.apache.spark.sql.catalyst.plans.logical.AnalysisHelper$$anonfun$resolveOperatorsUp$1$$anonfun$1.apply(AnalysisHelper.scala:87)\n\tat org.apache.spark.sql.catalyst.trees.TreeNode$$anonfun$4.apply(TreeNode.scala:326)\n\tat org.apache.spark.sql.catalyst.trees.TreeNode.mapProductIterator(TreeNode.scala:187)\n\tat org.apache.spark.sql.catalyst.trees.TreeNode.mapChildren(TreeNode.scala:324)\n\tat org.apache.spark.sql.catalyst.plans.logical.AnalysisHelper$$anonfun$resolveOperatorsUp$1.apply(AnalysisHelper.scala:87)\n\tat org.apache.spark.sql.catalyst.plans.logical.AnalysisHelper$$anonfun$resolveOperatorsUp$1.apply(AnalysisHelper.scala:86)\n\tat org.apache.spark.sql.catalyst.plans.logical.AnalysisHelper$.allowInvokingTransformsInAnalyzer(AnalysisHelper.scala:194)\n\tat org.apache.spark.sql.catalyst.plans.logical.AnalysisHelper$class.resolveOperatorsUp(AnalysisHelper.scala:86)\n\tat org.apache.spark.sql.catalyst.plans.logical.LogicalPlan.resolveOperatorsUp(LogicalPlan.scala:29)\n\tat org.apache.spark.sql.catalyst.analysis.Analyzer$ResolveRelations$.apply(Analyzer.scala:708)\n\tat org.apache.spark.sql.catalyst.analysis.Analyzer$ResolveRelations$.apply(Analyzer.scala:654)\n\tat org.apache.spark.sql.catalyst.rules.RuleExecutor$$anonfun$execute$1$$anonfun$apply$1.apply(RuleExecutor.scala:87)\n\tat org.apache.spark.sql.catalyst.rules.RuleExecutor$$anonfun$execute$1$$anonfun$apply$1.apply(RuleExecutor.scala:84)\n\tat scala.collection.LinearSeqOptimized$class.foldLeft(LinearSeqOptimized.scala:124)\n\tat scala.collection.immutable.List.foldLeft(List.scala:84)\n\tat org.apache.spark.sql.catalyst.rules.RuleExecutor$$anonfun$execute$1.apply(RuleExecutor.scala:84)\n\tat org.apache.spark.sql.catalyst.rules.RuleExecutor$$anonfun$execute$1.apply(RuleExecutor.scala:76)\n\tat scala.collection.immutable.List.foreach(List.scala:392)\n\tat org.apache.spark.sql.catalyst.rules.RuleExecutor.execute(RuleExecutor.scala:76)\n\tat org.apache.spark.sql.catalyst.analysis.Analyzer.org$apache$spark$sql$catalyst$analysis$Analyzer$$executeSameContext(Analyzer.scala:127)\n\tat org.apache.spark.sql.catalyst.analysis.Analyzer.execute(Analyzer.scala:121)\n\tat org.apache.spark.sql.catalyst.analysis.Analyzer$$anonfun$executeAndCheck$1.apply(Analyzer.scala:106)\n\tat org.apache.spark.sql.catalyst.analysis.Analyzer$$anonfun$executeAndCheck$1.apply(Analyzer.scala:105)\n\tat org.apache.spark.sql.catalyst.plans.logical.AnalysisHelper$.markInAnalyzer(AnalysisHelper.scala:201)\n\tat org.apache.spark.sql.catalyst.analysis.Analyzer.executeAndCheck(Analyzer.scala:105)\n\tat org.apache.spark.sql.execution.QueryExecution.analyzed$lzycompute(QueryExecution.scala:57)\n\tat org.apache.spark.sql.execution.QueryExecution.analyzed(QueryExecution.scala:55)\n\tat org.apache.spark.sql.execution.QueryExecution.assertAnalyzed(QueryExecution.scala:47)\n\tat org.apache.spark.sql.Dataset$.ofRows(Dataset.scala:78)\n\tat org.apache.spark.sql.SparkSession.sql(SparkSession.scala:642)\n\tat sun.reflect.NativeMethodAccessorImpl.invoke0(Native Method)\n\tat sun.reflect.NativeMethodAccessorImpl.invoke(NativeMethodAccessorImpl.java:62)\n\tat sun.reflect.DelegatingMethodAccessorImpl.invoke(DelegatingMethodAccessorImpl.java:43)\n\tat java.lang.reflect.Method.invoke(Method.java:498)\n\tat py4j.reflection.MethodInvoker.invoke(MethodInvoker.java:244)\n\tat py4j.reflection.ReflectionEngine.invoke(ReflectionEngine.java:357)\n\tat py4j.Gateway.invoke(Gateway.java:282)\n\tat py4j.commands.AbstractCommand.invokeMethod(AbstractCommand.java:132)\n\tat py4j.commands.CallCommand.execute(CallCommand.java:79)\n\tat py4j.GatewayConnection.run(GatewayConnection.java:238)\n\tat java.lang.Thread.run(Thread.java:748)\nCaused by: org.apache.spark.sql.catalyst.analysis.NoSuchTableException: Table or view 'hello' not found in database 'default';\n\tat org.apache.spark.sql.catalyst.catalog.ExternalCatalog$class.requireTableExists(ExternalCatalog.scala:48)\n\tat org.apache.spark.sql.catalyst.catalog.InMemoryCatalog.requireTableExists(InMemoryCatalog.scala:45)\n\tat org.apache.spark.sql.catalyst.catalog.InMemoryCatalog.getTable(InMemoryCatalog.scala:326)\n\tat org.apache.spark.sql.catalyst.catalog.ExternalCatalogWithListener.getTable(ExternalCatalogWithListener.scala:138)\n\tat org.apache.spark.sql.catalyst.catalog.SessionCatalog.lookupRelation(SessionCatalog.scala:706)\n\tat org.apache.spark.sql.catalyst.analysis.Analyzer$ResolveRelations$.org$apache$spark$sql$catalyst$analysis$Analyzer$ResolveRelations$$lookupTableFromCatalog(Analyzer.scala:730)\n\t... 53 more\n",
      "\nDuring handling of the above exception, another exception occurred:\n",
      "\u001b[0;31mAnalysisException\u001b[0m                         Traceback (most recent call last)",
      "\u001b[0;32m<ipython-input-9-78fb085313ab>\u001b[0m in \u001b[0;36m<module>\u001b[0;34m\u001b[0m\n\u001b[0;32m----> 1\u001b[0;31m \u001b[0msqlContext\u001b[0m\u001b[0;34m.\u001b[0m\u001b[0msql\u001b[0m\u001b[0;34m(\u001b[0m\u001b[0;34m\"select * from hello\"\u001b[0m\u001b[0;34m)\u001b[0m\u001b[0;34m.\u001b[0m\u001b[0mshow\u001b[0m\u001b[0;34m(\u001b[0m\u001b[0;34m)\u001b[0m\u001b[0;34m\u001b[0m\u001b[0;34m\u001b[0m\u001b[0m\n\u001b[0m",
      "\u001b[0;32m~/anaconda3/lib/python3.7/site-packages/pyspark/sql/context.py\u001b[0m in \u001b[0;36msql\u001b[0;34m(self, sqlQuery)\u001b[0m\n\u001b[1;32m    356\u001b[0m         \u001b[0;34m[\u001b[0m\u001b[0mRow\u001b[0m\u001b[0;34m(\u001b[0m\u001b[0mf1\u001b[0m\u001b[0;34m=\u001b[0m\u001b[0;36m1\u001b[0m\u001b[0;34m,\u001b[0m \u001b[0mf2\u001b[0m\u001b[0;34m=\u001b[0m\u001b[0;34mu'row1'\u001b[0m\u001b[0;34m)\u001b[0m\u001b[0;34m,\u001b[0m \u001b[0mRow\u001b[0m\u001b[0;34m(\u001b[0m\u001b[0mf1\u001b[0m\u001b[0;34m=\u001b[0m\u001b[0;36m2\u001b[0m\u001b[0;34m,\u001b[0m \u001b[0mf2\u001b[0m\u001b[0;34m=\u001b[0m\u001b[0;34mu'row2'\u001b[0m\u001b[0;34m)\u001b[0m\u001b[0;34m,\u001b[0m \u001b[0mRow\u001b[0m\u001b[0;34m(\u001b[0m\u001b[0mf1\u001b[0m\u001b[0;34m=\u001b[0m\u001b[0;36m3\u001b[0m\u001b[0;34m,\u001b[0m \u001b[0mf2\u001b[0m\u001b[0;34m=\u001b[0m\u001b[0;34mu'row3'\u001b[0m\u001b[0;34m)\u001b[0m\u001b[0;34m]\u001b[0m\u001b[0;34m\u001b[0m\u001b[0;34m\u001b[0m\u001b[0m\n\u001b[1;32m    357\u001b[0m         \"\"\"\n\u001b[0;32m--> 358\u001b[0;31m         \u001b[0;32mreturn\u001b[0m \u001b[0mself\u001b[0m\u001b[0;34m.\u001b[0m\u001b[0msparkSession\u001b[0m\u001b[0;34m.\u001b[0m\u001b[0msql\u001b[0m\u001b[0;34m(\u001b[0m\u001b[0msqlQuery\u001b[0m\u001b[0;34m)\u001b[0m\u001b[0;34m\u001b[0m\u001b[0;34m\u001b[0m\u001b[0m\n\u001b[0m\u001b[1;32m    359\u001b[0m \u001b[0;34m\u001b[0m\u001b[0m\n\u001b[1;32m    360\u001b[0m     \u001b[0;34m@\u001b[0m\u001b[0msince\u001b[0m\u001b[0;34m(\u001b[0m\u001b[0;36m1.0\u001b[0m\u001b[0;34m)\u001b[0m\u001b[0;34m\u001b[0m\u001b[0;34m\u001b[0m\u001b[0m\n",
      "\u001b[0;32m~/anaconda3/lib/python3.7/site-packages/pyspark/sql/session.py\u001b[0m in \u001b[0;36msql\u001b[0;34m(self, sqlQuery)\u001b[0m\n\u001b[1;32m    765\u001b[0m         \u001b[0;34m[\u001b[0m\u001b[0mRow\u001b[0m\u001b[0;34m(\u001b[0m\u001b[0mf1\u001b[0m\u001b[0;34m=\u001b[0m\u001b[0;36m1\u001b[0m\u001b[0;34m,\u001b[0m \u001b[0mf2\u001b[0m\u001b[0;34m=\u001b[0m\u001b[0;34mu'row1'\u001b[0m\u001b[0;34m)\u001b[0m\u001b[0;34m,\u001b[0m \u001b[0mRow\u001b[0m\u001b[0;34m(\u001b[0m\u001b[0mf1\u001b[0m\u001b[0;34m=\u001b[0m\u001b[0;36m2\u001b[0m\u001b[0;34m,\u001b[0m \u001b[0mf2\u001b[0m\u001b[0;34m=\u001b[0m\u001b[0;34mu'row2'\u001b[0m\u001b[0;34m)\u001b[0m\u001b[0;34m,\u001b[0m \u001b[0mRow\u001b[0m\u001b[0;34m(\u001b[0m\u001b[0mf1\u001b[0m\u001b[0;34m=\u001b[0m\u001b[0;36m3\u001b[0m\u001b[0;34m,\u001b[0m \u001b[0mf2\u001b[0m\u001b[0;34m=\u001b[0m\u001b[0;34mu'row3'\u001b[0m\u001b[0;34m)\u001b[0m\u001b[0;34m]\u001b[0m\u001b[0;34m\u001b[0m\u001b[0;34m\u001b[0m\u001b[0m\n\u001b[1;32m    766\u001b[0m         \"\"\"\n\u001b[0;32m--> 767\u001b[0;31m         \u001b[0;32mreturn\u001b[0m \u001b[0mDataFrame\u001b[0m\u001b[0;34m(\u001b[0m\u001b[0mself\u001b[0m\u001b[0;34m.\u001b[0m\u001b[0m_jsparkSession\u001b[0m\u001b[0;34m.\u001b[0m\u001b[0msql\u001b[0m\u001b[0;34m(\u001b[0m\u001b[0msqlQuery\u001b[0m\u001b[0;34m)\u001b[0m\u001b[0;34m,\u001b[0m \u001b[0mself\u001b[0m\u001b[0;34m.\u001b[0m\u001b[0m_wrapped\u001b[0m\u001b[0;34m)\u001b[0m\u001b[0;34m\u001b[0m\u001b[0;34m\u001b[0m\u001b[0m\n\u001b[0m\u001b[1;32m    768\u001b[0m \u001b[0;34m\u001b[0m\u001b[0m\n\u001b[1;32m    769\u001b[0m     \u001b[0;34m@\u001b[0m\u001b[0msince\u001b[0m\u001b[0;34m(\u001b[0m\u001b[0;36m2.0\u001b[0m\u001b[0;34m)\u001b[0m\u001b[0;34m\u001b[0m\u001b[0;34m\u001b[0m\u001b[0m\n",
      "\u001b[0;32m~/anaconda3/lib/python3.7/site-packages/py4j/java_gateway.py\u001b[0m in \u001b[0;36m__call__\u001b[0;34m(self, *args)\u001b[0m\n\u001b[1;32m   1255\u001b[0m         \u001b[0manswer\u001b[0m \u001b[0;34m=\u001b[0m \u001b[0mself\u001b[0m\u001b[0;34m.\u001b[0m\u001b[0mgateway_client\u001b[0m\u001b[0;34m.\u001b[0m\u001b[0msend_command\u001b[0m\u001b[0;34m(\u001b[0m\u001b[0mcommand\u001b[0m\u001b[0;34m)\u001b[0m\u001b[0;34m\u001b[0m\u001b[0;34m\u001b[0m\u001b[0m\n\u001b[1;32m   1256\u001b[0m         return_value = get_return_value(\n\u001b[0;32m-> 1257\u001b[0;31m             answer, self.gateway_client, self.target_id, self.name)\n\u001b[0m\u001b[1;32m   1258\u001b[0m \u001b[0;34m\u001b[0m\u001b[0m\n\u001b[1;32m   1259\u001b[0m         \u001b[0;32mfor\u001b[0m \u001b[0mtemp_arg\u001b[0m \u001b[0;32min\u001b[0m \u001b[0mtemp_args\u001b[0m\u001b[0;34m:\u001b[0m\u001b[0;34m\u001b[0m\u001b[0;34m\u001b[0m\u001b[0m\n",
      "\u001b[0;32m~/anaconda3/lib/python3.7/site-packages/pyspark/sql/utils.py\u001b[0m in \u001b[0;36mdeco\u001b[0;34m(*a, **kw)\u001b[0m\n\u001b[1;32m     67\u001b[0m                                              e.java_exception.getStackTrace()))\n\u001b[1;32m     68\u001b[0m             \u001b[0;32mif\u001b[0m \u001b[0ms\u001b[0m\u001b[0;34m.\u001b[0m\u001b[0mstartswith\u001b[0m\u001b[0;34m(\u001b[0m\u001b[0;34m'org.apache.spark.sql.AnalysisException: '\u001b[0m\u001b[0;34m)\u001b[0m\u001b[0;34m:\u001b[0m\u001b[0;34m\u001b[0m\u001b[0;34m\u001b[0m\u001b[0m\n\u001b[0;32m---> 69\u001b[0;31m                 \u001b[0;32mraise\u001b[0m \u001b[0mAnalysisException\u001b[0m\u001b[0;34m(\u001b[0m\u001b[0ms\u001b[0m\u001b[0;34m.\u001b[0m\u001b[0msplit\u001b[0m\u001b[0;34m(\u001b[0m\u001b[0;34m': '\u001b[0m\u001b[0;34m,\u001b[0m \u001b[0;36m1\u001b[0m\u001b[0;34m)\u001b[0m\u001b[0;34m[\u001b[0m\u001b[0;36m1\u001b[0m\u001b[0;34m]\u001b[0m\u001b[0;34m,\u001b[0m \u001b[0mstackTrace\u001b[0m\u001b[0;34m)\u001b[0m\u001b[0;34m\u001b[0m\u001b[0;34m\u001b[0m\u001b[0m\n\u001b[0m\u001b[1;32m     70\u001b[0m             \u001b[0;32mif\u001b[0m \u001b[0ms\u001b[0m\u001b[0;34m.\u001b[0m\u001b[0mstartswith\u001b[0m\u001b[0;34m(\u001b[0m\u001b[0;34m'org.apache.spark.sql.catalyst.analysis'\u001b[0m\u001b[0;34m)\u001b[0m\u001b[0;34m:\u001b[0m\u001b[0;34m\u001b[0m\u001b[0;34m\u001b[0m\u001b[0m\n\u001b[1;32m     71\u001b[0m                 \u001b[0;32mraise\u001b[0m \u001b[0mAnalysisException\u001b[0m\u001b[0;34m(\u001b[0m\u001b[0ms\u001b[0m\u001b[0;34m.\u001b[0m\u001b[0msplit\u001b[0m\u001b[0;34m(\u001b[0m\u001b[0;34m': '\u001b[0m\u001b[0;34m,\u001b[0m \u001b[0;36m1\u001b[0m\u001b[0;34m)\u001b[0m\u001b[0;34m[\u001b[0m\u001b[0;36m1\u001b[0m\u001b[0;34m]\u001b[0m\u001b[0;34m,\u001b[0m \u001b[0mstackTrace\u001b[0m\u001b[0;34m)\u001b[0m\u001b[0;34m\u001b[0m\u001b[0;34m\u001b[0m\u001b[0m\n",
      "\u001b[0;31mAnalysisException\u001b[0m: 'Table or view not found: hello; line 1 pos 14'"
     ]
    }
   ],
   "source": [
    "sqlContext.sql(\"select * from hello\").show()"
   ]
  },
  {
   "cell_type": "code",
   "execution_count": 10,
   "metadata": {},
   "outputs": [
    {
     "data": {
      "text/plain": [
       "1"
      ]
     },
     "execution_count": 10,
     "metadata": {},
     "output_type": "execute_result"
    }
   ],
   "source": [
    "data.count()"
   ]
  },
  {
   "cell_type": "code",
   "execution_count": 11,
   "metadata": {},
   "outputs": [],
   "source": [
    "import pyspark.sql.functions as F\n",
    "propertydata = data.select(F.explode(\"properties\").alias(\"properties\")).select(\"properties.*\")"
   ]
  },
  {
   "cell_type": "code",
   "execution_count": 12,
   "metadata": {},
   "outputs": [
    {
     "name": "stdout",
     "output_type": "stream",
     "text": [
      "106\n"
     ]
    }
   ],
   "source": [
    "\n",
    "cnt=0\n",
    "for i in propertydata.columns:\n",
    "    cnt=cnt+1\n",
    "print(cnt)"
   ]
  },
  {
   "cell_type": "code",
   "execution_count": 13,
   "metadata": {},
   "outputs": [
    {
     "data": {
      "text/plain": [
       "30"
      ]
     },
     "execution_count": 13,
     "metadata": {},
     "output_type": "execute_result"
    }
   ],
   "source": [
    "propertydata.count()"
   ]
  },
  {
   "cell_type": "code",
   "execution_count": 15,
   "metadata": {},
   "outputs": [
    {
     "name": "stdout",
     "output_type": "stream",
     "text": [
      "root\n",
      " |-- _id: string (nullable = true)\n",
      " |-- address_number: string (nullable = true)\n",
      " |-- address_street: string (nullable = true)\n",
      " |-- agent_avatar_url: string (nullable = true)\n",
      " |-- agent_email: string (nullable = true)\n",
      " |-- agent_fname: string (nullable = true)\n",
      " |-- agent_id: string (nullable = true)\n",
      " |-- agent_key: string (nullable = true)\n",
      " |-- agent_lname: string (nullable = true)\n",
      " |-- agent_phone: string (nullable = true)\n",
      " |-- architecture_style: string (nullable = true)\n",
      " |-- bathrooms: double (nullable = true)\n",
      " |-- beds: long (nullable = true)\n",
      " |-- brokerage_email: string (nullable = true)\n",
      " |-- brokerage_external_id: string (nullable = true)\n",
      " |-- brokerage_logo_url: string (nullable = true)\n",
      " |-- brokerage_name: string (nullable = true)\n",
      " |-- brokerage_phone: string (nullable = true)\n",
      " |-- brokerage_website_url: string (nullable = true)\n",
      " |-- building_sqft: double (nullable = true)\n",
      " |-- building_utilities: array (nullable = true)\n",
      " |    |-- element: string (containsNull = true)\n",
      " |-- cashback_cents: long (nullable = true)\n",
      " |-- city: string (nullable = true)\n",
      " |-- cooling_systems: array (nullable = true)\n",
      " |    |-- element: string (containsNull = true)\n",
      " |-- country: string (nullable = true)\n",
      " |-- cover_public_url: string (nullable = true)\n",
      " |-- description: string (nullable = true)\n",
      " |-- exterior_types: array (nullable = true)\n",
      " |    |-- element: string (containsNull = true)\n",
      " |-- external_id: string (nullable = true)\n",
      " |-- external_type: string (nullable = true)\n",
      " |-- external_url: string (nullable = true)\n",
      " |-- fees: string (nullable = true)\n",
      " |-- floors: array (nullable = true)\n",
      " |    |-- element: string (containsNull = true)\n",
      " |-- foreclosure: boolean (nullable = true)\n",
      " |-- geocoded: boolean (nullable = true)\n",
      " |-- has_barbecue_area: boolean (nullable = true)\n",
      " |-- has_basement: boolean (nullable = true)\n",
      " |-- has_ceiling_fan: boolean (nullable = true)\n",
      " |-- has_deck: boolean (nullable = true)\n",
      " |-- has_disabled_access: boolean (nullable = true)\n",
      " |-- has_dock: boolean (nullable = true)\n",
      " |-- has_doorman: boolean (nullable = true)\n",
      " |-- has_double_pane_windows: boolean (nullable = true)\n",
      " |-- has_elevator: boolean (nullable = true)\n",
      " |-- has_fireplace: boolean (nullable = true)\n",
      " |-- has_garage: boolean (nullable = true)\n",
      " |-- has_garden: boolean (nullable = true)\n",
      " |-- has_gated_entry: boolean (nullable = true)\n",
      " |-- has_green_house: boolean (nullable = true)\n",
      " |-- has_hot_tub_spa: boolean (nullable = true)\n",
      " |-- has_jetted_bath_tub: boolean (nullable = true)\n",
      " |-- has_mother_in_law: boolean (nullable = true)\n",
      " |-- has_patio: boolean (nullable = true)\n",
      " |-- has_pond: boolean (nullable = true)\n",
      " |-- has_pool: boolean (nullable = true)\n",
      " |-- has_porch: boolean (nullable = true)\n",
      " |-- has_rv_parking: boolean (nullable = true)\n",
      " |-- has_sauna: boolean (nullable = true)\n",
      " |-- has_security_system: boolean (nullable = true)\n",
      " |-- has_skylight: boolean (nullable = true)\n",
      " |-- has_sports_court: boolean (nullable = true)\n",
      " |-- has_sprinkler_system: boolean (nullable = true)\n",
      " |-- has_vaulted_ceiling: boolean (nullable = true)\n",
      " |-- has_wet_bar: boolean (nullable = true)\n",
      " |-- heating_fuels: array (nullable = true)\n",
      " |    |-- element: string (containsNull = true)\n",
      " |-- heating_systems: array (nullable = true)\n",
      " |    |-- element: string (containsNull = true)\n",
      " |-- id: string (nullable = true)\n",
      " |-- images: array (nullable = true)\n",
      " |    |-- element: struct (containsNull = true)\n",
      " |    |    |-- _id: string (nullable = true)\n",
      " |    |    |-- created_at: string (nullable = true)\n",
      " |    |    |-- original_url: string (nullable = true)\n",
      " |    |    |-- sha1: string (nullable = true)\n",
      " |    |    |-- updated_at: string (nullable = true)\n",
      " |    |    |-- url: string (nullable = true)\n",
      " |-- intercom: string (nullable = true)\n",
      " |-- is_new_construction: boolean (nullable = true)\n",
      " |-- is_waterfront: boolean (nullable = true)\n",
      " |-- is_wired: boolean (nullable = true)\n",
      " |-- journey_attributes: struct (nullable = true)\n",
      " |    |-- saved: boolean (nullable = true)\n",
      " |    |-- state: string (nullable = true)\n",
      " |-- latitude: double (nullable = true)\n",
      " |-- lead_routing_email: string (nullable = true)\n",
      " |-- listing_date: string (nullable = true)\n",
      " |-- listing_status: string (nullable = true)\n",
      " |-- listing_type: string (nullable = true)\n",
      " |-- listing_url: string (nullable = true)\n",
      " |-- longitude: double (nullable = true)\n",
      " |-- lot_sqft: double (nullable = true)\n",
      " |-- lower_location_id: string (nullable = true)\n",
      " |-- mls_number: string (nullable = true)\n",
      " |-- modified_at: string (nullable = true)\n",
      " |-- num_floors: double (nullable = true)\n",
      " |-- open_houses: string (nullable = true)\n",
      " |-- parking_types: array (nullable = true)\n",
      " |    |-- element: string (containsNull = true)\n",
      " |-- partial_bathrooms: long (nullable = true)\n",
      " |-- postal: string (nullable = true)\n",
      " |-- price_cents: long (nullable = true)\n",
      " |-- price_cents_sqft: long (nullable = true)\n",
      " |-- property_sub_type: string (nullable = true)\n",
      " |-- property_type: string (nullable = true)\n",
      " |-- province: string (nullable = true)\n",
      " |-- roof_types: array (nullable = true)\n",
      " |    |-- element: string (containsNull = true)\n",
      " |-- room_count: string (nullable = true)\n",
      " |-- rooms: string (nullable = true)\n",
      " |-- school: string (nullable = true)\n",
      " |-- scoring: string (nullable = true)\n",
      " |-- status: string (nullable = true)\n",
      " |-- tags: string (nullable = true)\n",
      " |-- tax_amount: string (nullable = true)\n",
      " |-- total_sqft: double (nullable = true)\n",
      " |-- unit_number: string (nullable = true)\n",
      " |-- utilities: array (nullable = true)\n",
      " |    |-- element: string (containsNull = true)\n",
      " |-- year_built: long (nullable = true)\n",
      "\n"
     ]
    }
   ],
   "source": [
    "propertydata.printSchema()"
   ]
  },
  {
   "cell_type": "code",
   "execution_count": 14,
   "metadata": {},
   "outputs": [
    {
     "name": "stdout",
     "output_type": "stream",
     "text": [
      "+--------------------+-----------+----------------+----------+----------+\n",
      "|                  id|price_cents|price_cents_sqft|total_sqft|tax_amount|\n",
      "+--------------------+-----------+----------------+----------+----------+\n",
      "|5c9a7f830e816a000...|          0|           13400|    2222.0|      null|\n",
      "|5c9a7f78687345000...|          0|           12000|    2734.0|      null|\n",
      "|5c9a7f77d571a2000...|   54990000|           16200|    3404.0|      null|\n",
      "|5c9a7f7495c55c000...|   54977700|           20600|    2666.0|      null|\n",
      "|5c9a7f6b2f2d14000...|  190000000|           34300|    5541.0|      null|\n",
      "+--------------------+-----------+----------------+----------+----------+\n",
      "only showing top 5 rows\n",
      "\n"
     ]
    }
   ],
   "source": [
    "propertydata.select(\"id\",\"price_cents\",\"price_cents_sqft\",\"total_sqft\",\"tax_amount\").show(5)"
   ]
  },
  {
   "cell_type": "code",
   "execution_count": 24,
   "metadata": {},
   "outputs": [
    {
     "name": "stdout",
     "output_type": "stream",
     "text": [
      "root\n",
      " |-- _id: string (nullable = true)\n",
      " |-- address_number: string (nullable = true)\n",
      " |-- address_street: string (nullable = true)\n",
      " |-- agent_avatar_url: string (nullable = true)\n",
      " |-- agent_email: string (nullable = true)\n",
      " |-- agent_fname: string (nullable = true)\n",
      " |-- agent_id: string (nullable = true)\n",
      " |-- agent_key: string (nullable = true)\n",
      " |-- agent_lname: string (nullable = true)\n",
      " |-- agent_phone: string (nullable = true)\n",
      " |-- architecture_style: string (nullable = true)\n",
      " |-- bathrooms: double (nullable = true)\n",
      " |-- beds: long (nullable = true)\n",
      " |-- brokerage_email: string (nullable = true)\n",
      " |-- brokerage_external_id: string (nullable = true)\n",
      " |-- brokerage_logo_url: string (nullable = true)\n",
      " |-- brokerage_name: string (nullable = true)\n",
      " |-- brokerage_phone: string (nullable = true)\n",
      " |-- brokerage_website_url: string (nullable = true)\n",
      " |-- building_sqft: double (nullable = true)\n",
      " |-- building_utilities: array (nullable = true)\n",
      " |    |-- element: string (containsNull = true)\n",
      " |-- cashback_cents: long (nullable = true)\n",
      " |-- city: string (nullable = true)\n",
      " |-- cooling_systems: array (nullable = true)\n",
      " |    |-- element: string (containsNull = true)\n",
      " |-- country: string (nullable = true)\n",
      " |-- cover_public_url: string (nullable = true)\n",
      " |-- description: string (nullable = true)\n",
      " |-- exterior_types: array (nullable = true)\n",
      " |    |-- element: string (containsNull = true)\n",
      " |-- external_id: string (nullable = true)\n",
      " |-- external_type: string (nullable = true)\n",
      " |-- external_url: string (nullable = true)\n",
      " |-- fees: string (nullable = true)\n",
      " |-- floors: array (nullable = true)\n",
      " |    |-- element: string (containsNull = true)\n",
      " |-- foreclosure: boolean (nullable = true)\n",
      " |-- geocoded: boolean (nullable = true)\n",
      " |-- has_barbecue_area: boolean (nullable = true)\n",
      " |-- has_basement: boolean (nullable = true)\n",
      " |-- has_ceiling_fan: boolean (nullable = true)\n",
      " |-- has_deck: boolean (nullable = true)\n",
      " |-- has_disabled_access: boolean (nullable = true)\n",
      " |-- has_dock: boolean (nullable = true)\n",
      " |-- has_doorman: boolean (nullable = true)\n",
      " |-- has_double_pane_windows: boolean (nullable = true)\n",
      " |-- has_elevator: boolean (nullable = true)\n",
      " |-- has_fireplace: boolean (nullable = true)\n",
      " |-- has_garage: boolean (nullable = true)\n",
      " |-- has_garden: boolean (nullable = true)\n",
      " |-- has_gated_entry: boolean (nullable = true)\n",
      " |-- has_green_house: boolean (nullable = true)\n",
      " |-- has_hot_tub_spa: boolean (nullable = true)\n",
      " |-- has_jetted_bath_tub: boolean (nullable = true)\n",
      " |-- has_mother_in_law: boolean (nullable = true)\n",
      " |-- has_patio: boolean (nullable = true)\n",
      " |-- has_pond: boolean (nullable = true)\n",
      " |-- has_pool: boolean (nullable = true)\n",
      " |-- has_porch: boolean (nullable = true)\n",
      " |-- has_rv_parking: boolean (nullable = true)\n",
      " |-- has_sauna: boolean (nullable = true)\n",
      " |-- has_security_system: boolean (nullable = true)\n",
      " |-- has_skylight: boolean (nullable = true)\n",
      " |-- has_sports_court: boolean (nullable = true)\n",
      " |-- has_sprinkler_system: boolean (nullable = true)\n",
      " |-- has_vaulted_ceiling: boolean (nullable = true)\n",
      " |-- has_wet_bar: boolean (nullable = true)\n",
      " |-- heating_fuels: array (nullable = true)\n",
      " |    |-- element: string (containsNull = true)\n",
      " |-- heating_systems: array (nullable = true)\n",
      " |    |-- element: string (containsNull = true)\n",
      " |-- id: string (nullable = true)\n",
      " |-- images: array (nullable = true)\n",
      " |    |-- element: struct (containsNull = true)\n",
      " |    |    |-- _id: string (nullable = true)\n",
      " |    |    |-- created_at: string (nullable = true)\n",
      " |    |    |-- original_url: string (nullable = true)\n",
      " |    |    |-- sha1: string (nullable = true)\n",
      " |    |    |-- updated_at: string (nullable = true)\n",
      " |    |    |-- url: string (nullable = true)\n",
      " |-- intercom: string (nullable = true)\n",
      " |-- is_new_construction: boolean (nullable = true)\n",
      " |-- is_waterfront: boolean (nullable = true)\n",
      " |-- is_wired: boolean (nullable = true)\n",
      " |-- journey_attributes: struct (nullable = true)\n",
      " |    |-- saved: boolean (nullable = true)\n",
      " |    |-- state: string (nullable = true)\n",
      " |-- latitude: double (nullable = true)\n",
      " |-- lead_routing_email: string (nullable = true)\n",
      " |-- listing_date: string (nullable = true)\n",
      " |-- listing_status: string (nullable = true)\n",
      " |-- listing_type: string (nullable = true)\n",
      " |-- listing_url: string (nullable = true)\n",
      " |-- longitude: double (nullable = true)\n",
      " |-- lot_sqft: double (nullable = true)\n",
      " |-- lower_location_id: string (nullable = true)\n",
      " |-- mls_number: string (nullable = true)\n",
      " |-- modified_at: string (nullable = true)\n",
      " |-- num_floors: double (nullable = true)\n",
      " |-- open_houses: string (nullable = true)\n",
      " |-- parking_types: array (nullable = true)\n",
      " |    |-- element: string (containsNull = true)\n",
      " |-- partial_bathrooms: long (nullable = true)\n",
      " |-- postal: string (nullable = true)\n",
      " |-- price_cents: long (nullable = true)\n",
      " |-- price_cents_sqft: long (nullable = true)\n",
      " |-- property_sub_type: string (nullable = true)\n",
      " |-- property_type: string (nullable = true)\n",
      " |-- province: string (nullable = true)\n",
      " |-- roof_types: array (nullable = true)\n",
      " |    |-- element: string (containsNull = true)\n",
      " |-- room_count: string (nullable = true)\n",
      " |-- rooms: string (nullable = true)\n",
      " |-- school: string (nullable = true)\n",
      " |-- scoring: string (nullable = true)\n",
      " |-- status: string (nullable = true)\n",
      " |-- tags: string (nullable = true)\n",
      " |-- tax_amount: string (nullable = true)\n",
      " |-- total_sqft: double (nullable = true)\n",
      " |-- unit_number: string (nullable = true)\n",
      " |-- utilities: array (nullable = true)\n",
      " |    |-- element: string (containsNull = true)\n",
      " |-- year_built: long (nullable = true)\n",
      "\n"
     ]
    }
   ],
   "source": [
    "propertydata.printSchema()"
   ]
  },
  {
   "cell_type": "code",
   "execution_count": null,
   "metadata": {},
   "outputs": [],
   "source": [
    "df2 = transformed_propertydata.select(\"_id\",\"parking_types\").withColumn(\"parking_types_array\",F.explode(\"parking_types\"))\n",
    "df2 = df2.withColumn('key', F.split(\"parking_types_array\",\":\").getItem(0)).withColumn('value', F.split(\"parking_types_array\",\":\").getItem(1))\n",
    "df2=df2.select(\"_id\",\"key\",\"value\").groupBy(\"_id\").pivot(\"key\").agg(F.first(\"value\"))\n",
    "print(\"After parking types explode\")\n",
    "print(df2.show())\n",
    "transformed_propertydata = transformed_propertydata.join(df2, '_id', 'left')\n",
    "print(\"No of rows final are\" + str(transformed_propertydata.count()))\n",
    "print(transformed_propertydata.columns)\n",
    "\n"
   ]
  },
  {
   "cell_type": "code",
   "execution_count": 61,
   "metadata": {},
   "outputs": [],
   "source": [
    "propertydata.registerTempTable(\"table\")"
   ]
  },
  {
   "cell_type": "code",
   "execution_count": null,
   "metadata": {},
   "outputs": [],
   "source": [
    "propertydata.select(\"id\",\"price_cents\",\"price_cents_sqft\",\"total_sqft\",\"tax_amount\").show(5)"
   ]
  },
  {
   "cell_type": "code",
   "execution_count": 29,
   "metadata": {},
   "outputs": [],
   "source": [
    "temp = propertydata.withColumn(\"images\", F.explode(\"images\"))"
   ]
  },
  {
   "cell_type": "code",
   "execution_count": 30,
   "metadata": {},
   "outputs": [
    {
     "data": {
      "text/plain": [
       "['_id',\n",
       " 'address_number',\n",
       " 'address_street',\n",
       " 'agent_avatar_url',\n",
       " 'agent_email',\n",
       " 'agent_fname',\n",
       " 'agent_id',\n",
       " 'agent_key',\n",
       " 'agent_lname',\n",
       " 'agent_phone',\n",
       " 'architecture_style',\n",
       " 'bathrooms',\n",
       " 'beds',\n",
       " 'brokerage_email',\n",
       " 'brokerage_external_id',\n",
       " 'brokerage_logo_url',\n",
       " 'brokerage_name',\n",
       " 'brokerage_phone',\n",
       " 'brokerage_website_url',\n",
       " 'building_sqft',\n",
       " 'building_utilities',\n",
       " 'cashback_cents',\n",
       " 'city',\n",
       " 'cooling_systems',\n",
       " 'country',\n",
       " 'cover_public_url',\n",
       " 'description',\n",
       " 'exterior_types',\n",
       " 'external_id',\n",
       " 'external_type',\n",
       " 'external_url',\n",
       " 'fees',\n",
       " 'floors',\n",
       " 'foreclosure',\n",
       " 'geocoded',\n",
       " 'has_barbecue_area',\n",
       " 'has_basement',\n",
       " 'has_ceiling_fan',\n",
       " 'has_deck',\n",
       " 'has_disabled_access',\n",
       " 'has_dock',\n",
       " 'has_doorman',\n",
       " 'has_double_pane_windows',\n",
       " 'has_elevator',\n",
       " 'has_fireplace',\n",
       " 'has_garage',\n",
       " 'has_garden',\n",
       " 'has_gated_entry',\n",
       " 'has_green_house',\n",
       " 'has_hot_tub_spa',\n",
       " 'has_jetted_bath_tub',\n",
       " 'has_mother_in_law',\n",
       " 'has_patio',\n",
       " 'has_pond',\n",
       " 'has_pool',\n",
       " 'has_porch',\n",
       " 'has_rv_parking',\n",
       " 'has_sauna',\n",
       " 'has_security_system',\n",
       " 'has_skylight',\n",
       " 'has_sports_court',\n",
       " 'has_sprinkler_system',\n",
       " 'has_vaulted_ceiling',\n",
       " 'has_wet_bar',\n",
       " 'heating_fuels',\n",
       " 'heating_systems',\n",
       " 'id',\n",
       " 'images',\n",
       " 'intercom',\n",
       " 'is_new_construction',\n",
       " 'is_waterfront',\n",
       " 'is_wired',\n",
       " 'journey_attributes',\n",
       " 'latitude',\n",
       " 'lead_routing_email',\n",
       " 'listing_date',\n",
       " 'listing_status',\n",
       " 'listing_type',\n",
       " 'listing_url',\n",
       " 'longitude',\n",
       " 'lot_sqft',\n",
       " 'lower_location_id',\n",
       " 'mls_number',\n",
       " 'modified_at',\n",
       " 'num_floors',\n",
       " 'open_houses',\n",
       " 'parking_types',\n",
       " 'partial_bathrooms',\n",
       " 'postal',\n",
       " 'price_cents',\n",
       " 'price_cents_sqft',\n",
       " 'property_sub_type',\n",
       " 'property_type',\n",
       " 'province',\n",
       " 'roof_types',\n",
       " 'room_count',\n",
       " 'rooms',\n",
       " 'school',\n",
       " 'scoring',\n",
       " 'status',\n",
       " 'tags',\n",
       " 'tax_amount',\n",
       " 'total_sqft',\n",
       " 'unit_number',\n",
       " 'utilities',\n",
       " 'year_built']"
      ]
     },
     "execution_count": 30,
     "metadata": {},
     "output_type": "execute_result"
    }
   ],
   "source": [
    "temp.columns"
   ]
  },
  {
   "cell_type": "code",
   "execution_count": 31,
   "metadata": {},
   "outputs": [],
   "source": [
    "temp=temp.groupBy(\"_id\").count()"
   ]
  },
  {
   "cell_type": "code",
   "execution_count": 36,
   "metadata": {},
   "outputs": [],
   "source": [
    "joined_df1 = propertydata.join(temp,'_id','inner')"
   ]
  },
  {
   "cell_type": "code",
   "execution_count": 58,
   "metadata": {},
   "outputs": [
    {
     "ename": "NameError",
     "evalue": "name 'joined_df1' is not defined",
     "output_type": "error",
     "traceback": [
      "\u001b[0;31m---------------------------------------------------------------------------\u001b[0m",
      "\u001b[0;31mNameError\u001b[0m                                 Traceback (most recent call last)",
      "\u001b[0;32m<ipython-input-58-b55b18de86b5>\u001b[0m in \u001b[0;36m<module>\u001b[0;34m\u001b[0m\n\u001b[0;32m----> 1\u001b[0;31m \u001b[0mjoined_df1\u001b[0m\u001b[0;34m.\u001b[0m\u001b[0mregisterTempTable\u001b[0m\u001b[0;34m(\u001b[0m\u001b[0;34m\"property_table\"\u001b[0m\u001b[0;34m)\u001b[0m\u001b[0;34m\u001b[0m\u001b[0;34m\u001b[0m\u001b[0m\n\u001b[0m",
      "\u001b[0;31mNameError\u001b[0m: name 'joined_df1' is not defined"
     ]
    }
   ],
   "source": [
    "joined_df1.registerTempTable(\"property_table\")"
   ]
  },
  {
   "cell_type": "code",
   "execution_count": 66,
   "metadata": {},
   "outputs": [
    {
     "data": {
      "text/html": [
       "<table border=\"1\" class=\"dataframe\">\n",
       "  <thead>\n",
       "    <tr style=\"text-align: right;\">\n",
       "      <th></th>\n",
       "      <th>_id</th>\n",
       "      <th>address_number</th>\n",
       "      <th>address_street</th>\n",
       "      <th>agent_avatar_url</th>\n",
       "      <th>agent_email</th>\n",
       "      <th>agent_fname</th>\n",
       "      <th>agent_id</th>\n",
       "      <th>agent_key</th>\n",
       "      <th>agent_lname</th>\n",
       "      <th>agent_phone</th>\n",
       "      <th>architecture_style</th>\n",
       "      <th>bathrooms</th>\n",
       "      <th>beds</th>\n",
       "      <th>brokerage_email</th>\n",
       "      <th>brokerage_external_id</th>\n",
       "      <th>brokerage_logo_url</th>\n",
       "      <th>brokerage_name</th>\n",
       "      <th>brokerage_phone</th>\n",
       "      <th>brokerage_website_url</th>\n",
       "      <th>building_sqft</th>\n",
       "      <th>building_utilities</th>\n",
       "      <th>cashback_cents</th>\n",
       "      <th>city</th>\n",
       "      <th>cooling_systems</th>\n",
       "      <th>country</th>\n",
       "      <th>cover_public_url</th>\n",
       "      <th>description</th>\n",
       "      <th>exterior_types</th>\n",
       "      <th>external_id</th>\n",
       "      <th>external_type</th>\n",
       "      <th>external_url</th>\n",
       "      <th>fees</th>\n",
       "      <th>floors</th>\n",
       "      <th>foreclosure</th>\n",
       "      <th>geocoded</th>\n",
       "      <th>has_barbecue_area</th>\n",
       "      <th>has_basement</th>\n",
       "      <th>has_ceiling_fan</th>\n",
       "      <th>has_deck</th>\n",
       "      <th>has_disabled_access</th>\n",
       "      <th>has_dock</th>\n",
       "      <th>has_doorman</th>\n",
       "      <th>has_double_pane_windows</th>\n",
       "      <th>has_elevator</th>\n",
       "      <th>has_fireplace</th>\n",
       "      <th>has_garage</th>\n",
       "      <th>has_garden</th>\n",
       "      <th>has_gated_entry</th>\n",
       "      <th>has_green_house</th>\n",
       "      <th>has_hot_tub_spa</th>\n",
       "      <th>has_jetted_bath_tub</th>\n",
       "      <th>has_mother_in_law</th>\n",
       "      <th>has_patio</th>\n",
       "      <th>has_pond</th>\n",
       "      <th>has_pool</th>\n",
       "      <th>has_porch</th>\n",
       "      <th>has_rv_parking</th>\n",
       "      <th>has_sauna</th>\n",
       "      <th>has_security_system</th>\n",
       "      <th>has_skylight</th>\n",
       "      <th>has_sports_court</th>\n",
       "      <th>has_sprinkler_system</th>\n",
       "      <th>has_vaulted_ceiling</th>\n",
       "      <th>has_wet_bar</th>\n",
       "      <th>heating_fuels</th>\n",
       "      <th>heating_systems</th>\n",
       "      <th>id</th>\n",
       "      <th>images</th>\n",
       "      <th>intercom</th>\n",
       "      <th>is_new_construction</th>\n",
       "      <th>is_waterfront</th>\n",
       "      <th>is_wired</th>\n",
       "      <th>journey_attributes</th>\n",
       "      <th>latitude</th>\n",
       "      <th>lead_routing_email</th>\n",
       "      <th>listing_date</th>\n",
       "      <th>listing_status</th>\n",
       "      <th>listing_type</th>\n",
       "      <th>listing_url</th>\n",
       "      <th>longitude</th>\n",
       "      <th>lot_sqft</th>\n",
       "      <th>lower_location_id</th>\n",
       "      <th>mls_number</th>\n",
       "      <th>modified_at</th>\n",
       "      <th>num_floors</th>\n",
       "      <th>open_houses</th>\n",
       "      <th>parking_types</th>\n",
       "      <th>partial_bathrooms</th>\n",
       "      <th>postal</th>\n",
       "      <th>price_cents</th>\n",
       "      <th>price_cents_sqft</th>\n",
       "      <th>property_sub_type</th>\n",
       "      <th>property_type</th>\n",
       "      <th>province</th>\n",
       "      <th>roof_types</th>\n",
       "      <th>room_count</th>\n",
       "      <th>rooms</th>\n",
       "      <th>school</th>\n",
       "      <th>scoring</th>\n",
       "      <th>status</th>\n",
       "      <th>tags</th>\n",
       "      <th>tax_amount</th>\n",
       "      <th>total_sqft</th>\n",
       "      <th>unit_number</th>\n",
       "      <th>utilities</th>\n",
       "      <th>year_built</th>\n",
       "    </tr>\n",
       "  </thead>\n",
       "  <tbody>\n",
       "  </tbody>\n",
       "</table>"
      ],
      "text/plain": [
       "<IPython.core.display.HTML object>"
      ]
     },
     "execution_count": 66,
     "metadata": {},
     "output_type": "execute_result"
    }
   ],
   "source": [
    "printDf(sqlContext.sql(\"select * from table where _id='5ca51849be7c7e00012080a2'\"))"
   ]
  },
  {
   "cell_type": "code",
   "execution_count": 12,
   "metadata": {},
   "outputs": [],
   "source": [
    "def printDf(sprkDF):\n",
    "    newdf = sprkDF.toPandas()\n",
    "    from IPython.display import display, HTML\n",
    "    return HTML(newdf.to_html())"
   ]
  },
  {
   "cell_type": "code",
   "execution_count": null,
   "metadata": {},
   "outputs": [],
   "source": []
  },
  {
   "cell_type": "code",
   "execution_count": 43,
   "metadata": {},
   "outputs": [
    {
     "data": {
      "text/html": [
       "<table border=\"1\" class=\"dataframe\">\n",
       "  <thead>\n",
       "    <tr style=\"text-align: right;\">\n",
       "      <th></th>\n",
       "      <th>utilities</th>\n",
       "      <th>count(1)</th>\n",
       "    </tr>\n",
       "  </thead>\n",
       "  <tbody>\n",
       "    <tr>\n",
       "      <th>0</th>\n",
       "      <td>[Washer, Dryer, Refrigerator, Stove, Dishwasher]</td>\n",
       "      <td>1</td>\n",
       "    </tr>\n",
       "    <tr>\n",
       "      <th>1</th>\n",
       "      <td>None</td>\n",
       "      <td>29</td>\n",
       "    </tr>\n",
       "  </tbody>\n",
       "</table>"
      ],
      "text/plain": [
       "<IPython.core.display.HTML object>"
      ]
     },
     "execution_count": 43,
     "metadata": {},
     "output_type": "execute_result"
    }
   ],
   "source": [
    "printDf(sqlContext.sql(\"select utilities, count(*) from table group by utilities\"))\n",
    "\n"
   ]
  },
  {
   "cell_type": "code",
   "execution_count": 17,
   "metadata": {},
   "outputs": [
    {
     "name": "stdout",
     "output_type": "stream",
     "text": [
      "root\n",
      " |-- parking_types: array (nullable = true)\n",
      " |    |-- element: string (containsNull = true)\n",
      "\n"
     ]
    }
   ],
   "source": [
    "printDf(sqlContext.sql(\"select NVL(parking_types[0],parking_types[1]) as parking, count(*) from table group by parking\"))\n"
   ]
  },
  {
   "cell_type": "code",
   "execution_count": 35,
   "metadata": {},
   "outputs": [],
   "source": []
  },
  {
   "cell_type": "code",
   "execution_count": 38,
   "metadata": {},
   "outputs": [],
   "source": [
    "data=nest_recom_get_properties()"
   ]
  },
  {
   "cell_type": "code",
   "execution_count": 39,
   "metadata": {},
   "outputs": [
    {
     "data": {
      "text/plain": [
       "property    US\n",
       "Name: country, dtype: object"
      ]
     },
     "execution_count": 39,
     "metadata": {},
     "output_type": "execute_result"
    }
   ],
   "source": [
    "data.country"
   ]
  },
  {
   "cell_type": "code",
   "execution_count": 8,
   "metadata": {},
   "outputs": [],
   "source": [
    "api_token = 'your_api_token'\n",
    "api_url_base = 'https://be-prod.nestready.co/v3/properties/5cbeb3636f695c0001d4f8c7'"
   ]
  },
  {
   "cell_type": "code",
   "execution_count": 10,
   "metadata": {},
   "outputs": [],
   "source": [
    "headers = {'Content-Type': 'application/json'}"
   ]
  },
  {
   "cell_type": "code",
   "execution_count": 13,
   "metadata": {},
   "outputs": [
    {
     "name": "stdout",
     "output_type": "stream",
     "text": [
      "{'property': {'id': '5cbeb3636f695c0001d4f8c7', 'address_street': 'Hillside Terrace', 'address_number': '17', 'unit_number': 'Unit: D', 'city': 'White Plains', 'postal': '10601-1144', 'province': 'NY', 'country': 'US', 'description': \"Welcome to Hillside Terrace's rare three bedroom townhouse style condominium. Updated with gleaming kitchen with granite countertops and stainless steel appliances leads you to a comfortable living room with dining area. The sliding glass doors take you to an outside private patio is excellent for entertaining. Upstairs you will find a large master bedroom with walk-in closet, and the second and third bedrooms which share a full bath. Located in White Plains NY, Hillside Village provides easy access to downtown White Plains, Metro-North train station, transportation, White Plains Hospital, New York Presbyterian Hosptial-Westchester, Burke Rehabilitation Hospital, Westchester Community Center and major shopping and dining as well as much, much more. Country retreat, with urban conveniences. Basic Star reduces taxes $1716.\", 'latitude': 41.0339862, 'longitude': -73.7629097, 'listing_status': 'active', 'listing_url': 'https://listings.listhub.net/pages/WPMLSNY/4919746/?channel=nestready', 'listing_date': None, 'lead_routing_email': 'stephen@nexthomegoodlife.com', 'partial_bathrooms': 1, 'rooms': ['Bedroom', 'Bedroom', 'Bedroom', 'Full Bath', 'Half Bath', 'Walk-In Closet'], 'modified_at': '2019-04-15T19:53:36.000+00:00', 'external_id': '3yd-WPMLSNY-4919746', 'external_type': 'list_hub', 'mls_number': '4919746', 'brokerage_external_id': None, 'brokerage_name': 'NextHome GoodLife', 'brokerage_phone': '(914) 713-8912', 'brokerage_email': 'stephen@nexthomegoodlife.com', 'brokerage_website_url': 'http://www.nexthomegoodlife.com', 'brokerage_logo_url': None, 'agent_fname': 'Stephen', 'agent_lname': 'L. Herman', 'agent_phone': '9147689075', 'agent_email': 'stephen@nexthomegoodlife.com', 'agent_avatar_url': None, 'agent_id': '21213', 'agent_key': '3yd-WPMLSNY-21213', 'price_cents': 46900000, 'price_cents_sqft': 39478, 'tax_amount': None, 'total_sqft': None, 'lot_sqft': None, 'building_sqft': 1188.0, 'beds': 3, 'year_built': 1977, 'floors': ['Hardwood'], 'utilities': None, 'building_utilities': None, 'tags': None, 'cover_public_url': 'https://n-properties.s3.amazonaws.com/cc804ed3604e3a34a8a50f92a272e364.jpg', 'fees': None, 'school': None, 'foreclosure': None, 'num_floors': 2.0, 'parking_types': ['Carport'], 'bathrooms': 2.0, 'property_type': 'Residential', 'property_sub_type': 'Townhouse', 'architecture_style': 'Other', 'room_count': 5, 'roof_types': ['Unknown'], 'cooling_systems': ['Wall Unit(s) A/C'], 'exterior_types': ['Vinyl Siding'], 'heating_fuels': None, 'heating_systems': None, 'open_houses': None, 'is_new_construction': False, 'is_waterfront': None, 'is_wired': None, 'intercom': None, 'has_barbecue_area': None, 'has_basement': None, 'has_ceiling_fan': None, 'has_deck': None, 'has_disabled_access': None, 'has_dock': None, 'has_doorman': None, 'has_double_pane_windows': None, 'has_elevator': None, 'has_fireplace': None, 'has_garage': None, 'has_garden': None, 'has_gated_entry': None, 'has_green_house': None, 'has_hot_tub_spa': None, 'has_jetted_bath_tub': None, 'has_mother_in_law': None, 'has_patio': True, 'has_pond': None, 'has_pool': True, 'has_porch': None, 'has_rv_parking': None, 'has_sauna': None, 'has_security_system': None, 'has_skylight': None, 'has_sports_court': None, 'has_sprinkler_system': None, 'has_vaulted_ceiling': None, 'has_wet_bar': None, 'location_ids': ['597796a2b5e1b578d500004d', '597796f7b5e1b5f5d70001fd', '597796b9b5e1b595030008db', '59779890b5e1b56c1a008df1'], 'lower_location_id': '59779890b5e1b56c1a008df1', 'geocoded': False, 'cashback_cents': 234500.0, 'images': [{'id': '5cbeb3636f695c0001d4f8b5', 'url': 'https://n-properties.s3.amazonaws.com/cc804ed3604e3a34a8a50f92a272e364.jpg'}, {'id': '5cbeb3636f695c0001d4f8b6', 'url': 'https://n-properties.s3.amazonaws.com/ed7a5c56f9719add0d12549d4d83e707.jpg'}, {'id': '5cbeb3636f695c0001d4f8b7', 'url': 'https://n-properties.s3.amazonaws.com/1be33f15e40f7804f91ae460cd00746c.jpg'}, {'id': '5cbeb3636f695c0001d4f8b8', 'url': 'https://n-properties.s3.amazonaws.com/52c3ebecfecd0fcf27892b1efde42c7b.jpg'}, {'id': '5cbeb3636f695c0001d4f8b9', 'url': 'https://n-properties.s3.amazonaws.com/c01599492466a0f64540ba7342b257df.jpg'}, {'id': '5cbeb3636f695c0001d4f8ba', 'url': 'https://n-properties.s3.amazonaws.com/a720d1c44876acfc49f0b15f9271187c.jpg'}, {'id': '5cbeb3636f695c0001d4f8bb', 'url': 'https://n-properties.s3.amazonaws.com/ef10d6edfd14859c80b1450e2d16a291.jpg'}, {'id': '5cbeb3636f695c0001d4f8bc', 'url': 'https://n-properties.s3.amazonaws.com/927c17df312832d1e3a7357bad0d86b7.jpg'}, {'id': '5cbeb3636f695c0001d4f8bd', 'url': 'https://n-properties.s3.amazonaws.com/6e426a0d33c35c8493b771a1797d7af0.jpg'}, {'id': '5cbeb3636f695c0001d4f8be', 'url': 'https://n-properties.s3.amazonaws.com/e949e629354596a73656dfd8298b0392.jpg'}, {'id': '5cbeb3636f695c0001d4f8bf', 'url': 'https://n-properties.s3.amazonaws.com/1744f5ffa51f64f509cff3e291f39c0c.jpg'}, {'id': '5cbeb3636f695c0001d4f8c0', 'url': 'https://n-properties.s3.amazonaws.com/594a484c5d69dd88cbd737d9f909fba1.jpg'}, {'id': '5cbeb3636f695c0001d4f8c1', 'url': 'https://n-properties.s3.amazonaws.com/6f24fda21c0cc6da0611bc68b6a23820.jpg'}, {'id': '5cbeb3636f695c0001d4f8c2', 'url': 'https://n-properties.s3.amazonaws.com/68eaf728dc4a57a3eac9eb67da810500.jpg'}, {'id': '5cbeb3636f695c0001d4f8c3', 'url': 'https://n-properties.s3.amazonaws.com/c9171a1453ef98949b952309c1cc5a0a.jpg'}, {'id': '5cbeb3636f695c0001d4f8c4', 'url': 'https://n-properties.s3.amazonaws.com/6f214b832f0e09ed19555122af8a37bf.jpg'}, {'id': '5cbeb3636f695c0001d4f8c5', 'url': 'https://n-properties.s3.amazonaws.com/4295d65b29627bce0972795d58d0df02.jpg'}, {'id': '5cbeb3636f695c0001d4f8c6', 'url': 'https://n-properties.s3.amazonaws.com/a0112bc817a73ec1c04971f8905c7677.jpg'}], 'photos': []}}\n"
     ]
    }
   ],
   "source": [
    "headers = {'Content-Type': 'application/json'}\n",
    "response = requests.get(api_url_base, headers=headers)\n",
    "\n",
    "if response.status_code == 200:\n",
    "    data= json.loads(response.content.decode('utf-8'))\n",
    "    \n",
    "    print(data)\n",
    "else:\n",
    "    print(\"error\")"
   ]
  },
  {
   "cell_type": "code",
   "execution_count": 26,
   "metadata": {},
   "outputs": [],
   "source": [
    "import pandas as pd\n",
    "\n",
    "df = pd.DataFrame.from_dict(data, orient='index')\n",
    "\n",
    "\n",
    "#jdata = json.loads(dict(data))\n",
    "\n",
    "#df = pd.DataFrame(jdata)"
   ]
  },
  {
   "cell_type": "code",
   "execution_count": 27,
   "metadata": {},
   "outputs": [
    {
     "data": {
      "text/html": [
       "<div>\n",
       "<style scoped>\n",
       "    .dataframe tbody tr th:only-of-type {\n",
       "        vertical-align: middle;\n",
       "    }\n",
       "\n",
       "    .dataframe tbody tr th {\n",
       "        vertical-align: top;\n",
       "    }\n",
       "\n",
       "    .dataframe thead th {\n",
       "        text-align: right;\n",
       "    }\n",
       "</style>\n",
       "<table border=\"1\" class=\"dataframe\">\n",
       "  <thead>\n",
       "    <tr style=\"text-align: right;\">\n",
       "      <th></th>\n",
       "      <th>id</th>\n",
       "      <th>address_street</th>\n",
       "      <th>address_number</th>\n",
       "      <th>unit_number</th>\n",
       "      <th>city</th>\n",
       "      <th>postal</th>\n",
       "      <th>province</th>\n",
       "      <th>country</th>\n",
       "      <th>description</th>\n",
       "      <th>latitude</th>\n",
       "      <th>...</th>\n",
       "      <th>has_sports_court</th>\n",
       "      <th>has_sprinkler_system</th>\n",
       "      <th>has_vaulted_ceiling</th>\n",
       "      <th>has_wet_bar</th>\n",
       "      <th>location_ids</th>\n",
       "      <th>lower_location_id</th>\n",
       "      <th>geocoded</th>\n",
       "      <th>cashback_cents</th>\n",
       "      <th>images</th>\n",
       "      <th>photos</th>\n",
       "    </tr>\n",
       "  </thead>\n",
       "  <tbody>\n",
       "    <tr>\n",
       "      <th>property</th>\n",
       "      <td>5cbeb3636f695c0001d4f8c7</td>\n",
       "      <td>Hillside Terrace</td>\n",
       "      <td>17</td>\n",
       "      <td>Unit: D</td>\n",
       "      <td>White Plains</td>\n",
       "      <td>10601-1144</td>\n",
       "      <td>NY</td>\n",
       "      <td>US</td>\n",
       "      <td>Welcome to Hillside Terrace's rare three bedro...</td>\n",
       "      <td>41.033986</td>\n",
       "      <td>...</td>\n",
       "      <td>None</td>\n",
       "      <td>None</td>\n",
       "      <td>None</td>\n",
       "      <td>None</td>\n",
       "      <td>[597796a2b5e1b578d500004d, 597796f7b5e1b5f5d70...</td>\n",
       "      <td>59779890b5e1b56c1a008df1</td>\n",
       "      <td>False</td>\n",
       "      <td>234500.0</td>\n",
       "      <td>[{'id': '5cbeb3636f695c0001d4f8b5', 'url': 'ht...</td>\n",
       "      <td>[]</td>\n",
       "    </tr>\n",
       "  </tbody>\n",
       "</table>\n",
       "<p>1 rows × 102 columns</p>\n",
       "</div>"
      ],
      "text/plain": [
       "                                id    address_street address_number  \\\n",
       "property  5cbeb3636f695c0001d4f8c7  Hillside Terrace             17   \n",
       "\n",
       "         unit_number          city      postal province country  \\\n",
       "property     Unit: D  White Plains  10601-1144       NY      US   \n",
       "\n",
       "                                                description   latitude  ...  \\\n",
       "property  Welcome to Hillside Terrace's rare three bedro...  41.033986  ...   \n",
       "\n",
       "          has_sports_court has_sprinkler_system has_vaulted_ceiling  \\\n",
       "property              None                 None                None   \n",
       "\n",
       "         has_wet_bar                                       location_ids  \\\n",
       "property        None  [597796a2b5e1b578d500004d, 597796f7b5e1b5f5d70...   \n",
       "\n",
       "                 lower_location_id geocoded cashback_cents  \\\n",
       "property  59779890b5e1b56c1a008df1    False       234500.0   \n",
       "\n",
       "                                                     images photos  \n",
       "property  [{'id': '5cbeb3636f695c0001d4f8b5', 'url': 'ht...     []  \n",
       "\n",
       "[1 rows x 102 columns]"
      ]
     },
     "execution_count": 27,
     "metadata": {},
     "output_type": "execute_result"
    }
   ],
   "source": [
    "df.head(200)"
   ]
  },
  {
   "cell_type": "code",
   "execution_count": 30,
   "metadata": {},
   "outputs": [
    {
     "data": {
      "text/html": [
       "<div>\n",
       "<style scoped>\n",
       "    .dataframe tbody tr th:only-of-type {\n",
       "        vertical-align: middle;\n",
       "    }\n",
       "\n",
       "    .dataframe tbody tr th {\n",
       "        vertical-align: top;\n",
       "    }\n",
       "\n",
       "    .dataframe thead th {\n",
       "        text-align: right;\n",
       "    }\n",
       "</style>\n",
       "<table border=\"1\" class=\"dataframe\">\n",
       "  <thead>\n",
       "    <tr style=\"text-align: right;\">\n",
       "      <th></th>\n",
       "      <th>country</th>\n",
       "      <th>province</th>\n",
       "    </tr>\n",
       "  </thead>\n",
       "  <tbody>\n",
       "    <tr>\n",
       "      <th>property</th>\n",
       "      <td>US</td>\n",
       "      <td>NY</td>\n",
       "    </tr>\n",
       "  </tbody>\n",
       "</table>\n",
       "</div>"
      ],
      "text/plain": [
       "         country province\n",
       "property      US       NY"
      ]
     },
     "execution_count": 30,
     "metadata": {},
     "output_type": "execute_result"
    }
   ],
   "source": [
    "df[{'province','country'}]"
   ]
  },
  {
   "cell_type": "code",
   "execution_count": 2,
   "metadata": {},
   "outputs": [],
   "source": [
    "from pyspark.ml.recommendation import ALS\n",
    "import time\n",
    "from pyspark.sql import SQLContext,functions as F\n",
    "from pyspark.ml.recommendation import ALSModel\n",
    "import pandas as pd"
   ]
  },
  {
   "cell_type": "code",
   "execution_count": 3,
   "metadata": {},
   "outputs": [],
   "source": [
    "df = pd.DataFrame({'new_userId':[ 3,  29,10],\n",
    "                'new_propertyId': [94, 170,8],\n",
    "                'weight': [2, 2,9]})"
   ]
  },
  {
   "cell_type": "code",
   "execution_count": 5,
   "metadata": {},
   "outputs": [],
   "source": [
    "import pyspark\n",
    "from pyspark.sql import SparkSession\n",
    "from pyspark import SparkConf,SparkContext\n",
    "from pyspark.sql import SQLContext,functions as F"
   ]
  },
  {
   "cell_type": "code",
   "execution_count": 6,
   "metadata": {},
   "outputs": [],
   "source": [
    "sc = SparkSession.builder\\\n",
    "                .appName(\"TESTING\")\\\n",
    "                .master('local[2]')\\\n",
    "                .config('spark.driver.memory', \"5g\")\\\n",
    "                .getOrCreate()"
   ]
  },
  {
   "cell_type": "code",
   "execution_count": null,
   "metadata": {},
   "outputs": [],
   "source": []
  }
 ],
 "metadata": {
  "kernelspec": {
   "display_name": "Python 3",
   "language": "python",
   "name": "python3"
  },
  "language_info": {
   "codemirror_mode": {
    "name": "ipython",
    "version": 3
   },
   "file_extension": ".py",
   "mimetype": "text/x-python",
   "name": "python",
   "nbconvert_exporter": "python",
   "pygments_lexer": "ipython3",
   "version": "3.7.3"
  }
 },
 "nbformat": 4,
 "nbformat_minor": 2
}
