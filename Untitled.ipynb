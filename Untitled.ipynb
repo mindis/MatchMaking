{
 "cells": [
  {
   "cell_type": "code",
   "execution_count": 1,
   "metadata": {},
   "outputs": [
    {
     "name": "stdout",
     "output_type": "stream",
     "text": [
      "hello\n"
     ]
    }
   ],
   "source": [
    "print(\"hello\")"
   ]
  },
  {
   "cell_type": "code",
   "execution_count": 3,
   "metadata": {},
   "outputs": [],
   "source": [
    "from pyspark.sql import SparkSession\n",
    "from pyspark import SparkConf,SparkContext\n",
    "from pyspark.sql import SQLContext,functions as F\n",
    "from pyspark.sql.types import *"
   ]
  },
  {
   "cell_type": "code",
   "execution_count": 4,
   "metadata": {},
   "outputs": [],
   "source": [
    "my_spark = SparkSession \\\n",
    "\t\t     .builder \\\n",
    "\t\t     .appName(\"suraj\") \\\n",
    "\t\t     .getOrCreate()"
   ]
  },
  {
   "cell_type": "code",
   "execution_count": 5,
   "metadata": {},
   "outputs": [
    {
     "name": "stdout",
     "output_type": "stream",
     "text": [
      "1\r\n",
      "GCP.postman_collection.json\r\n",
      "README.md\r\n",
      "Untitled.ipynb\r\n",
      "\u001b[34mUser_Realtor_MatchMaking\u001b[m\u001b[m\r\n",
      "authentication.json\r\n",
      "\u001b[34mdeployment_gcp_cloud_function\u001b[m\u001b[m\r\n",
      "github_push.py\r\n",
      "instructions\r\n",
      "nestready-platform-production-sa-ml-cloud-sql-client-f809c1b2cb09.json\r\n",
      "output.txt\r\n",
      "quantarium_agents_inference.ipynb\r\n",
      "quantarium_agents_load.ipynb\r\n",
      "run_db.sh\r\n"
     ]
    }
   ],
   "source": [
    "!ls"
   ]
  },
  {
   "cell_type": "code",
   "execution_count": null,
   "metadata": {},
   "outputs": [],
   "source": []
  }
 ],
 "metadata": {
  "kernelspec": {
   "display_name": "Python 3",
   "language": "python",
   "name": "python3"
  },
  "language_info": {
   "codemirror_mode": {
    "name": "ipython",
    "version": 3
   },
   "file_extension": ".py",
   "mimetype": "text/x-python",
   "name": "python",
   "nbconvert_exporter": "python",
   "pygments_lexer": "ipython3",
   "version": "3.7.3"
  }
 },
 "nbformat": 4,
 "nbformat_minor": 2
}
