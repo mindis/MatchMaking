{
 "cells": [
  {
   "cell_type": "code",
   "execution_count": 1,
   "metadata": {},
   "outputs": [
    {
     "name": "stdout",
     "output_type": "stream",
     "text": [
      "10\n"
     ]
    }
   ],
   "source": [
    "from PIL import Image\n",
    "import imagehash\n",
    "\n",
    "hash_1 = imagehash.phash(Image.open('nest2_discolored.jpg'))\n",
    "hash_2 = imagehash.phash(Image.open('redfin2.jpg'))\n",
    "\n",
    "print(hash_1 - hash_2)"
   ]
  },
  {
   "cell_type": "code",
   "execution_count": 2,
   "metadata": {},
   "outputs": [
    {
     "data": {
      "text/plain": [
       "'fa87f57a84521625'"
      ]
     },
     "execution_count": 2,
     "metadata": {},
     "output_type": "execute_result"
    }
   ],
   "source": [
    "str(hash_1)"
   ]
  },
  {
   "cell_type": "code",
   "execution_count": 3,
   "metadata": {},
   "outputs": [
    {
     "data": {
      "text/plain": [
       "'fa8d647b85521b25'"
      ]
     },
     "execution_count": 3,
     "metadata": {},
     "output_type": "execute_result"
    }
   ],
   "source": [
    "str(hash_2)"
   ]
  },
  {
   "cell_type": "code",
   "execution_count": 2,
   "metadata": {},
   "outputs": [
    {
     "name": "stdout",
     "output_type": "stream",
     "text": [
      "Collecting imagehash\n",
      "\u001b[?25l  Downloading https://files.pythonhosted.org/packages/58/47/e639093d67f54e59163f9d259575a10bd16e4d0ff3bb1259ba64b9c77a42/ImageHash-4.0-py2.py3-none-any.whl (295kB)\n",
      "\u001b[K    100% |████████████████████████████████| 296kB 4.1MB/s ta 0:00:01\n",
      "\u001b[?25hRequirement already satisfied: numpy in /Users/jatinmalhotra/anaconda3/lib/python3.7/site-packages (from imagehash) (1.16.2)\n",
      "Requirement already satisfied: pywavelets in /Users/jatinmalhotra/anaconda3/lib/python3.7/site-packages (from imagehash) (1.0.2)\n",
      "Requirement already satisfied: pillow in /Users/jatinmalhotra/anaconda3/lib/python3.7/site-packages (from imagehash) (5.4.1)\n",
      "Requirement already satisfied: scipy in /Users/jatinmalhotra/anaconda3/lib/python3.7/site-packages (from imagehash) (1.2.1)\n",
      "Requirement already satisfied: six in /Users/jatinmalhotra/anaconda3/lib/python3.7/site-packages (from imagehash) (1.12.0)\n",
      "Installing collected packages: imagehash\n",
      "Successfully installed imagehash-4.0\n"
     ]
    }
   ],
   "source": [
    "!pip install imagehash"
   ]
  },
  {
   "cell_type": "code",
   "execution_count": 3,
   "metadata": {},
   "outputs": [
    {
     "name": "stdout",
     "output_type": "stream",
     "text": [
      "/Users/jatinmalhotra/Desktop/similar_images\r\n"
     ]
    }
   ],
   "source": [
    "!pwd"
   ]
  },
  {
   "cell_type": "code",
   "execution_count": 7,
   "metadata": {},
   "outputs": [
    {
     "name": "stdout",
     "output_type": "stream",
     "text": [
      "0\n"
     ]
    }
   ],
   "source": [
    "from PIL import Image\n",
    "import imagehash\n",
    "\n",
    "hash_1 = imagehash.phash(Image.open('nest2.jpg'))\n",
    "hash_2 = imagehash.phash(Image.open('redfin2.jpg'))\n",
    "\n",
    "print(hash_1 - hash_2)"
   ]
  },
  {
   "cell_type": "code",
   "execution_count": 4,
   "metadata": {},
   "outputs": [
    {
     "data": {
      "text/plain": [
       "array([[ True, False,  True,  True,  True,  True, False,  True],\n",
       "       [ True, False, False,  True,  True,  True, False, False],\n",
       "       [ True,  True, False,  True, False,  True,  True, False],\n",
       "       [ True, False, False,  True, False, False, False, False],\n",
       "       [ True, False,  True,  True, False, False, False, False],\n",
       "       [False,  True,  True, False, False,  True, False, False],\n",
       "       [ True,  True,  True, False,  True,  True, False, False],\n",
       "       [ True,  True, False, False,  True,  True, False, False]])"
      ]
     },
     "execution_count": 4,
     "metadata": {},
     "output_type": "execute_result"
    }
   ],
   "source": [
    "hash_1"
   ]
  },
  {
   "cell_type": "code",
   "execution_count": 5,
   "metadata": {},
   "outputs": [
    {
     "data": {
      "text/plain": [
       "array([[ True, False, False,  True,  True, False,  True, False],\n",
       "       [ True,  True, False, False,  True, False,  True, False],\n",
       "       [False,  True, False, False, False, False, False, False],\n",
       "       [ True,  True,  True, False, False,  True, False, False],\n",
       "       [False, False,  True,  True, False,  True, False, False],\n",
       "       [False,  True,  True,  True,  True,  True,  True, False],\n",
       "       [ True, False,  True,  True, False, False, False,  True],\n",
       "       [ True, False,  True,  True,  True,  True,  True, False]])"
      ]
     },
     "execution_count": 5,
     "metadata": {},
     "output_type": "execute_result"
    }
   ],
   "source": [
    "hash_2"
   ]
  },
  {
   "cell_type": "code",
   "execution_count": 2,
   "metadata": {},
   "outputs": [
    {
     "name": "stdout",
     "output_type": "stream",
     "text": [
      "0\n"
     ]
    }
   ],
   "source": [
    "from PIL import Image\n",
    "import requests\n",
    "from io import BytesIO\n",
    "import imagehash\n",
    "\n",
    "\n",
    "img_url1 =\"https://storage.googleapis.com/nr-production-api-listing-images/581ec260241a74ea48c5554651675e45.jpeg\"\n",
    "img_url2 = \"https://ssl.cdn-redfin.com/photo/94/bigphoto/461/2516461_1.jpg\"\n",
    "\n",
    "response1 = requests.get(img_url1)\n",
    "#img1 = Image.open(BytesIO(response1.content))\n",
    "    \n",
    "response2 = requests.get(img_url2)\n",
    "#i1mg2 = Image.open(BytesIO(response2.content))\n",
    "\n",
    "hash_1 = imagehash.phash(Image.open(BytesIO(response1.content)))\n",
    "hash_2 = imagehash.phash(Image.open(BytesIO(response2.content)))\n",
    "    \n",
    "val= hash_1 - hash_2\n",
    "    \n",
    "print(val)"
   ]
  },
  {
   "cell_type": "code",
   "execution_count": null,
   "metadata": {},
   "outputs": [],
   "source": []
  }
 ],
 "metadata": {
  "kernelspec": {
   "display_name": "Python 3",
   "language": "python",
   "name": "python3"
  },
  "language_info": {
   "codemirror_mode": {
    "name": "ipython",
    "version": 3
   },
   "file_extension": ".py",
   "mimetype": "text/x-python",
   "name": "python",
   "nbconvert_exporter": "python",
   "pygments_lexer": "ipython3",
   "version": "3.7.3"
  }
 },
 "nbformat": 4,
 "nbformat_minor": 2
}
