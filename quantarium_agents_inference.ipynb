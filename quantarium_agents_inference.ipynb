{
 "cells": [
  {
   "cell_type": "code",
   "execution_count": 138,
   "metadata": {},
   "outputs": [],
   "source": [
    "import pandas as pd\n",
    "import numpy as np\n",
    "import re"
   ]
  },
  {
   "cell_type": "code",
   "execution_count": 139,
   "metadata": {},
   "outputs": [],
   "source": [
    "\n",
    "\n",
    "pd.set_option('display.max_colwidth', -1)\n",
    "pd.set_option('display.max_rows', 50000)\n",
    "pd.set_option('display.max_columns', 5000)\n",
    "pd.set_option('display.width', 1000)\n",
    "\n"
   ]
  },
  {
   "cell_type": "code",
   "execution_count": 140,
   "metadata": {},
   "outputs": [
    {
     "data": {
      "text/plain": [
       "'\\ndef validate_input_json(d):\\n    validation_error=\\'\\'\\n    mn_price, mx_price, loc, st, prop, min_b, max_b = False, False, False, False, False, False, False\\n    \\n    for i in d.keys():\\n        if \\'min_price\\' == i:\\n            mn_price=True\\n        elif \\'max_price\\' == i:\\n            mx_price=True\\n        elif \\'locations\\' == i:\\n            loc=True\\n        elif \\'state\\' == i:\\n            st=True\\n        elif \\'property_type\\' == i:\\n            prop=True    \\n        elif \\'min_beds\\' == i:\\n            min_b=True    \\n        elif \\'max_beds\\' == i:\\n            max_b=True    \\n        else:\\n            validation_error = \"Invalid key found in input: \"+ i + \" \"\\n            \\n    \\n    if mn_price is False:\\n        validation_error= validation_error + \\'min_price key is missing in input json ; \\'\\n        \\n    if mx_price is False:\\n        validation_error= validation_error + \\'max_price key is missing in input json ; \\'\\n        \\n    if loc is False:\\n        validation_error= validation_error + \\'locations key is missing in input json ; \\'\\n    \\n    \\n    return validation_error, st,prop, min_b, max_b\\n\\n'"
      ]
     },
     "execution_count": 140,
     "metadata": {},
     "output_type": "execute_result"
    }
   ],
   "source": [
    "'''\n",
    "def validate_input_json(d):\n",
    "    validation_error=''\n",
    "    mn_price, mx_price, loc, st, prop, min_b, max_b = False, False, False, False, False, False, False\n",
    "    \n",
    "    for i in d.keys():\n",
    "        if 'min_price' == i:\n",
    "            mn_price=True\n",
    "        elif 'max_price' == i:\n",
    "            mx_price=True\n",
    "        elif 'locations' == i:\n",
    "            loc=True\n",
    "        elif 'state' == i:\n",
    "            st=True\n",
    "        elif 'property_type' == i:\n",
    "            prop=True    \n",
    "        elif 'min_beds' == i:\n",
    "            min_b=True    \n",
    "        elif 'max_beds' == i:\n",
    "            max_b=True    \n",
    "        else:\n",
    "            validation_error = \"Invalid key found in input: \"+ i + \" \"\n",
    "            \n",
    "    \n",
    "    if mn_price is False:\n",
    "        validation_error= validation_error + 'min_price key is missing in input json ; '\n",
    "        \n",
    "    if mx_price is False:\n",
    "        validation_error= validation_error + 'max_price key is missing in input json ; '\n",
    "        \n",
    "    if loc is False:\n",
    "        validation_error= validation_error + 'locations key is missing in input json ; '\n",
    "    \n",
    "    \n",
    "    return validation_error, st,prop, min_b, max_b\n",
    "\n",
    "'''"
   ]
  },
  {
   "cell_type": "code",
   "execution_count": 141,
   "metadata": {},
   "outputs": [],
   "source": [
    "def load_agents():\n",
    "    '''\n",
    "    import os\n",
    "    file_name=os.environ.get('file_name', 'file_name environment variable is not set.')\n",
    "    agents = pd.read_csv(file_name)\n",
    "    '''\n",
    "    agents = pd.read_csv('gs://nest-agents/quantarium_agents.csv')\n",
    "    \n",
    "    return agents\n"
   ]
  },
  {
   "cell_type": "code",
   "execution_count": 142,
   "metadata": {},
   "outputs": [],
   "source": [
    "def match_locations_one(agents, p_user_locations, p_state, p_state_flag):\n",
    "    \n",
    "    error_flag= False\n",
    "    error_message= ''\n",
    "    \n",
    "    \n",
    "    if p_state_flag:\n",
    "        agents.loc[ (agents['areaServed'].str.contains(p_user_locations[0], na=False)) &  (agents['state'].str.contains(p_state[0], na=False)), 'location_match'] = 1 \n",
    "    else:\n",
    "        agents.loc[ (agents['areaServed'].str.contains(p_user_locations[0], na=False)) , 'location_match'] = 1 \n",
    "    \n",
    "    \n",
    "    agents= agents[ (agents[\"location_match\"] > 0 )]\n",
    "    \n",
    "    if agents.shape[0] <= 0:\n",
    "        error_flag=True\n",
    "        error_message='No realtor found in input location(s). Please try different location(s)'\n",
    "    \n",
    "    \n",
    "    return agents, error_flag, error_message\n"
   ]
  },
  {
   "cell_type": "code",
   "execution_count": 143,
   "metadata": {},
   "outputs": [],
   "source": [
    "def match_locations(agents, p_user_locations, p_state, p_state_flag):\n",
    "    \n",
    "    error_flag= False\n",
    "    error_message= ''\n",
    "    \n",
    "   \n",
    "    '''   \n",
    "    agents[\"locations\"]= agents[\"areaServed\"].str.replace(' ', '')\n",
    "    agents[\"locations\"]=agents[\"locations\"].str.lower()\n",
    "    ''' \n",
    "    agents[\"locations\"]= agents[\"areaServed\"].str.split(\",\")\n",
    "    agents[\"state\"]= agents[\"state\"].str.split(\",\")\n",
    "       \n",
    "    \n",
    "    hh=[]\n",
    "    hh_state=[]\n",
    "                      \n",
    "    if p_state_flag:\n",
    "        for i in range(0, len(agents)):\n",
    "            hh.append(np.intersect1d(agents[\"locations\"][i], p_user_locations).shape[0])\n",
    "            hh_state.append(np.intersect1d(agents[\"state\"][i], p_state).shape[0])\n",
    "\n",
    "        agents[\"location_match\"]=hh\n",
    "        agents[\"state_match\"]=hh_state\n",
    "\n",
    "        #agents = match_state(agents, p_state)\n",
    "        #agents.fillna(0,inplace=True)\n",
    "\n",
    "        agents= agents[ (agents[\"location_match\"] > 0 ) & (agents[\"state_match\"] > 0)]\n",
    "        \n",
    "        \n",
    "    else:\n",
    "        for i in range(0, len(agents)):\n",
    "            hh.append(np.intersect1d(agents[\"locations\"][i], p_user_locations).shape[0])\n",
    "        \n",
    "        agents[\"location_match\"]=hh\n",
    "        agents= agents[ (agents[\"location_match\"] > 0 )]\n",
    "        \n",
    "    if agents.shape[0] <= 0:\n",
    "        error_flag=True\n",
    "        error_message='No realtor found in input location(s). Please try different location(s)'\n",
    "    \n",
    "    return agents, error_flag, error_message\n"
   ]
  },
  {
   "cell_type": "code",
   "execution_count": 144,
   "metadata": {},
   "outputs": [],
   "source": [
    "def match_state(agents, p_state):\n",
    "    \n",
    "    agents.loc[ (agents['state'].str.contains(p_state, na=False)) , 'state_match'] = 1 \n",
    "    return agents"
   ]
  },
  {
   "cell_type": "code",
   "execution_count": 145,
   "metadata": {},
   "outputs": [],
   "source": [
    "def match_beds(agents, p_min_beds, p_max_beds):\n",
    "    \n",
    "    agents.loc[ (p_min_beds >= agents.min_beds) & (p_max_beds <= agents.max_beds), 'beds_match'] = 1 \n",
    "    return agents"
   ]
  },
  {
   "cell_type": "code",
   "execution_count": 146,
   "metadata": {},
   "outputs": [],
   "source": [
    "def match_property_type(agents, p_property_type):\n",
    "    \n",
    "    agents.loc[ (agents['property_type'].str.contains(p_property_type, na=False)) , 'property_type_match'] = 1\n",
    "    \n",
    "    #agents.loc[ (agents.property_type == p_property_type), 'property_type_match'] = 1 \n",
    "    \n",
    "    return agents"
   ]
  },
  {
   "cell_type": "code",
   "execution_count": 147,
   "metadata": {},
   "outputs": [],
   "source": [
    "def match_price(agents, p_min_price, p_max_price):\n",
    "    \n",
    "    l_min_price = p_min_price + (p_min_price * 10)/100\n",
    "    l_max_price = p_min_price - (p_min_price * 10)/100\n",
    "\n",
    "    agents.loc[ (l_min_price >= agents.min_price) & (l_max_price <= agents.max_price), 'price_match'] = 1\n",
    "    return agents"
   ]
  },
  {
   "cell_type": "code",
   "execution_count": 148,
   "metadata": {},
   "outputs": [],
   "source": [
    "\n",
    "def validate_input_json(d):\n",
    "    validation_error = ''\n",
    "    validation_flag  = False\n",
    "    \n",
    "    # Global Variables\n",
    "    global g_user_id_flag, g_user_key_flag, g_locations_flag, g_state_flag, g_min_price_flag, g_max_price_flag, g_min_beds_flag, g_max_beds_flag, g_property_flag\n",
    "    g_user_id_flag, g_user_key_flag, g_locations_flag, g_state_flag, g_min_price_flag, g_max_price_flag, g_min_beds_flag, g_max_beds_flag, g_property_flag= \\\n",
    "    False,False,False,False,False,False,False,False,False\n",
    "    \n",
    "    global g_user_id_value, g_user_key_value, g_locations_value, g_state_value, g_min_price_value, g_max_price_value, g_min_beds_value, g_max_beds_value, g_property_value\n",
    "    g_user_id_value, g_user_key_value, g_locations_value, g_state_value, g_min_price_value, g_max_price_value, g_min_beds_value, g_max_beds_value, g_property_value= \\\n",
    "    '','','','',0,0,0,0,''\n",
    "\n",
    "    for i in d.keys():\n",
    "        j=i\n",
    "        i=i.lower()\n",
    "        if 'user_id' ==i:\n",
    "            g_user_id_flag=True\n",
    "            g_user_id_value = d[j]\n",
    "        elif 'user_key' == i:\n",
    "            g_user_key_flag=True\n",
    "            g_user_key_value = d[j]\n",
    "        elif 'min_price' == i:\n",
    "            g_min_price_flag=True\n",
    "            g_min_price_value = d[j]\n",
    "        elif 'max_price' == i:\n",
    "            g_max_price_flag=True\n",
    "            g_max_price_value = d[j]\n",
    "        elif 'locations' == i:\n",
    "            g_locations_flag=True\n",
    "            g_locations_value = d[j]\n",
    "        elif 'state' == i:\n",
    "            g_state_flag=True\n",
    "            g_state_value = d[j]\n",
    "        elif 'property_type' == i:\n",
    "            g_property_flag=True  \n",
    "            g_property_value = d[j].strip().lower()\n",
    "        elif 'min_beds' == i:\n",
    "            g_min_beds_flag=True \n",
    "            g_min_beds_value = d[j]\n",
    "        elif 'max_beds' == i:\n",
    "            g_max_beds_flag=True \n",
    "            g_max_beds_value = d[j]\n",
    "        else:\n",
    "            validation_error = \"Invalid key found in input: \"+ i + \" \"\n",
    "            validation_flag = True\n",
    "            \n",
    "    if ( (g_user_id_flag is False) | (g_user_key_flag is False)):\n",
    "        validation_error = 'User_Id and (or) User_Key is missing'\n",
    "        validation_flag = True\n",
    "        return validation_error, validation_flag\n",
    "    else:\n",
    "        authenticate = pd.read_json('gs://nest-agents/authentication.json',orient='columns')\n",
    "        if (( authenticate['userid'].where( (authenticate['userid'] == g_user_id_value) & (authenticate['userkey'] == g_user_key_value))\n",
    "           ).dropna().shape[0]\n",
    "           ) == 0:\n",
    "            validation_error = 'Invalid User_Id and (or) User_Key - Access denied! '\n",
    "            validation_flag = True\n",
    "            return validation_error, validation_flag\n",
    "        \n",
    "    \n",
    "    if g_min_price_flag is False:\n",
    "        validation_error= validation_error + 'min_price key is missing ; '\n",
    "        validation_flag = True\n",
    "        \n",
    "    if g_max_price_flag is False:\n",
    "        validation_error= validation_error + 'max_price key is missing ; '\n",
    "        validation_flag = True\n",
    "        \n",
    "    if g_locations_flag is False:\n",
    "        validation_error= validation_error + 'locations key is missing ; '\n",
    "        validation_flag = True\n",
    "    \n",
    "    \n",
    "    return validation_error, validation_flag"
   ]
  },
  {
   "cell_type": "code",
   "execution_count": 149,
   "metadata": {},
   "outputs": [
    {
     "name": "stdout",
     "output_type": "stream",
     "text": [
      "e87c712c-112d-11ea-ac32-42010a8a0004\n"
     ]
    }
   ],
   "source": [
    "import uuid \n",
    "print (uuid.uuid1()) "
   ]
  },
  {
   "cell_type": "code",
   "execution_count": 150,
   "metadata": {},
   "outputs": [],
   "source": [
    "import json\n",
    "\n",
    "\n",
    "\n",
    "#data='{\"user_id\":\"nestready\",\"user_key\":\"b942c5ec-0f97-11ea-9fd7-42010a8a0004\",\"locations\":[\"new-york\"], \"state\":[\"\"],\"min_price\":95000,\"max_price\":385000, \"min_beds\":2, \"max_beds\":3, \"property_type\":\"townhouse\"}'\n",
    "\n",
    "data='{\"user_id\":\"nestready\",\"user_key\":\"b942c5ec-0f97-11ea-9fd7-42010a8a0004\",\"locations\":\"pike\",\"state\":\"MS\",\"min_price\":5000,\"max_price\":385000, \"min_beds\":1, \"max_beds\":4, \"property_type\":\"Other\"}'\n",
    "\n",
    "\n",
    "request_json = json.loads(data)"
   ]
  },
  {
   "cell_type": "code",
   "execution_count": 151,
   "metadata": {},
   "outputs": [],
   "source": [
    "authenticate = pd.read_json('gs://nest-agents/authentication.json',orient='columns')"
   ]
  },
  {
   "cell_type": "code",
   "execution_count": 152,
   "metadata": {},
   "outputs": [
    {
     "data": {
      "text/html": [
       "<div>\n",
       "<style scoped>\n",
       "    .dataframe tbody tr th:only-of-type {\n",
       "        vertical-align: middle;\n",
       "    }\n",
       "\n",
       "    .dataframe tbody tr th {\n",
       "        vertical-align: top;\n",
       "    }\n",
       "\n",
       "    .dataframe thead th {\n",
       "        text-align: right;\n",
       "    }\n",
       "</style>\n",
       "<table border=\"1\" class=\"dataframe\">\n",
       "  <thead>\n",
       "    <tr style=\"text-align: right;\">\n",
       "      <th></th>\n",
       "      <th>userid</th>\n",
       "      <th>userkey</th>\n",
       "    </tr>\n",
       "  </thead>\n",
       "  <tbody>\n",
       "    <tr>\n",
       "      <td>0</td>\n",
       "      <td>nestready</td>\n",
       "      <td>b942c5ec-0f97-11ea-9fd7-42010a8a0004</td>\n",
       "    </tr>\n",
       "    <tr>\n",
       "      <td>1</td>\n",
       "      <td>nestready-temp</td>\n",
       "      <td>b942c5ec-0f97-11ea-9fd7-42010a8a00041</td>\n",
       "    </tr>\n",
       "  </tbody>\n",
       "</table>\n",
       "</div>"
      ],
      "text/plain": [
       "           userid                                userkey\n",
       "0  nestready       b942c5ec-0f97-11ea-9fd7-42010a8a0004 \n",
       "1  nestready-temp  b942c5ec-0f97-11ea-9fd7-42010a8a00041"
      ]
     },
     "execution_count": 152,
     "metadata": {},
     "output_type": "execute_result"
    }
   ],
   "source": [
    "authenticate"
   ]
  },
  {
   "cell_type": "code",
   "execution_count": 153,
   "metadata": {},
   "outputs": [
    {
     "data": {
      "text/plain": [
       "('', False)"
      ]
     },
     "execution_count": 153,
     "metadata": {},
     "output_type": "execute_result"
    }
   ],
   "source": [
    "\n",
    "error_message, error_flag =validate_input_json(request_json)\n",
    "error_message, error_flag"
   ]
  },
  {
   "cell_type": "code",
   "execution_count": 154,
   "metadata": {},
   "outputs": [
    {
     "data": {
      "text/plain": [
       "(True, True, True, True, True, True, True, True, True)"
      ]
     },
     "execution_count": 154,
     "metadata": {},
     "output_type": "execute_result"
    }
   ],
   "source": [
    "g_user_id_flag, g_user_key_flag, g_locations_flag, g_state_flag, g_min_price_flag, g_max_price_flag, g_min_beds_flag, g_max_beds_flag, g_property_flag"
   ]
  },
  {
   "cell_type": "code",
   "execution_count": 155,
   "metadata": {},
   "outputs": [
    {
     "data": {
      "text/plain": [
       "('nestready',\n",
       " 'b942c5ec-0f97-11ea-9fd7-42010a8a0004',\n",
       " 'pike',\n",
       " 'MS',\n",
       " 5000,\n",
       " 385000,\n",
       " 1,\n",
       " 4,\n",
       " 'other')"
      ]
     },
     "execution_count": 155,
     "metadata": {},
     "output_type": "execute_result"
    }
   ],
   "source": [
    "g_user_id_value, g_user_key_value, g_locations_value, g_state_value, g_min_price_value, g_max_price_value, g_min_beds_value, g_max_beds_value, g_property_value\n",
    "   "
   ]
  },
  {
   "cell_type": "code",
   "execution_count": 156,
   "metadata": {},
   "outputs": [
    {
     "name": "stdout",
     "output_type": "stream",
     "text": [
      "Validation Passed\n"
     ]
    }
   ],
   "source": [
    "# Json is missing one or more mandatory parameters | RETURN WITH ERROR MESSAGE\n",
    "\n",
    "if error_flag:\n",
    "    error={'error_message':[error_message]}\n",
    "    print(pd.DataFrame(data=error).to_json(orient=\"records\"))\n",
    "        \n",
    "else:\n",
    "    print(\"Validation Passed\")"
   ]
  },
  {
   "cell_type": "code",
   "execution_count": 157,
   "metadata": {},
   "outputs": [],
   "source": [
    "\n",
    "j_user_locations=[]\n",
    "j_user_states=[]\n",
    "regex = re.compile(r'[^\\s\\w]')\n",
    "\n",
    "if (isinstance(g_locations_value,list)):\n",
    "    for i in g_locations_value:\n",
    "        j_user_locations.append(i.replace('-',' ').strip().lower())\n",
    "elif(isinstance(g_locations_value,str)):\n",
    "     j_user_locations.append(g_locations_value.replace('-',' ').strip().lower())\n",
    "    \n",
    "else:\n",
    "    error={'error_message':[\"Invalid locations type, must be str or list\"]}\n",
    "    print(pd.DataFrame(data=error).to_json(orient=\"records\"))"
   ]
  },
  {
   "cell_type": "code",
   "execution_count": 158,
   "metadata": {},
   "outputs": [],
   "source": [
    "if (isinstance(g_state_value,list)):\n",
    "    for i in g_state_value:\n",
    "        j_user_states.append(i.replace('-',' ').strip().upper())\n",
    "elif(isinstance(g_state_value,str)):\n",
    "     j_user_states.append(g_state_value.replace('-',' ').strip().upper())\n",
    "    \n",
    "else:\n",
    "    error={'error_message':[\"Invalid state type, must be str or list\"]}\n",
    "    print(pd.DataFrame(data=error).to_json(orient=\"records\"))"
   ]
  },
  {
   "cell_type": "code",
   "execution_count": 159,
   "metadata": {},
   "outputs": [
    {
     "data": {
      "text/plain": [
       "(['pike'], ['MS'])"
      ]
     },
     "execution_count": 159,
     "metadata": {},
     "output_type": "execute_result"
    }
   ],
   "source": [
    "j_user_locations,j_user_states"
   ]
  },
  {
   "cell_type": "code",
   "execution_count": 160,
   "metadata": {},
   "outputs": [
    {
     "data": {
      "text/plain": [
       "('pike', 'MS')"
      ]
     },
     "execution_count": 160,
     "metadata": {},
     "output_type": "execute_result"
    }
   ],
   "source": [
    "j_user_locations[0],j_user_states[0]"
   ]
  },
  {
   "cell_type": "code",
   "execution_count": 161,
   "metadata": {},
   "outputs": [
    {
     "data": {
      "text/plain": [
       "('pike', 'MS', True)"
      ]
     },
     "execution_count": 161,
     "metadata": {},
     "output_type": "execute_result"
    }
   ],
   "source": [
    "j_user_locations[0],g_state_value,g_state_flag"
   ]
  },
  {
   "cell_type": "code",
   "execution_count": 162,
   "metadata": {},
   "outputs": [],
   "source": [
    "agents=load_agents()"
   ]
  },
  {
   "cell_type": "code",
   "execution_count": 163,
   "metadata": {},
   "outputs": [
    {
     "data": {
      "text/html": [
       "<div>\n",
       "<style scoped>\n",
       "    .dataframe tbody tr th:only-of-type {\n",
       "        vertical-align: middle;\n",
       "    }\n",
       "\n",
       "    .dataframe tbody tr th {\n",
       "        vertical-align: top;\n",
       "    }\n",
       "\n",
       "    .dataframe thead th {\n",
       "        text-align: right;\n",
       "    }\n",
       "</style>\n",
       "<table border=\"1\" class=\"dataframe\">\n",
       "  <thead>\n",
       "    <tr style=\"text-align: right;\">\n",
       "      <th></th>\n",
       "      <th>Unnamed: 0</th>\n",
       "      <th>agent_name</th>\n",
       "      <th>agent_phone</th>\n",
       "      <th>agent_email</th>\n",
       "      <th>agent_office</th>\n",
       "      <th>agent_office_id</th>\n",
       "      <th>agent_office_phone</th>\n",
       "      <th>agent_office_email</th>\n",
       "      <th>properties_count</th>\n",
       "      <th>min_beds</th>\n",
       "      <th>max_beds</th>\n",
       "      <th>min_price</th>\n",
       "      <th>max_price</th>\n",
       "      <th>property_type</th>\n",
       "      <th>areaServed</th>\n",
       "      <th>state</th>\n",
       "    </tr>\n",
       "  </thead>\n",
       "  <tbody>\n",
       "    <tr>\n",
       "      <td>91254</td>\n",
       "      <td>91254</td>\n",
       "      <td>Shane Wooten</td>\n",
       "      <td>318-812-7653</td>\n",
       "      <td>wshanewooten@gmail.com</td>\n",
       "      <td>Keller Williams Parishwide</td>\n",
       "      <td>243</td>\n",
       "      <td>318-812-7653</td>\n",
       "      <td>ralph@ralphmccurdy.net</td>\n",
       "      <td>45</td>\n",
       "      <td>0</td>\n",
       "      <td>4</td>\n",
       "      <td>24900</td>\n",
       "      <td>419000</td>\n",
       "      <td>apartment,townhouse,single family detached</td>\n",
       "      <td>delhi,marion,oak grove,monroe,ouachita,grayson,madison,west carroll,sterlington,west monroe,morehouse,caldwell,union</td>\n",
       "      <td>LA</td>\n",
       "    </tr>\n",
       "  </tbody>\n",
       "</table>\n",
       "</div>"
      ],
      "text/plain": [
       "       Unnamed: 0    agent_name   agent_phone             agent_email                agent_office agent_office_id agent_office_phone      agent_office_email  properties_count  min_beds  max_beds  min_price  max_price                               property_type                                                                                                            areaServed state\n",
       "91254  91254       Shane Wooten  318-812-7653  wshanewooten@gmail.com  Keller Williams Parishwide  243             318-812-7653       ralph@ralphmccurdy.net  45                0         4         24900      419000     apartment,townhouse,single family detached  delhi,marion,oak grove,monroe,ouachita,grayson,madison,west carroll,sterlington,west monroe,morehouse,caldwell,union  LA  "
      ]
     },
     "execution_count": 163,
     "metadata": {},
     "output_type": "execute_result"
    }
   ],
   "source": [
    "agents[agents.agent_name=='Shane Wooten']"
   ]
  },
  {
   "cell_type": "code",
   "execution_count": 164,
   "metadata": {},
   "outputs": [],
   "source": [
    "if len(str((j_user_locations)).split(\",\")) > 1:\n",
    "    '''\n",
    "    call multiple locations match logic\n",
    "    '''\n",
    "    agents,error_flag,error_message= match_locations(agents, j_user_locations, g_state_value,g_state_flag)\n",
    "else:\n",
    "    '''\n",
    "    call one locations match logic\n",
    "    '''\n",
    "    agents,error_flag,error_message= match_locations_one(agents, j_user_locations,g_state_value,g_state_flag)"
   ]
  },
  {
   "cell_type": "code",
   "execution_count": 165,
   "metadata": {},
   "outputs": [],
   "source": [
    "if error_flag:\n",
    "    error={'error_message':[error_message]}\n",
    "    print(pd.DataFrame(data=error).to_json(orient=\"records\"))"
   ]
  },
  {
   "cell_type": "code",
   "execution_count": 166,
   "metadata": {},
   "outputs": [],
   "source": [
    "agents=match_price(agents, int(g_min_price_value), int(g_max_price_value))"
   ]
  },
  {
   "cell_type": "code",
   "execution_count": 167,
   "metadata": {},
   "outputs": [],
   "source": [
    "if g_property_flag:\n",
    "    agents=match_property_type(agents, g_property_value)\n",
    "else:\n",
    "    agents[\"property_type_match\"]=0"
   ]
  },
  {
   "cell_type": "code",
   "execution_count": 168,
   "metadata": {},
   "outputs": [],
   "source": [
    "if ( (g_min_beds_flag) & (g_max_beds_flag)):\n",
    "    \n",
    "    if (  (not isinstance(g_min_beds_value, (int))) | (not isinstance(g_max_beds_value, (int))) ):\n",
    "        error_message='min_beds and max_beds values must be INTEGERS.'\n",
    "        error={'error_message':[error_message]}\n",
    "        print(pd.DataFrame(data=error).to_json(orient=\"records\"))\n",
    "                \n",
    "    agents=match_beds(agents, int(g_min_beds_value), int(g_max_beds_value))\n",
    "else:\n",
    "    agents[\"beds_match\"]=0\n"
   ]
  },
  {
   "cell_type": "code",
   "execution_count": 169,
   "metadata": {},
   "outputs": [],
   "source": [
    "agents.fillna(0,inplace=True)"
   ]
  },
  {
   "cell_type": "code",
   "execution_count": 170,
   "metadata": {},
   "outputs": [
    {
     "data": {
      "text/plain": [
       "(5500.0, 346500.0)"
      ]
     },
     "execution_count": 170,
     "metadata": {},
     "output_type": "execute_result"
    }
   ],
   "source": [
    "g_min_price_value + (g_min_price_value * 10)/100, g_max_price_value - (g_max_price_value * 10)/100\n"
   ]
  },
  {
   "cell_type": "code",
   "execution_count": 171,
   "metadata": {},
   "outputs": [],
   "source": [
    "agents['score'] = agents.location_match + agents.price_match * .60 + agents.property_type_match * .30 + agents.beds_match  * .20"
   ]
  },
  {
   "cell_type": "code",
   "execution_count": 172,
   "metadata": {},
   "outputs": [],
   "source": [
    "#result = agents.nlargest(5,['score','properties_count'],keep='first')[{\"agent_name\",\"agent_phone\",\"agent_email\",\"agent_office_phone\",\"agent_office_email\",\"areaServed\",\"state\",\"properties_count\",\"score\",}]\n",
    "\n",
    "result = agents.nlargest(5,['score','properties_count'],keep='first')"
   ]
  },
  {
   "cell_type": "code",
   "execution_count": 173,
   "metadata": {},
   "outputs": [
    {
     "data": {
      "text/html": [
       "<div>\n",
       "<style scoped>\n",
       "    .dataframe tbody tr th:only-of-type {\n",
       "        vertical-align: middle;\n",
       "    }\n",
       "\n",
       "    .dataframe tbody tr th {\n",
       "        vertical-align: top;\n",
       "    }\n",
       "\n",
       "    .dataframe thead th {\n",
       "        text-align: right;\n",
       "    }\n",
       "</style>\n",
       "<table border=\"1\" class=\"dataframe\">\n",
       "  <thead>\n",
       "    <tr style=\"text-align: right;\">\n",
       "      <th></th>\n",
       "      <th>Unnamed: 0</th>\n",
       "      <th>agent_name</th>\n",
       "      <th>agent_phone</th>\n",
       "      <th>agent_email</th>\n",
       "      <th>agent_office</th>\n",
       "      <th>agent_office_id</th>\n",
       "      <th>agent_office_phone</th>\n",
       "      <th>agent_office_email</th>\n",
       "      <th>properties_count</th>\n",
       "      <th>min_beds</th>\n",
       "      <th>max_beds</th>\n",
       "      <th>min_price</th>\n",
       "      <th>max_price</th>\n",
       "      <th>property_type</th>\n",
       "      <th>areaServed</th>\n",
       "      <th>state</th>\n",
       "      <th>location_match</th>\n",
       "      <th>price_match</th>\n",
       "      <th>property_type_match</th>\n",
       "      <th>beds_match</th>\n",
       "      <th>score</th>\n",
       "    </tr>\n",
       "  </thead>\n",
       "  <tbody>\n",
       "    <tr>\n",
       "      <td>82379</td>\n",
       "      <td>82379</td>\n",
       "      <td>Ralph Harvey</td>\n",
       "      <td>855-456-4945</td>\n",
       "      <td>0</td>\n",
       "      <td>Listwithfreedom.Com Inc</td>\n",
       "      <td>GLISTFREE01</td>\n",
       "      <td>855-456-4945</td>\n",
       "      <td>0</td>\n",
       "      <td>294</td>\n",
       "      <td>0</td>\n",
       "      <td>9</td>\n",
       "      <td>20000</td>\n",
       "      <td>3275000</td>\n",
       "      <td>apartment,others,townhouse,single family detached</td>\n",
       "      <td>gadsden,hall,oak ridge,hendersonville,shallotte,lake wales,warner robins,walton,atlanta,collier,mc adenville,tucker,valrico,robertson,nassau,prattville,panama city,indian river,hutchinson island,daytona beach shores,clarksville,acworth,biloxi,ocklawaha,melbourne beach,enterprise,okeechobee,palm bay,pike road,jefferson,brentwood,chilton,mebane,gibsonville,elmore,gilmer,social circle,pike,st lucie,summerfield,saucier,madison,gulf,birmingham,norcross,cape canaveral,forrest,johnston,quitman,watertown,houston,miami dade,north fort myers,citrus,volusia,ruskin,vinemont,wake,iredell,lake wylie,homestead,titusville,hernando beach,gainesville,murray,north myrtle beach,estero,san antonio,hilton head island,daphne,fulton,haywood,canton,fernandina beach,pass christian,horry,dacula,greenville,bluffton,zebulon,lynn haven,rutherford,montgomery,shelby,fort myers,clemmons,cary,gastonia,mecklenburg,etowah,meridian,guntersville,milton,richland,wilson,sebastian,davidson,st helena is,columbia,knoxville,hattiesburg,thompsons station,clanton,lincoln,woodruff,pelzer,coffee,fayetteville,fort meade,chatsworth,pasco,pender,murfreesboro,lee,baldwin,cape coral,louisville,orange,tega cay,punta gorda,daytona beach,sumner,loudon,newton,fayette,clermont,morgan,durham,conyers,tuscaloosa,macon,anderson,denver,greensboro,orlando,carroll,polk,statesville,heidelberg,paulding,buford,pittsboro,port charlotte,centerville,beaufort,new smyrna beach,carrollton,manatee,mauldin,cornelius,murrells inlet,douglasville,hoover,mooresville,muscogee,greene,towns,tazewell,hillsborough,bibb,wilmington,union,winston salem,dyer,ormond beach,flowery branch,gurley,ocala,dallas,gibsonton,alamance,altamont,bonita springs,elberta,fort mill,asheboro,ridgeland,clinch,gautier,brunswick,citrus springs,spring hill,washburn,charlotte,bulloch,geneva,guilford,pawleys island,asheville,maury,marshville,spartanburg,winter haven,harrison,yancey,maryville,statesboro,senoia,marco island,naples,gulfport,rockledge,randolph,hickman,mount pleasant,jones,panama city beach,easley,blount,grundy,wetumpka,buncombe,de kalb,henderson,myrtle beach,crossville,bay,clover,pfafftown,columbus,brevard,marietta,melbourne,bradenton,pinellas,southport,old hickory,lauderdale,raleigh,tarpon springs,georgetown,forsyth,orange beach,lamar,port st joe,smyrna,hiawassee,knox,gwinnett,lawrenceville,vero beach,benton,homerville,autauga,coweta,st johns,alachua,nashville,gulf shores,chatham,york,anniston,weaverville,greenbrier,dandridge,marshall,hernando,pelham,citra,st augustine,colfax,burlington,pickens,cumberland,rocky point,cobb,jackson,grainger,chapel hill,dothan,homewood,wartrace,bedford,claiborne,gaston,high point,winter garden,newnan,calhoun,cullman,jasper,new hanover,windermere,rockdale,williamson,ellijay,clyde,st petersburg,marion,winter park,bolivia,molena,seminole,weeki wachee,calabash,gallatin,kernersville,cumming,limestone,dyersburg,burnsville,loganville</td>\n",
       "      <td>NC,GA,AL,TN,FL,SC,MS</td>\n",
       "      <td>1.0</td>\n",
       "      <td>0.0</td>\n",
       "      <td>1.0</td>\n",
       "      <td>1.0</td>\n",
       "      <td>1.5</td>\n",
       "    </tr>\n",
       "    <tr>\n",
       "      <td>17907</td>\n",
       "      <td>17907</td>\n",
       "      <td>Christopher Carr</td>\n",
       "      <td>610-326-2414</td>\n",
       "      <td>support@simplechoicerealty.com</td>\n",
       "      <td>Simple Choice Realty, Inc.</td>\n",
       "      <td>SMPLCHCE</td>\n",
       "      <td>610-326-2414</td>\n",
       "      <td>support@simplechoicerealty.com</td>\n",
       "      <td>154</td>\n",
       "      <td>0</td>\n",
       "      <td>7</td>\n",
       "      <td>37000</td>\n",
       "      <td>1775000</td>\n",
       "      <td>apartment,townhouse,single family detached</td>\n",
       "      <td>shavertown,mcmurray,clifton heights,queen annes,middletown,hockessin,westmoreland,dauphin,beaver falls,allison park,sellersville,baltimore,bucks,allegheny,mars,pike,phoenixville,gibsonia,wrightsville,upper darby,emmaus,new castle,ephrata,west chester,cecil,pulaski,bradford,berks,montgomery,schwenksville,camp hill,yeadon,rose valley,baltimore city,bridgeville,reisterstown,center valley,lancaster,shrewsbury,prince frederick,lawrence,potomac,north east,north versailles,harrisburg,braddock,herminie,tafton,mc kees rocks,parkesburg,saylorsburg,north wales,greensboro,kent,carroll,verona,monroe,carbon,clarksburg,mechanicsburg,calvert,milford,south bethany,hershey,armstrong,wilmington,silver spring,newtown,deale,east stroudsburg,abington,irwin,cranberry twp,royersford,stevensville,bethesda,wayne,venetia,lehigh,boyers,mckean,norristown,centreville,greensburg,freeport,forks twp,rockville,garnet valley,luzerne,prince georges,flourtown,downingtown,green lane,langhorne,malvern,springfield,manheim,washington,tobyhanna,easton,philadelphia,macungie,douglassville,lansdowne,camden wyoming,pittsburgh,york,weatherly,anne arundel,bryn mawr,adelphi,cumberland,mount wolf,sussex,butler,lititz,finleyville,orwigsburg,levittown,canonsburg,caroline,delaware,schuylkill,chester,morrisville,greenbelt,rydal,northampton,beaver</td>\n",
       "      <td>PA,DE,MD</td>\n",
       "      <td>1.0</td>\n",
       "      <td>0.0</td>\n",
       "      <td>0.0</td>\n",
       "      <td>1.0</td>\n",
       "      <td>1.2</td>\n",
       "    </tr>\n",
       "    <tr>\n",
       "      <td>24263</td>\n",
       "      <td>24263</td>\n",
       "      <td>David Sweeney</td>\n",
       "      <td>866-807-9087</td>\n",
       "      <td>info@usrealty.com</td>\n",
       "      <td>USRealty.com LLP</td>\n",
       "      <td>HPADCOM</td>\n",
       "      <td>866-807-9087</td>\n",
       "      <td>0</td>\n",
       "      <td>110</td>\n",
       "      <td>0</td>\n",
       "      <td>7</td>\n",
       "      <td>12900</td>\n",
       "      <td>1400000</td>\n",
       "      <td>apartment,townhouse,single family detached</td>\n",
       "      <td>camden,salem,mountville,middlesex,berkeley,newark,medford,king william,westmoreland,somerset,hermitage,jefferson,newmanstown,baltimore,bucks,claymont,claysville,allegheny,reading,worcester,pike,mars,joppa,mckeesport,walnutport,glenolden,new castle,ephrata,mercer,morton,franklinville,west chester,hedgesville,petersburg city,west river,newport,prospect park,berks,connellsville,montgomery,monmouth,berlin,cranberry township,columbia,baltimore city,bridgeville,franklin,lancaster,fayetteville,dingmans ferry,dover,harford,glenshaw,hardyville,fayette,millvale,petersburg,kent,elmer,hancock,milford,west point,trafford,wilmington,atlantic highlands,vineland,natrona heights,wall township,st marys,haddon township,coraopolis,wayne,moorestown,ocean,loudoun,mount pleasant,toms river,lovettsville,lebanon,warren,prince georges,princeton junction,dillsburg,central city,langhorne,washington,philadelphia,smyrna,bala cynwyd,pittsburgh,blue ridge summit,york,laurel,anne arundel,sewell,great mills,burlington,gloucester,cumberland,new market,shepherdstown,dewey beach,sussex,butler,front royal,shenandoah,delaware,fauquier,chester,medford lakes,colts neck,northampton,marshall,district heights</td>\n",
       "      <td>PA,MD,MA,DE,NJ,WV,VA</td>\n",
       "      <td>1.0</td>\n",
       "      <td>0.0</td>\n",
       "      <td>0.0</td>\n",
       "      <td>1.0</td>\n",
       "      <td>1.2</td>\n",
       "    </tr>\n",
       "    <tr>\n",
       "      <td>17993</td>\n",
       "      <td>17993</td>\n",
       "      <td>Christopher George</td>\n",
       "      <td>248-763-4746</td>\n",
       "      <td>ckgeorge83@gmail.com</td>\n",
       "      <td>Advanced Realty Professionals</td>\n",
       "      <td>378085</td>\n",
       "      <td>248-763-4746</td>\n",
       "      <td>0</td>\n",
       "      <td>32</td>\n",
       "      <td>0</td>\n",
       "      <td>8</td>\n",
       "      <td>74900</td>\n",
       "      <td>889900</td>\n",
       "      <td>apartment,townhouse,single family detached</td>\n",
       "      <td>pen argyl,easton,coolbaugh twp,monroe,pocono lake,allentown,livingston,bangor,east bangor,wayne,dingmans ferry,bethlehem,lehigh,west bloomfield,pike,stroudsburg,walnutport,garden city,oakland,livonia,fowlerville,saylorsburg,kunkletown,northampton,pocono pines</td>\n",
       "      <td>PA,MI</td>\n",
       "      <td>1.0</td>\n",
       "      <td>0.0</td>\n",
       "      <td>0.0</td>\n",
       "      <td>1.0</td>\n",
       "      <td>1.2</td>\n",
       "    </tr>\n",
       "    <tr>\n",
       "      <td>70037</td>\n",
       "      <td>70037</td>\n",
       "      <td>Matthew Brown</td>\n",
       "      <td>817-900-3226</td>\n",
       "      <td>matthewbrowncb@gmail.com</td>\n",
       "      <td>Coldwell Banker Apex, REALTORS</td>\n",
       "      <td>CBAP25</td>\n",
       "      <td>817-900-3226</td>\n",
       "      <td>0</td>\n",
       "      <td>26</td>\n",
       "      <td>1</td>\n",
       "      <td>5</td>\n",
       "      <td>17500</td>\n",
       "      <td>3500000</td>\n",
       "      <td>apartment,townhouse,single family detached</td>\n",
       "      <td>grant,gibson,carrollton,swartz creek,miami,amboy,montgomery,denton,burt,crowley,kokomo,tarrant,shiawassee,fort worth,saginaw,davenport,howard,pike,north richland hills,cook,genesee,madison,owosso,galveston,germantown,jonesboro,alton,princeton,petersburg,chicago,cass,logansport,polk</td>\n",
       "      <td>TX,MD,MI,IN,FL,IL</td>\n",
       "      <td>1.0</td>\n",
       "      <td>0.0</td>\n",
       "      <td>0.0</td>\n",
       "      <td>1.0</td>\n",
       "      <td>1.2</td>\n",
       "    </tr>\n",
       "  </tbody>\n",
       "</table>\n",
       "</div>"
      ],
      "text/plain": [
       "       Unnamed: 0          agent_name   agent_phone                     agent_email                    agent_office agent_office_id agent_office_phone              agent_office_email  properties_count  min_beds  max_beds  min_price  max_price                                      property_type  \\\n",
       "82379  82379       Ralph Harvey        855-456-4945  0                               Listwithfreedom.Com Inc         GLISTFREE01     855-456-4945       0                               294               0         9         20000      3275000    apartment,others,townhouse,single family detached   \n",
       "17907  17907       Christopher Carr    610-326-2414  support@simplechoicerealty.com  Simple Choice Realty, Inc.      SMPLCHCE        610-326-2414       support@simplechoicerealty.com  154               0         7         37000      1775000    apartment,townhouse,single family detached          \n",
       "24263  24263       David Sweeney       866-807-9087  info@usrealty.com               USRealty.com LLP                HPADCOM         866-807-9087       0                               110               0         7         12900      1400000    apartment,townhouse,single family detached          \n",
       "17993  17993       Christopher George  248-763-4746  ckgeorge83@gmail.com            Advanced Realty Professionals   378085          248-763-4746       0                               32                0         8         74900      889900     apartment,townhouse,single family detached          \n",
       "70037  70037       Matthew Brown       817-900-3226  matthewbrowncb@gmail.com        Coldwell Banker Apex, REALTORS  CBAP25          817-900-3226       0                               26                1         5         17500      3500000    apartment,townhouse,single family detached          \n",
       "\n",
       "                                                                                                                                                                                                                                                                                                                                                                                                                                                                                                                                                                                                                                                                                                                                                                                                                                                                                                                                                                                                                                                                                                                                                                                                                                                                                                                                                                                                                                                                                                                                                                                                                                                                                                                                                                                                                                                                                                                                                                                                                                                                                                                                                                                                                                                                                                                                                                                                                                                                                                                                                                                                                                                                                                                                                                                                                                                                                                                                                                                                                             areaServed  \\\n",
       "82379  gadsden,hall,oak ridge,hendersonville,shallotte,lake wales,warner robins,walton,atlanta,collier,mc adenville,tucker,valrico,robertson,nassau,prattville,panama city,indian river,hutchinson island,daytona beach shores,clarksville,acworth,biloxi,ocklawaha,melbourne beach,enterprise,okeechobee,palm bay,pike road,jefferson,brentwood,chilton,mebane,gibsonville,elmore,gilmer,social circle,pike,st lucie,summerfield,saucier,madison,gulf,birmingham,norcross,cape canaveral,forrest,johnston,quitman,watertown,houston,miami dade,north fort myers,citrus,volusia,ruskin,vinemont,wake,iredell,lake wylie,homestead,titusville,hernando beach,gainesville,murray,north myrtle beach,estero,san antonio,hilton head island,daphne,fulton,haywood,canton,fernandina beach,pass christian,horry,dacula,greenville,bluffton,zebulon,lynn haven,rutherford,montgomery,shelby,fort myers,clemmons,cary,gastonia,mecklenburg,etowah,meridian,guntersville,milton,richland,wilson,sebastian,davidson,st helena is,columbia,knoxville,hattiesburg,thompsons station,clanton,lincoln,woodruff,pelzer,coffee,fayetteville,fort meade,chatsworth,pasco,pender,murfreesboro,lee,baldwin,cape coral,louisville,orange,tega cay,punta gorda,daytona beach,sumner,loudon,newton,fayette,clermont,morgan,durham,conyers,tuscaloosa,macon,anderson,denver,greensboro,orlando,carroll,polk,statesville,heidelberg,paulding,buford,pittsboro,port charlotte,centerville,beaufort,new smyrna beach,carrollton,manatee,mauldin,cornelius,murrells inlet,douglasville,hoover,mooresville,muscogee,greene,towns,tazewell,hillsborough,bibb,wilmington,union,winston salem,dyer,ormond beach,flowery branch,gurley,ocala,dallas,gibsonton,alamance,altamont,bonita springs,elberta,fort mill,asheboro,ridgeland,clinch,gautier,brunswick,citrus springs,spring hill,washburn,charlotte,bulloch,geneva,guilford,pawleys island,asheville,maury,marshville,spartanburg,winter haven,harrison,yancey,maryville,statesboro,senoia,marco island,naples,gulfport,rockledge,randolph,hickman,mount pleasant,jones,panama city beach,easley,blount,grundy,wetumpka,buncombe,de kalb,henderson,myrtle beach,crossville,bay,clover,pfafftown,columbus,brevard,marietta,melbourne,bradenton,pinellas,southport,old hickory,lauderdale,raleigh,tarpon springs,georgetown,forsyth,orange beach,lamar,port st joe,smyrna,hiawassee,knox,gwinnett,lawrenceville,vero beach,benton,homerville,autauga,coweta,st johns,alachua,nashville,gulf shores,chatham,york,anniston,weaverville,greenbrier,dandridge,marshall,hernando,pelham,citra,st augustine,colfax,burlington,pickens,cumberland,rocky point,cobb,jackson,grainger,chapel hill,dothan,homewood,wartrace,bedford,claiborne,gaston,high point,winter garden,newnan,calhoun,cullman,jasper,new hanover,windermere,rockdale,williamson,ellijay,clyde,st petersburg,marion,winter park,bolivia,molena,seminole,weeki wachee,calabash,gallatin,kernersville,cumming,limestone,dyersburg,burnsville,loganville   \n",
       "17907  shavertown,mcmurray,clifton heights,queen annes,middletown,hockessin,westmoreland,dauphin,beaver falls,allison park,sellersville,baltimore,bucks,allegheny,mars,pike,phoenixville,gibsonia,wrightsville,upper darby,emmaus,new castle,ephrata,west chester,cecil,pulaski,bradford,berks,montgomery,schwenksville,camp hill,yeadon,rose valley,baltimore city,bridgeville,reisterstown,center valley,lancaster,shrewsbury,prince frederick,lawrence,potomac,north east,north versailles,harrisburg,braddock,herminie,tafton,mc kees rocks,parkesburg,saylorsburg,north wales,greensboro,kent,carroll,verona,monroe,carbon,clarksburg,mechanicsburg,calvert,milford,south bethany,hershey,armstrong,wilmington,silver spring,newtown,deale,east stroudsburg,abington,irwin,cranberry twp,royersford,stevensville,bethesda,wayne,venetia,lehigh,boyers,mckean,norristown,centreville,greensburg,freeport,forks twp,rockville,garnet valley,luzerne,prince georges,flourtown,downingtown,green lane,langhorne,malvern,springfield,manheim,washington,tobyhanna,easton,philadelphia,macungie,douglassville,lansdowne,camden wyoming,pittsburgh,york,weatherly,anne arundel,bryn mawr,adelphi,cumberland,mount wolf,sussex,butler,lititz,finleyville,orwigsburg,levittown,canonsburg,caroline,delaware,schuylkill,chester,morrisville,greenbelt,rydal,northampton,beaver                                                                                                                                                                                                                                                                                                                                                                                                                                                                                                                                                                                                                                                                                                                                                                                                                                                                                                                                                                                                                                                                                                                                                                                                                                                                                                                                                                                                                                                                                                                                                                                                                                                                 \n",
       "24263  camden,salem,mountville,middlesex,berkeley,newark,medford,king william,westmoreland,somerset,hermitage,jefferson,newmanstown,baltimore,bucks,claymont,claysville,allegheny,reading,worcester,pike,mars,joppa,mckeesport,walnutport,glenolden,new castle,ephrata,mercer,morton,franklinville,west chester,hedgesville,petersburg city,west river,newport,prospect park,berks,connellsville,montgomery,monmouth,berlin,cranberry township,columbia,baltimore city,bridgeville,franklin,lancaster,fayetteville,dingmans ferry,dover,harford,glenshaw,hardyville,fayette,millvale,petersburg,kent,elmer,hancock,milford,west point,trafford,wilmington,atlantic highlands,vineland,natrona heights,wall township,st marys,haddon township,coraopolis,wayne,moorestown,ocean,loudoun,mount pleasant,toms river,lovettsville,lebanon,warren,prince georges,princeton junction,dillsburg,central city,langhorne,washington,philadelphia,smyrna,bala cynwyd,pittsburgh,blue ridge summit,york,laurel,anne arundel,sewell,great mills,burlington,gloucester,cumberland,new market,shepherdstown,dewey beach,sussex,butler,front royal,shenandoah,delaware,fauquier,chester,medford lakes,colts neck,northampton,marshall,district heights                                                                                                                                                                                                                                                                                                                                                                                                                                                                                                                                                                                                                                                                                                                                                                                                                                                                                                                                                                                                                                                                                                                                                                                                                                                                                                                                                                                                                                                                                                                                                                                                                                                                                                                                                                                                   \n",
       "17993  pen argyl,easton,coolbaugh twp,monroe,pocono lake,allentown,livingston,bangor,east bangor,wayne,dingmans ferry,bethlehem,lehigh,west bloomfield,pike,stroudsburg,walnutport,garden city,oakland,livonia,fowlerville,saylorsburg,kunkletown,northampton,pocono pines                                                                                                                                                                                                                                                                                                                                                                                                                                                                                                                                                                                                                                                                                                                                                                                                                                                                                                                                                                                                                                                                                                                                                                                                                                                                                                                                                                                                                                                                                                                                                                                                                                                                                                                                                                                                                                                                                                                                                                                                                                                                                                                                                                                                                                                                                                                                                                                                                                                                                                                                                                                                                                                                                                                                                                \n",
       "70037  grant,gibson,carrollton,swartz creek,miami,amboy,montgomery,denton,burt,crowley,kokomo,tarrant,shiawassee,fort worth,saginaw,davenport,howard,pike,north richland hills,cook,genesee,madison,owosso,galveston,germantown,jonesboro,alton,princeton,petersburg,chicago,cass,logansport,polk                                                                                                                                                                                                                                                                                                                                                                                                                                                                                                                                                                                                                                                                                                                                                                                                                                                                                                                                                                                                                                                                                                                                                                                                                                                                                                                                                                                                                                                                                                                                                                                                                                                                                                                                                                                                                                                                                                                                                                                                                                                                                                                                                                                                                                                                                                                                                                                                                                                                                                                                                                                                                                                                                                                                         \n",
       "\n",
       "                      state  location_match  price_match  property_type_match  beds_match  score  \n",
       "82379  NC,GA,AL,TN,FL,SC,MS  1.0             0.0          1.0                  1.0         1.5    \n",
       "17907  PA,DE,MD              1.0             0.0          0.0                  1.0         1.2    \n",
       "24263  PA,MD,MA,DE,NJ,WV,VA  1.0             0.0          0.0                  1.0         1.2    \n",
       "17993  PA,MI                 1.0             0.0          0.0                  1.0         1.2    \n",
       "70037  TX,MD,MI,IN,FL,IL     1.0             0.0          0.0                  1.0         1.2    "
      ]
     },
     "execution_count": 173,
     "metadata": {},
     "output_type": "execute_result"
    }
   ],
   "source": [
    "result"
   ]
  },
  {
   "cell_type": "code",
   "execution_count": 174,
   "metadata": {},
   "outputs": [],
   "source": [
    "result_json= result.to_json(orient='records')"
   ]
  },
  {
   "cell_type": "code",
   "execution_count": 175,
   "metadata": {},
   "outputs": [
    {
     "name": "stdout",
     "output_type": "stream",
     "text": [
      "[{\"Unnamed: 0\":82379,\"agent_name\":\"Ralph Harvey\",\"agent_phone\":\"855-456-4945\",\"agent_email\":0,\"agent_office\":\"Listwithfreedom.Com Inc\",\"agent_office_id\":\"GLISTFREE01\",\"agent_office_phone\":\"855-456-4945\",\"agent_office_email\":0,\"properties_count\":294,\"min_beds\":0,\"max_beds\":9,\"min_price\":20000,\"max_price\":3275000,\"property_type\":\"apartment,others,townhouse,single family detached\",\"areaServed\":\"gadsden,hall,oak ridge,hendersonville,shallotte,lake wales,warner robins,walton,atlanta,collier,mc adenville,tucker,valrico,robertson,nassau,prattville,panama city,indian river,hutchinson island,daytona beach shores,clarksville,acworth,biloxi,ocklawaha,melbourne beach,enterprise,okeechobee,palm bay,pike road,jefferson,brentwood,chilton,mebane,gibsonville,elmore,gilmer,social circle,pike,st lucie,summerfield,saucier,madison,gulf,birmingham,norcross,cape canaveral,forrest,johnston,quitman,watertown,houston,miami dade,north fort myers,citrus,volusia,ruskin,vinemont,wake,iredell,lake wylie,homestead,titusville,hernando beach,gainesville,murray,north myrtle beach,estero,san antonio,hilton head island,daphne,fulton,haywood,canton,fernandina beach,pass christian,horry,dacula,greenville,bluffton,zebulon,lynn haven,rutherford,montgomery,shelby,fort myers,clemmons,cary,gastonia,mecklenburg,etowah,meridian,guntersville,milton,richland,wilson,sebastian,davidson,st helena is,columbia,knoxville,hattiesburg,thompsons station,clanton,lincoln,woodruff,pelzer,coffee,fayetteville,fort meade,chatsworth,pasco,pender,murfreesboro,lee,baldwin,cape coral,louisville,orange,tega cay,punta gorda,daytona beach,sumner,loudon,newton,fayette,clermont,morgan,durham,conyers,tuscaloosa,macon,anderson,denver,greensboro,orlando,carroll,polk,statesville,heidelberg,paulding,buford,pittsboro,port charlotte,centerville,beaufort,new smyrna beach,carrollton,manatee,mauldin,cornelius,murrells inlet,douglasville,hoover,mooresville,muscogee,greene,towns,tazewell,hillsborough,bibb,wilmington,union,winston salem,dyer,ormond beach,flowery branch,gurley,ocala,dallas,gibsonton,alamance,altamont,bonita springs,elberta,fort mill,asheboro,ridgeland,clinch,gautier,brunswick,citrus springs,spring hill,washburn,charlotte,bulloch,geneva,guilford,pawleys island,asheville,maury,marshville,spartanburg,winter haven,harrison,yancey,maryville,statesboro,senoia,marco island,naples,gulfport,rockledge,randolph,hickman,mount pleasant,jones,panama city beach,easley,blount,grundy,wetumpka,buncombe,de kalb,henderson,myrtle beach,crossville,bay,clover,pfafftown,columbus,brevard,marietta,melbourne,bradenton,pinellas,southport,old hickory,lauderdale,raleigh,tarpon springs,georgetown,forsyth,orange beach,lamar,port st joe,smyrna,hiawassee,knox,gwinnett,lawrenceville,vero beach,benton,homerville,autauga,coweta,st johns,alachua,nashville,gulf shores,chatham,york,anniston,weaverville,greenbrier,dandridge,marshall,hernando,pelham,citra,st augustine,colfax,burlington,pickens,cumberland,rocky point,cobb,jackson,grainger,chapel hill,dothan,homewood,wartrace,bedford,claiborne,gaston,high point,winter garden,newnan,calhoun,cullman,jasper,new hanover,windermere,rockdale,williamson,ellijay,clyde,st petersburg,marion,winter park,bolivia,molena,seminole,weeki wachee,calabash,gallatin,kernersville,cumming,limestone,dyersburg,burnsville,loganville\",\"state\":\"NC,GA,AL,TN,FL,SC,MS\",\"location_match\":1.0,\"price_match\":0.0,\"property_type_match\":1.0,\"beds_match\":1.0,\"score\":1.5},{\"Unnamed: 0\":17907,\"agent_name\":\"Christopher Carr\",\"agent_phone\":\"610-326-2414\",\"agent_email\":\"support@simplechoicerealty.com\",\"agent_office\":\"Simple Choice Realty, Inc.\",\"agent_office_id\":\"SMPLCHCE\",\"agent_office_phone\":\"610-326-2414\",\"agent_office_email\":\"support@simplechoicerealty.com\",\"properties_count\":154,\"min_beds\":0,\"max_beds\":7,\"min_price\":37000,\"max_price\":1775000,\"property_type\":\"apartment,townhouse,single family detached\",\"areaServed\":\"shavertown,mcmurray,clifton heights,queen annes,middletown,hockessin,westmoreland,dauphin,beaver falls,allison park,sellersville,baltimore,bucks,allegheny,mars,pike,phoenixville,gibsonia,wrightsville,upper darby,emmaus,new castle,ephrata,west chester,cecil,pulaski,bradford,berks,montgomery,schwenksville,camp hill,yeadon,rose valley,baltimore city,bridgeville,reisterstown,center valley,lancaster,shrewsbury,prince frederick,lawrence,potomac,north east,north versailles,harrisburg,braddock,herminie,tafton,mc kees rocks,parkesburg,saylorsburg,north wales,greensboro,kent,carroll,verona,monroe,carbon,clarksburg,mechanicsburg,calvert,milford,south bethany,hershey,armstrong,wilmington,silver spring,newtown,deale,east stroudsburg,abington,irwin,cranberry twp,royersford,stevensville,bethesda,wayne,venetia,lehigh,boyers,mckean,norristown,centreville,greensburg,freeport,forks twp,rockville,garnet valley,luzerne,prince georges,flourtown,downingtown,green lane,langhorne,malvern,springfield,manheim,washington,tobyhanna,easton,philadelphia,macungie,douglassville,lansdowne,camden wyoming,pittsburgh,york,weatherly,anne arundel,bryn mawr,adelphi,cumberland,mount wolf,sussex,butler,lititz,finleyville,orwigsburg,levittown,canonsburg,caroline,delaware,schuylkill,chester,morrisville,greenbelt,rydal,northampton,beaver\",\"state\":\"PA,DE,MD\",\"location_match\":1.0,\"price_match\":0.0,\"property_type_match\":0.0,\"beds_match\":1.0,\"score\":1.2},{\"Unnamed: 0\":24263,\"agent_name\":\"David Sweeney\",\"agent_phone\":\"866-807-9087\",\"agent_email\":\"info@usrealty.com\",\"agent_office\":\"USRealty.com LLP\",\"agent_office_id\":\"HPADCOM\",\"agent_office_phone\":\"866-807-9087\",\"agent_office_email\":0,\"properties_count\":110,\"min_beds\":0,\"max_beds\":7,\"min_price\":12900,\"max_price\":1400000,\"property_type\":\"apartment,townhouse,single family detached\",\"areaServed\":\"camden,salem,mountville,middlesex,berkeley,newark,medford,king william,westmoreland,somerset,hermitage,jefferson,newmanstown,baltimore,bucks,claymont,claysville,allegheny,reading,worcester,pike,mars,joppa,mckeesport,walnutport,glenolden,new castle,ephrata,mercer,morton,franklinville,west chester,hedgesville,petersburg city,west river,newport,prospect park,berks,connellsville,montgomery,monmouth,berlin,cranberry township,columbia,baltimore city,bridgeville,franklin,lancaster,fayetteville,dingmans ferry,dover,harford,glenshaw,hardyville,fayette,millvale,petersburg,kent,elmer,hancock,milford,west point,trafford,wilmington,atlantic highlands,vineland,natrona heights,wall township,st marys,haddon township,coraopolis,wayne,moorestown,ocean,loudoun,mount pleasant,toms river,lovettsville,lebanon,warren,prince georges,princeton junction,dillsburg,central city,langhorne,washington,philadelphia,smyrna,bala cynwyd,pittsburgh,blue ridge summit,york,laurel,anne arundel,sewell,great mills,burlington,gloucester,cumberland,new market,shepherdstown,dewey beach,sussex,butler,front royal,shenandoah,delaware,fauquier,chester,medford lakes,colts neck,northampton,marshall,district heights\",\"state\":\"PA,MD,MA,DE,NJ,WV,VA\",\"location_match\":1.0,\"price_match\":0.0,\"property_type_match\":0.0,\"beds_match\":1.0,\"score\":1.2},{\"Unnamed: 0\":17993,\"agent_name\":\"Christopher George\",\"agent_phone\":\"248-763-4746\",\"agent_email\":\"ckgeorge83@gmail.com\",\"agent_office\":\"Advanced Realty Professionals\",\"agent_office_id\":\"378085\",\"agent_office_phone\":\"248-763-4746\",\"agent_office_email\":0,\"properties_count\":32,\"min_beds\":0,\"max_beds\":8,\"min_price\":74900,\"max_price\":889900,\"property_type\":\"apartment,townhouse,single family detached\",\"areaServed\":\"pen argyl,easton,coolbaugh twp,monroe,pocono lake,allentown,livingston,bangor,east bangor,wayne,dingmans ferry,bethlehem,lehigh,west bloomfield,pike,stroudsburg,walnutport,garden city,oakland,livonia,fowlerville,saylorsburg,kunkletown,northampton,pocono pines\",\"state\":\"PA,MI\",\"location_match\":1.0,\"price_match\":0.0,\"property_type_match\":0.0,\"beds_match\":1.0,\"score\":1.2},{\"Unnamed: 0\":70037,\"agent_name\":\"Matthew Brown\",\"agent_phone\":\"817-900-3226\",\"agent_email\":\"matthewbrowncb@gmail.com\",\"agent_office\":\"Coldwell Banker Apex, REALTORS\",\"agent_office_id\":\"CBAP25\",\"agent_office_phone\":\"817-900-3226\",\"agent_office_email\":0,\"properties_count\":26,\"min_beds\":1,\"max_beds\":5,\"min_price\":17500,\"max_price\":3500000,\"property_type\":\"apartment,townhouse,single family detached\",\"areaServed\":\"grant,gibson,carrollton,swartz creek,miami,amboy,montgomery,denton,burt,crowley,kokomo,tarrant,shiawassee,fort worth,saginaw,davenport,howard,pike,north richland hills,cook,genesee,madison,owosso,galveston,germantown,jonesboro,alton,princeton,petersburg,chicago,cass,logansport,polk\",\"state\":\"TX,MD,MI,IN,FL,IL\",\"location_match\":1.0,\"price_match\":0.0,\"property_type_match\":0.0,\"beds_match\":1.0,\"score\":1.2}]\n"
     ]
    }
   ],
   "source": [
    "print(result_json)"
   ]
  },
  {
   "cell_type": "code",
   "execution_count": 176,
   "metadata": {},
   "outputs": [],
   "source": [
    "t=[]"
   ]
  },
  {
   "cell_type": "code",
   "execution_count": null,
   "metadata": {},
   "outputs": [],
   "source": []
  },
  {
   "cell_type": "code",
   "execution_count": 177,
   "metadata": {},
   "outputs": [
    {
     "name": "stdout",
     "output_type": "stream",
     "text": [
      "[{\"score\":2.1,\"agent_name\":\"Ralph Harvey\",\"properties_count\":294,\"agent_office_email\":0,\"agent_office_phone\":\"855-456-4945\",\"agent_phone\":\"855-456-4945\",\"agent_office\":\"Listwithfreedom.Com Inc\",\"agent_email\":0},{\"score\":1.8,\"agent_name\":\"LARISSA S DEAN\",\"properties_count\":2,\"agent_office_email\":\"brentdrude@huntbrothers.com\",\"agent_office_phone\":\"985-345-3344\",\"agent_phone\":\"985-514-9742\",\"agent_office\":\"Real Living Bobby Drude & Associates\",\"agent_email\":\"ldean123@hotmail.com\"},{\"score\":1.6,\"agent_name\":\"ALAN J BRIDEVAUX\",\"properties_count\":3,\"agent_office_email\":\"abridevaux@aol.com\",\"agent_office_phone\":\"601-249-3400\",\"agent_phone\":\"601-249-8436\",\"agent_office\":\"Doug Rushing Realty, Inc.\",\"agent_email\":\"abridevaux@aol.com\"}]\n",
      "\n",
      "Second 2.0070879459381104\n"
     ]
    }
   ],
   "source": [
    "## Inference using Real time API\n",
    "\n",
    "\n",
    "\n",
    "## CURL COMMAND TO TEST THE API\n",
    "import time\n",
    "\n",
    "start_time = time.time()\n",
    "\n",
    "\n",
    "#!curl -X POST \"https://us-central1-nest-ml.cloudfunctions.net/find_realtor_v2\" -H \"Content-Type:application/json\" --data '{\"locations\":[\"boston\",\"dallas\",\"roxbury\",\"mckinney\",\"dover\",\"RoxburyCrossing\"],\"min_price\":220000,\"max_price\":9000000}'\n",
    "\n",
    "!curl -X POST \"https://us-central1-nest-ml.cloudfunctions.net/find_realtor_v2\" -H \"Content-Type:application/json\" --data '{\"user_id\":\"nestready\",\"user_key\":\"b942c5ec-0f97-11ea-9fd7-42010a8a0004\",\"locations\":\"pike\",\"state\":\"MS\",\"min_price\":95000,\"max_price\":385000, \"min_beds\":2, \"max_beds\":3, \"property_type\":\"townhouse\"}'\n",
    "\n",
    "\n",
    "\n",
    "t.append(time.time() - start_time)\n",
    "print(\"\\n\")\n",
    "print(\"Second\", time.time() - start_time)"
   ]
  },
  {
   "cell_type": "code",
   "execution_count": null,
   "metadata": {},
   "outputs": [],
   "source": []
  }
 ],
 "metadata": {
  "kernelspec": {
   "display_name": "Python 3",
   "language": "python",
   "name": "python3"
  },
  "language_info": {
   "codemirror_mode": {
    "name": "ipython",
    "version": 3
   },
   "file_extension": ".py",
   "mimetype": "text/x-python",
   "name": "python",
   "nbconvert_exporter": "python",
   "pygments_lexer": "ipython3",
   "version": "3.5.3"
  }
 },
 "nbformat": 4,
 "nbformat_minor": 4
}
